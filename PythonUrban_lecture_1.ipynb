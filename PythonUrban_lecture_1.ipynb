{
  "nbformat": 4,
  "nbformat_minor": 0,
  "metadata": {
    "colab": {
      "provenance": [],
      "collapsed_sections": [
        "hsP2rxfp1ZC9",
        "87kjQwX4-yqA",
        "25y-kruonCok",
        "-TJufczZHgeQ",
        "L2IbAvElnCol",
        "2o7rsY1LT_sm",
        "2rUBKIZPVlrE",
        "7qmtghdyaPAz",
        "zsAfC0Amf8ni",
        "eHkB9hF2VQk5",
        "RqWzP2tm-kdq",
        "p0SbuoEpqHCb",
        "uV55Qyy7dZJQ",
        "wu6zYDnrtqzQ",
        "KiPo3mGYsguH",
        "5YCt08nOoIij",
        "ZPL5S6S_sguI",
        "O5VQlAhGsgub",
        "2FGw5lsWYOTJ",
        "wPEu5EUEsgum",
        "5qwg_WFnEAaE",
        "Z7g_kOk4Yzxi",
        "rbR51e8nySkw",
        "Tz4hpjVRsguh",
        "PqzLROPjQCCr",
        "G30j84MEsguw",
        "e9UgGzOzsguh",
        "qZIkuuJQOukJ",
        "ZCKKz7XEY7mY",
        "Y08ydeBO0-0R",
        "Rf6xls0cVHhj",
        "iYA2_046dsXo",
        "5SzVI6ojdQmI"
      ]
    },
    "kernelspec": {
      "name": "python3",
      "display_name": "Python 3"
    },
    "language_info": {
      "name": "python"
    }
  },
  "cells": [
    {
      "cell_type": "markdown",
      "metadata": {
        "id": "hsP2rxfp1ZC9"
      },
      "source": [
        "# Краткий обзор аспектов языка Python. Установка и настройка среды разработки"
      ]
    },
    {
      "cell_type": "markdown",
      "metadata": {
        "id": "87kjQwX4-yqA"
      },
      "source": [
        "## Интерпретаторы Python’а. Установка интерпретатора Python."
      ]
    },
    {
      "cell_type": "markdown",
      "metadata": {
        "id": "25y-kruonCok"
      },
      "source": [
        "### Версии Python"
      ]
    },
    {
      "cell_type": "markdown",
      "metadata": {
        "id": "QCpkBFRp-IW5"
      },
      "source": [
        "До начала 2020 года существовало две принципиально разные версии python.  \n",
        "Но Python версии 2 прекратил свою поддержку в январе 2020 году.  \n",
        "Последняя версия 2.7.18 была выпущена в апреле 2020. \n",
        "\n",
        "Актуальной версией python является **Python 3**.  \n",
        "Если у вас не стоит конкретной задачи, то однозначно выбирайте его."
      ]
    },
    {
      "cell_type": "markdown",
      "metadata": {
        "id": "-TJufczZHgeQ"
      },
      "source": [
        "### Плюсы и минусы Python\n"
      ]
    },
    {
      "cell_type": "markdown",
      "metadata": {
        "id": "Yp79Le9zHjxw"
      },
      "source": [
        "Как и у любого языка программирования, у Python есть свои плюсы и минусы. "
      ]
    },
    {
      "cell_type": "markdown",
      "metadata": {
        "id": "w-4g36_iIwpj"
      },
      "source": [
        "![](https://drive.google.com/uc?id=1vUa0DeofnXZvoMCjHgxfCVY-u2jac1d0)\n",
        "\n",
        "- ***Минусы*** - интерпретируемый\n",
        "\n",
        "- ***Плюсы***: \n",
        "    - Простой и человекочитабельный **синтаксис**.  \n",
        "    Это один из основных плюсов, которым python выделяется  \n",
        "    среди остальных языков программирования.  \n",
        "    Отлично подходит в качестве первого языка.\n",
        "    - **Многогранность**.  \n",
        "    Кроссплатформенный (Windows, Linux, Mac) и  \n",
        "    множество сфер применения начиная от программирования микроконтроллеров  \n",
        "    заканчивая алгоритмами машинного обучения и анализа данных.\n",
        "    - **Обилие дополнительных библиотек**.  \n",
        "    Богатая коллекция уже готовых решений неких задач другими программистами  \n",
        "    с подробной документацией (справочник, описывающий,  \n",
        "    как пользоваться языком программирования)."
      ]
    },
    {
      "cell_type": "markdown",
      "metadata": {
        "id": "q_1R33BYI9Or"
      },
      "source": [
        "В целом, Python это как автомобиль “на каждый день”.  \n",
        "Очень удобный и универсальный в использовании,  \n",
        "но проигрывает в скорости менее комфортным и быстрым суперкарам.  \n",
        "Вам не нужно очень долго учиться, сели и поехали. \n",
        "\n",
        "Уже через несколько занятий вы сможете писать  \n",
        "свои собственные полноценные программы.  \n",
        "Поэтому python является отличным языком программирования в качестве первого.\n",
        "![](https://drive.google.com/uc?id=1Vmf4EOI7_hzPxYSLwDx39jIZqSJsJrGb)"
      ]
    },
    {
      "cell_type": "markdown",
      "metadata": {
        "id": "L2IbAvElnCol"
      },
      "source": [
        "### Где найти Python?"
      ]
    },
    {
      "cell_type": "markdown",
      "metadata": {
        "id": "8aRZ0HJkPYdt"
      },
      "source": [
        "Официальный сайт [python.org](https://www.python.org/)"
      ]
    },
    {
      "cell_type": "markdown",
      "metadata": {
        "id": "2o7rsY1LT_sm"
      },
      "source": [
        "### Раздел \"About\""
      ]
    },
    {
      "cell_type": "markdown",
      "metadata": {
        "id": "9Xnpg-EBULUd"
      },
      "source": [
        "**Раздел \"About\"**\n",
        "- [“Applications”](https://www.python.org/about/apps/)\n",
        "- [“Getting Started”](https://www.python.org/about/gettingstarted/)\n",
        "\n",
        "![](https://drive.google.com/uc?id=1Vy4OOSIvatfxwm6qPeIpSGHBT02gQzmr)\n",
        "\n"
      ]
    },
    {
      "cell_type": "markdown",
      "metadata": {
        "id": "2rUBKIZPVlrE"
      },
      "source": [
        "### Раздел “Documentation”"
      ]
    },
    {
      "cell_type": "markdown",
      "metadata": {
        "id": "K_AlkBT_VqCq"
      },
      "source": [
        "**Раздел “Documentation”**\n",
        "- [“Beginner's Guide”](https://wiki.python.org/moin/BeginnersGuide) \n",
        "- [“Developer’s Guide”](https://devguide.python.org/)\n",
        "- [“PythonBooks”](https://wiki.python.org/moin/PythonBooks)\n",
        "\n",
        "![](https://drive.google.com/uc?id=16bKl6hUlYbp_XW86HVoPSdeevD1vCw6s)\n",
        "\n"
      ]
    },
    {
      "cell_type": "markdown",
      "metadata": {
        "id": "7qmtghdyaPAz"
      },
      "source": [
        "### Раздел \"Downloads\""
      ]
    },
    {
      "cell_type": "markdown",
      "metadata": {
        "id": "k5jQOtlHNvc3"
      },
      "source": [
        "Зачастую на Linux и MacOS python установлен на умолчанию.  \n",
        "На Windows он не стоит по умолчанию.\n",
        "\n",
        "Нет никаких ограничений, сколько версий python у вас может быть установлено.  \n",
        "Также нет никаких проблем если у вас будут установлен python 2 и 3 версий."
      ]
    },
    {
      "cell_type": "markdown",
      "metadata": {
        "id": "NY-HEaVXOC6O"
      },
      "source": [
        "Итак, скачать себе интерпретатор python можно с официального сайта  \n",
        "в разделе [“Downloads”](https://www.python.org/downloads/).  \n",
        "Если вам нужна какая-то специфическая версия,  \n",
        "то её можно найти во вкладке “All releases”.\n",
        "![](https://drive.google.com/uc?id=1_F0UM2Nxi2iKkWWS1KRhsNYM26_DfdEj)\n"
      ]
    },
    {
      "cell_type": "markdown",
      "metadata": {
        "id": "X7ytrzsb-uSs"
      },
      "source": [
        "Но и здесь существует несколько различных типов: \n",
        "- **Старые версии**, которые уже тоже закончили поддержку,  \n",
        "например версии меньше версии python 3.6, включительно.  \n",
        "Они постепенно перестают поддерживаться разработчиками,  \n",
        "а значит нет гарантий, что обнаруженные уязвимости и ошибки будут исправлены.\n",
        "\n",
        "- **Актуальные**, любая из версий 3.7, 3.8, 3.9, 3.10.  \n",
        "Постепенно ранние версии так же прекращают свою поддержку,  \n",
        "поэтому старайтесь пользоваться наиболее поздней из доступных версий.  \n",
        "В данном курсе будем пользоваться **версией python 3.10**.\n",
        "\n",
        "- **Версии, которые проходят тестирование** и готовятся к официальному выпуску.  \n",
        "Такие версии находятся в стадии разработки,  \n",
        "а следовательно подвержены возникновению большого  \n",
        "количества ошибок и несовместимостей.  \n",
        "Поэтому их не рекомендуется использовать в “боевых проектах”.\n",
        "\n",
        "***Примечание***: Актуальную [информацию](https://devguide.python.org/#status-of-python-branches) о всех версиях  \n",
        "можно узнать на официальном сайте Python.\n"
      ]
    },
    {
      "cell_type": "markdown",
      "metadata": {
        "id": "zsAfC0Amf8ni"
      },
      "source": [
        "## Знакомство со средами разработки."
      ]
    },
    {
      "cell_type": "markdown",
      "metadata": {
        "id": "3VQBA7Yogd6N"
      },
      "source": [
        "Программа на языке Python представляет собой  \n",
        "простой **текстовый файл с расширением .py**,  \n",
        "который содержит исходный код.  \n",
        "Далее этот файл нужно передать интерпретатору,  \n",
        "чтобы он выполнил описанные вами инструкции.\n",
        "\n",
        "Файл с исходным кодом на языке Python ещё называют **скриптом**.\n"
      ]
    },
    {
      "cell_type": "markdown",
      "metadata": {
        "id": "8nue7jdGjHHh"
      },
      "source": [
        "Для написания простейшей программы вам подойдет даже блокнот. \n",
        "\n",
        "Но куда удобнее писать код в специализированных программах.\n",
        "\n",
        "В нашем курсе мы будем использовать среду [colab](https://colab.research.google.com/)"
      ]
    },
    {
      "cell_type": "markdown",
      "metadata": {
        "id": "eHkB9hF2VQk5"
      },
      "source": [
        "## Краткий обзор аспектов языка (Дзен Python’а)."
      ]
    },
    {
      "cell_type": "markdown",
      "metadata": {
        "id": "ETO_weuJnCor"
      },
      "source": [
        "PEP (англ. Python Enhancement Proposal) - это [предложения](https://www.python.org/dev/peps/) по развитию питона.\n",
        "\n",
        "Процесс PEP является основным механизмом для предложения  \n",
        "**новых возможностей** и для **документирования** проектных решений,  \n",
        "которые прошли в Python.\n",
        "\n",
        "- PEP20\n",
        "- PEP8"
      ]
    },
    {
      "cell_type": "markdown",
      "metadata": {
        "id": "EhelUsD4nCor"
      },
      "source": [
        "### PEP20"
      ]
    },
    {
      "cell_type": "markdown",
      "metadata": {
        "id": "pxhO1dSrnCor"
      },
      "source": [
        "**PEP20** - [Дзен](https://www.python.org/dev/peps/pep-0020/) Python\n",
        "\n",
        "Разработчики языка Python придерживаются  \n",
        "определённой философии программирования,  \n",
        "называемой **«The Zen of Python»** («Дзен Питона», или «Дзен Пайтона»).\n",
        "\n",
        "В целом она подходит к программированию на любом языке."
      ]
    },
    {
      "cell_type": "code",
      "metadata": {
        "colab": {
          "base_uri": "https://localhost:8080/"
        },
        "outputId": "fc5f5931-a4a8-4d17-f122-f2d5a59d443e",
        "id": "RiZX2mUJnCor"
      },
      "source": [
        "# Её текст выдаётся интерпретатором Python по команде:\n",
        "import this"
      ],
      "execution_count": null,
      "outputs": [
        {
          "output_type": "stream",
          "name": "stdout",
          "text": [
            "The Zen of Python, by Tim Peters\n",
            "\n",
            "Beautiful is better than ugly.\n",
            "Explicit is better than implicit.\n",
            "Simple is better than complex.\n",
            "Complex is better than complicated.\n",
            "Flat is better than nested.\n",
            "Sparse is better than dense.\n",
            "Readability counts.\n",
            "Special cases aren't special enough to break the rules.\n",
            "Although practicality beats purity.\n",
            "Errors should never pass silently.\n",
            "Unless explicitly silenced.\n",
            "In the face of ambiguity, refuse the temptation to guess.\n",
            "There should be one-- and preferably only one --obvious way to do it.\n",
            "Although that way may not be obvious at first unless you're Dutch.\n",
            "Now is better than never.\n",
            "Although never is often better than *right* now.\n",
            "If the implementation is hard to explain, it's a bad idea.\n",
            "If the implementation is easy to explain, it may be a good idea.\n",
            "Namespaces are one honking great idea -- let's do more of those!\n"
          ]
        }
      ]
    },
    {
      "cell_type": "markdown",
      "metadata": {
        "id": "Z1hasKXHnCor"
      },
      "source": [
        "**Перевод «The Zen of Python»**\n",
        "\n",
        "1. Красивое лучше, чем уродливое.\n",
        "1. **Явное лучше, чем неявное.**\n",
        "1. **Простое лучше, чем сложное.**\n",
        "1. Сложное лучше, чем запутанное.\n",
        "1. Плоское лучше, чем вложенное.\n",
        "1. Разреженное лучше, чем плотное.\n",
        "1. **Читаемость имеет значение.**\n",
        "1. Особые случаи не настолько особые, чтобы нарушать правила.\n",
        "1. При этом практичность важнее безупречности.\n",
        "1. **Ошибки никогда не должны замалчиваться.**\n",
        "1. Если они не замалчиваются явно.\n",
        "1. Встретив двусмысленность, отбрось искушение угадать.\n",
        "1. Должен существовать один и, желательно, только один очевидный способ сделать это.\n",
        "1. Хотя он поначалу может быть и не очевиден, если вы не голландец.\n",
        "1. Сейчас лучше, чем никогда.\n",
        "1. Хотя никогда зачастую лучше, чем прямо сейчас.\n",
        "1. **Если реализацию сложно объяснить — идея плоха.**\n",
        "1. Если реализацию легко объяснить — идея, возможно, хороша.\n",
        "1. Пространства имён — отличная штука! Будем делать их больше!"
      ]
    },
    {
      "cell_type": "markdown",
      "metadata": {
        "id": "FVYN8TiMnCos"
      },
      "source": [
        "**\"Так их же 19!\" а PEP по счету 20???**\n",
        "\n",
        "В этом заключается философский подтекст -  \n",
        "Никакие правила не возводить в абсолют.  \n",
        "Здесь каждый может определить для себя свой принцип и будет прав."
      ]
    },
    {
      "cell_type": "markdown",
      "metadata": {
        "id": "zNTowxaynCos"
      },
      "source": [
        "### PEP8"
      ]
    },
    {
      "cell_type": "markdown",
      "metadata": {
        "id": "v8MKBWyxnCos"
      },
      "source": [
        "PEP8 - руководство по написанию кода на Python.\n",
        "- [английская версия](https://www.python.org/dev/peps/pep-0008/)\n",
        "- [русская версия](https://pythonworld.ru/osnovy/pep-8-rukovodstvo-po-napisaniyu-koda-na-python.html)\n",
        "\n",
        "Документ описывает соглашение о том,  \n",
        "как писать код для языка Python.  \n",
        "Ключевая идея такова: **код читается намного больше раз, чем пишется**.\n",
        "\n",
        "Данное руководство носит рекомендательный характер!!!"
      ]
    },
    {
      "cell_type": "markdown",
      "source": [
        "### Google code style"
      ],
      "metadata": {
        "id": "RqWzP2tm-kdq"
      }
    },
    {
      "cell_type": "markdown",
      "source": [
        "Так же в качестве ориентира можно [рекомендации](https://google.github.io/styleguide/pyguide.html) от компании Google"
      ],
      "metadata": {
        "id": "r9XhHrl0-oTz"
      }
    },
    {
      "cell_type": "markdown",
      "metadata": {
        "id": "p0SbuoEpqHCb"
      },
      "source": [
        "## Переменные в Python"
      ]
    },
    {
      "cell_type": "markdown",
      "metadata": {
        "id": "DnBIU_bJqSZU"
      },
      "source": [
        "### Переменные"
      ]
    },
    {
      "cell_type": "markdown",
      "metadata": {
        "id": "sQ0XpzpiqYON"
      },
      "source": [
        "**Переменная** - это именованая область памяти компьютера,  \n",
        "адрес которой позволяет получить доступ к данным. \n",
        "\n",
        "![](https://pythonchik.ru/pic/lb1/intext_1be28589-3503-4ee4-9594-306836be5b11_original.svg)"
      ]
    },
    {
      "cell_type": "markdown",
      "metadata": {
        "id": "J7dfyTrns4sy"
      },
      "source": [
        "### Оператор присваивания"
      ]
    },
    {
      "cell_type": "markdown",
      "metadata": {
        "id": "KPpUDOE-s_Fo"
      },
      "source": [
        "![](https://younglinux.info/sites/default/files/images/python/var_shem.gif)\n",
        "\n",
        "Синтаксис языка Python для создания переменных\n",
        "\n",
        "```python\n",
        "some_variable = \"Hello, World!\"\n",
        "```\n",
        "\n",
        "По рекомендациям PEP8 перед и после знака равно (\" = \")  \n",
        "следует оставлять один пробел.\n"
      ]
    },
    {
      "cell_type": "markdown",
      "metadata": {
        "id": "ERH-EeTdt1Dq"
      },
      "source": [
        "### Как можно называть переменные"
      ]
    },
    {
      "cell_type": "markdown",
      "metadata": {
        "id": "24C7uvdbtg5d"
      },
      "source": [
        "Существует два главных правила именования переменных:\n",
        "- Название переменной должно состоять только из  \n",
        "букв, цифр и знаков подчеркивания \"_\";\n",
        "- Название переменной не должно начинаться с цифры.\n"
      ]
    },
    {
      "cell_type": "markdown",
      "metadata": {
        "id": "gf_-54d4Aw4-"
      },
      "source": [
        "В Python переменные чувствительны к регистру, поэтому\n",
        "\n",
        "\n",
        "```python\n",
        "# это все три разные переменные\n",
        "foo = \"Hello, World!\"\n",
        "\n",
        "Foo = \"Hello, World!\"\n",
        "\n",
        "FOO = \"Hello, World!\"\n",
        "```\n",
        "\n"
      ]
    },
    {
      "cell_type": "markdown",
      "metadata": {
        "id": "2IpnlLKdC2x1"
      },
      "source": [
        "Бывает в спешке забываешь объявить переменную,  \n",
        "тогда можно получить ошибку следующего типа\n",
        "\n",
        "**Python code**\n",
        "```python\n",
        "# переменная bar не объявлена, то есть ей не присвоено никакое значение, но мы пытаемся работать с ней\n",
        "bar  # NameError: name 'bar' is not defined\n",
        "```\n",
        "\n",
        "**Сообщение об ошибке**\n",
        "```error\n",
        "---------------------------------------------------------------------------\n",
        "NameError                         \n",
        "      1 # переменная bar не объявлена, то есть ей не присвоено никакое значение, но мы пытаемся работать с ней\n",
        "----> 2 bar  # NameError: name 'bar' is not defined\n",
        "\n",
        "NameError: name 'bar' is not defined\n",
        "```\n",
        "\n"
      ]
    },
    {
      "cell_type": "markdown",
      "metadata": {
        "id": "fCI02hRtt6YR"
      },
      "source": [
        "### Как нельзя называть переменные"
      ]
    },
    {
      "cell_type": "code",
      "metadata": {
        "id": "xwZgUzJ6tnPM",
        "colab": {
          "base_uri": "https://localhost:8080/"
        },
        "outputId": "72c2edcf-a4cb-4f84-94c2-3b211fe230d2"
      },
      "source": [
        "help(\"keywords\")"
      ],
      "execution_count": null,
      "outputs": [
        {
          "output_type": "stream",
          "name": "stdout",
          "text": [
            "\n",
            "Here is a list of the Python keywords.  Enter any keyword to get more help.\n",
            "\n",
            "False               class               from                or\n",
            "None                continue            global              pass\n",
            "True                def                 if                  raise\n",
            "and                 del                 import              return\n",
            "as                  elif                in                  try\n",
            "assert              else                is                  while\n",
            "async               except              lambda              with\n",
            "await               finally             nonlocal            yield\n",
            "break               for                 not                 \n",
            "\n"
          ]
        }
      ]
    },
    {
      "cell_type": "markdown",
      "metadata": {
        "id": "7I1FGulu_p0I"
      },
      "source": [
        "Если назвать переменную как ключевое слово,  \n",
        "то будет ошибка\n",
        "```python\n",
        "# Если попытаетесь назвать переменную ключевым словом получите ошибку\n",
        "False = \"Hello, World!\"  # SyntaxError: can't assign to keyword\n",
        "```\n",
        "\n",
        "Но если очень хочется, то чуть-чуть можно..."
      ]
    },
    {
      "cell_type": "code",
      "metadata": {
        "id": "B_qc6UAF_U_H"
      },
      "source": [
        "# принято в конце дописывать нижнее подчеркивание,  \n",
        "# если название переменной совпадает с ключевым словом\n",
        "False_ = \"Hello, World!\"  # корректное объявление переменной"
      ],
      "execution_count": null,
      "outputs": []
    },
    {
      "cell_type": "code",
      "metadata": {
        "id": "KBNOUXBN_8sR"
      },
      "source": [
        "# тоже корректное название, потому что в Python  \n",
        "# переменные чувствительны к регистру\n",
        "false = \"Hello, World!\""
      ],
      "execution_count": null,
      "outputs": []
    },
    {
      "cell_type": "markdown",
      "metadata": {
        "id": "uV55Qyy7dZJQ"
      },
      "source": [
        "### Как нежелательно называть переменные"
      ]
    },
    {
      "cell_type": "markdown",
      "metadata": {
        "id": "OJYp1qAKdlir"
      },
      "source": [
        "**[Встроенные функции](https://docs.python.org/3/library/functions.html#built-in-functions).** \n",
        "\n",
        "Их использовать в качестве переменных можно, но не желательно.  \n",
        "Такими действиями вы перезапишите стандартное поведение встроенных функций  \n",
        "и не сможете пользоваться ими по конца выполнения текущей программы.  \n",
        "После перезапуска программы, они будут доступны снова до того момента,  \n",
        "пока они не будут перезаписаны.  \n",
        "\n",
        "Пример: `sum`, `len`"
      ]
    },
    {
      "cell_type": "code",
      "source": [
        "sum_ = 123"
      ],
      "metadata": {
        "id": "ntaYM1XwUHht"
      },
      "execution_count": null,
      "outputs": []
    },
    {
      "cell_type": "markdown",
      "metadata": {
        "id": "wu6zYDnrtqzQ"
      },
      "source": [
        "### Как желательно называть переменные"
      ]
    },
    {
      "cell_type": "markdown",
      "metadata": {
        "id": "vIGdNMg1uIUs"
      },
      "source": [
        "[Стили имен](https://pythonworld.ru/osnovy/pep-8-rukovodstvo-po-napisaniyu-koda-na-python.html#section-19)\n",
        "\n",
        "- Названия переменных:\n",
        "    - `b` (одиночная маленькая буква)\n",
        "    - `B` (одиночная заглавная буква)\n",
        "    - `lowercase` (слово в нижнем регистре)\n",
        "    - `lower_case_with_underscores` (слова из маленьких букв с подчеркиваниями)\n",
        "- Константы:\n",
        "    - `UPPERCASE` (заглавные буквы)\n",
        "    - `UPPERCASE_WITH_UNDERSCORES` (слова из заглавных букв с подчеркиваниями)\n",
        "- Названия функций:\n",
        "    - `lowercase` (слово в нижнем регистре)\n",
        "    - `lower_case_with_underscores` (слова из маленьких букв с подчеркиваниями)\n",
        "- Названия классов:\n",
        "    - `CapWords`"
      ]
    },
    {
      "cell_type": "markdown",
      "metadata": {
        "id": "KiPo3mGYsguH"
      },
      "source": [
        "# Базовые объектные типы языка Python."
      ]
    },
    {
      "cell_type": "markdown",
      "source": [
        "## Обзор и особенности работы с простыми типами данных в Python \n",
        "\n",
        "\n"
      ],
      "metadata": {
        "id": "5YCt08nOoIij"
      }
    },
    {
      "cell_type": "markdown",
      "metadata": {
        "id": "ZPL5S6S_sguI"
      },
      "source": [
        "### Иерархическая структура типов данных языка Python."
      ]
    },
    {
      "cell_type": "markdown",
      "metadata": {
        "id": "SxiEWE54sguI"
      },
      "source": [
        "К основным [типам данных](https://docs.python.org/3/library/stdtypes.html) можно отнести: \n",
        "- пустое значение\n",
        "- целые числа\n",
        "- числа с плавающей запятой\n",
        "- логические (булевы) значения\n",
        "- строки\n",
        "- списки\n",
        "- словари\n",
        "\n",
        "Важно представлять каким функционалом обладают эти типы данных.  \n",
        "Если вы забыли или захотите со временем узнать что-то новое,  \n",
        "то всегда можете обратиться к документации."
      ]
    },
    {
      "cell_type": "markdown",
      "metadata": {
        "id": "PWkAp3IFsguJ"
      },
      "source": [
        "Типы данных делятся на\n",
        "- встроенные (**built-in**);\n",
        "- пользовательские.\n",
        "\n",
        "Основные типы, которыми пользуется практически любой программист,  \n",
        "являются встроенными. Давайте посмотрим на них в таблице\n",
        "\n",
        "![https://drive.google.com/file/d/17SbSx3zrpQvJb3rYPNGGm3veCrDBxma9/view?usp=sharing](https://drive.google.com/uc?id=17SbSx3zrpQvJb3rYPNGGm3veCrDBxma9)"
      ]
    },
    {
      "cell_type": "markdown",
      "metadata": {
        "id": "zvtXQycBgCjv"
      },
      "source": [
        "Типы данных также можно сгруппировать по следующим признакам:\n",
        "- **Первый признак**\n",
        "    - Простые типы данных\n",
        "    - Составные типы данных\n",
        "\n",
        "- **Второй признак**\n",
        "    - Изменяемые \n",
        "    - Неизменяемые\n",
        "\n",
        "![](https://upload.wikimedia.org/wikipedia/commons/1/10/Python_3._The_standard_type_hierarchy.png)"
      ]
    },
    {
      "cell_type": "markdown",
      "metadata": {
        "id": "z-XHy9aGsguJ"
      },
      "source": [
        "#### Callable - вызываемый тип данных"
      ]
    },
    {
      "cell_type": "markdown",
      "metadata": {
        "id": "edEUpy3MsguJ"
      },
      "source": [
        "Итак, первое с чего мы начнем изучение это [встроенные команды](https://docs.python.org/3/library/functions.html).  \n",
        "Их не нужно знать наизусть.  \n",
        "\n",
        "С частью возможно вы не столкнетесь,  \n",
        "а какие-то будет использоваться очень часто, например:\n",
        "- **`help()`**;\n",
        "- **`print()`**;\n",
        "- **`input()`**;\n",
        "- **`len()`**;\n",
        "- **`min()`**/**`max()`**;\n",
        "- **`type()`**.\n",
        "\n",
        "Обратите внимание, что сначала идет название команды, а после круглые скобки.  \n",
        "Так вот наличие круглых скобок является **призывом к действию** для интерпретатора. "
      ]
    },
    {
      "cell_type": "markdown",
      "metadata": {
        "id": "DoVPXE9RsguK"
      },
      "source": [
        "Чтобы узнать тип какой-то переменной в Python есть встроенная команда **`type`**.  \n",
        "\n",
        "Синтаксис команды **`type`**:\n",
        "```python\n",
        "type(variable)\n",
        "```\n",
        "где **`variable`** - некоторая переменная или значение"
      ]
    },
    {
      "cell_type": "code",
      "metadata": {
        "colab": {
          "base_uri": "https://localhost:8080/"
        },
        "outputId": "bea06a55-4ee8-49b4-f43e-dcd9b0bdb512",
        "id": "8EmmVTZDsguK"
      },
      "source": [
        "type(print)  # встроенная функция или метод"
      ],
      "execution_count": null,
      "outputs": [
        {
          "output_type": "execute_result",
          "data": {
            "text/plain": [
              "builtin_function_or_method"
            ]
          },
          "metadata": {},
          "execution_count": 6
        }
      ]
    },
    {
      "cell_type": "code",
      "metadata": {
        "colab": {
          "base_uri": "https://localhost:8080/"
        },
        "outputId": "801ed482-2535-4108-cdaf-70cb37d27454",
        "id": "yrkjl5pssguK"
      },
      "source": [
        "help(print)  # получить документацию на любой объект, если она есть"
      ],
      "execution_count": null,
      "outputs": [
        {
          "output_type": "stream",
          "name": "stdout",
          "text": [
            "Help on built-in function print in module builtins:\n",
            "\n",
            "print(...)\n",
            "    print(value, ..., sep=' ', end='\\n', file=sys.stdout, flush=False)\n",
            "    \n",
            "    Prints the values to a stream, or to sys.stdout by default.\n",
            "    Optional keyword arguments:\n",
            "    file:  a file-like object (stream); defaults to the current sys.stdout.\n",
            "    sep:   string inserted between values, default a space.\n",
            "    end:   string appended after the last value, default a newline.\n",
            "    flush: whether to forcibly flush the stream.\n",
            "\n"
          ]
        }
      ]
    },
    {
      "cell_type": "code",
      "metadata": {
        "colab": {
          "base_uri": "https://localhost:8080/"
        },
        "outputId": "232de91c-d231-46a9-a3d3-080cdfd6a022",
        "id": "fkaxgu4lsguK"
      },
      "source": [
        "print(type(len))"
      ],
      "execution_count": null,
      "outputs": [
        {
          "output_type": "stream",
          "name": "stdout",
          "text": [
            "<class 'builtin_function_or_method'>\n"
          ]
        }
      ]
    },
    {
      "cell_type": "markdown",
      "metadata": {
        "id": "recsoHoesguL"
      },
      "source": [
        "В рамках нашего курса **class** будет равнозначно **типу данных**. "
      ]
    },
    {
      "cell_type": "markdown",
      "metadata": {
        "id": "jhFAG7N9HphL"
      },
      "source": [
        "### Динамическая типизация: особенности, преимущества и недостатки."
      ]
    },
    {
      "cell_type": "markdown",
      "metadata": {
        "id": "VoJvYv5brEoM"
      },
      "source": [
        "**Python - язык с неявной сильной динамической типизацией**. \n",
        "\n",
        "Разберем это определение по отдельным кусочкам. "
      ]
    },
    {
      "cell_type": "markdown",
      "metadata": {
        "id": "cTZm3TInro4B"
      },
      "source": [
        "**Динамическая типизация** означает, что тип переменной определяется  \n",
        "во время выполнения программы (интерпретации).  \n",
        "Во время работы вашей программы сначала одна переменная может содержать  \n",
        "в себе целочисленное значение, а потом строку.\n"
      ]
    },
    {
      "cell_type": "code",
      "metadata": {
        "id": "jAPpJFGBsI2G",
        "colab": {
          "base_uri": "https://localhost:8080/"
        },
        "outputId": "ce0cbea7-ffce-4e3c-a007-5e6b2bb20960"
      },
      "source": [
        "a = 1\n",
        "print(a)\n",
        "\n",
        "a = 'новое значение переменной а'\n",
        "print(a)"
      ],
      "execution_count": null,
      "outputs": [
        {
          "output_type": "stream",
          "name": "stdout",
          "text": [
            "1\n",
            "новое значение переменной а\n"
          ]
        }
      ]
    },
    {
      "cell_type": "markdown",
      "metadata": {
        "id": "OauRlBlksUEs"
      },
      "source": [
        "С точки зрения интерпретатора в этом нет никакой ошибки.  \n",
        "\n",
        "А вот с другой точки зрения такое не явное изменение типа данных может  \n",
        "запутать, тех кто будет читать ваш код и вникать в его логику."
      ]
    },
    {
      "cell_type": "markdown",
      "metadata": {
        "id": "ZVqtj7zDtAAw"
      },
      "source": [
        "**Сильная типизация** говорит о том, что мы не можем совершать операции  \n",
        "над объектами разного типа без приведения их **к одному типу**.  \n",
        "Например, Python вызовет ошибку, если мы попытаемся сложить число и строку.\n",
        "\n",
        "```python\n",
        "5 + 'str'  # TypeError: unsupported operand type(s) for +: 'int' and 'str'\n",
        "```"
      ]
    },
    {
      "cell_type": "markdown",
      "metadata": {
        "id": "VZfTTSLutQpj"
      },
      "source": [
        "И наконец **неявная типизация** нам говорит о том,  \n",
        "что тип переменной при ее объявлении не нужно указывать.\n",
        "\n",
        "```python\n",
        "some_var = 1\n",
        "other_var = 'Hello World'\n",
        "```"
      ]
    },
    {
      "cell_type": "markdown",
      "metadata": {
        "id": "FULDhRT5sguN"
      },
      "source": [
        "### Пустое значение - `None`"
      ]
    },
    {
      "cell_type": "code",
      "metadata": {
        "colab": {
          "base_uri": "https://localhost:8080/"
        },
        "outputId": "0394af4f-8573-43dd-a5d8-1afd6cbf8e39",
        "id": "Bh7_rNTksguN"
      },
      "source": [
        "foo = None  # присваиваем значение переменной\n",
        "\n",
        "print(foo)  # распечатываем значение переменной\n",
        "print(type(foo))  # распечатываем тип переменной"
      ],
      "execution_count": null,
      "outputs": [
        {
          "output_type": "stream",
          "name": "stdout",
          "text": [
            "None\n",
            "<class 'NoneType'>\n"
          ]
        }
      ]
    },
    {
      "cell_type": "markdown",
      "metadata": {
        "id": "kWr4yQ2UsguN"
      },
      "source": [
        "### Логические переменные - `bool`"
      ]
    },
    {
      "cell_type": "markdown",
      "metadata": {
        "id": "GWzMIyIvsguN"
      },
      "source": [
        "Логических переменные имеют всего два значения:\n",
        "- `True`\n",
        "- `False`"
      ]
    },
    {
      "cell_type": "code",
      "metadata": {
        "colab": {
          "base_uri": "https://localhost:8080/"
        },
        "outputId": "215e898d-f8f2-4c98-aba9-52fb8d91324b",
        "id": "QeNeKmTDsguN"
      },
      "source": [
        "True_ = True  # 1\n",
        "false = False  # 0\n",
        "\n",
        "print(True_, false)\n",
        "print(type(True_), type(false))"
      ],
      "execution_count": null,
      "outputs": [
        {
          "output_type": "stream",
          "name": "stdout",
          "text": [
            "True False\n",
            "<class 'bool'> <class 'bool'>\n"
          ]
        }
      ]
    },
    {
      "cell_type": "markdown",
      "metadata": {
        "id": "0lmqYf1jsguO"
      },
      "source": [
        "### Целые числа"
      ]
    },
    {
      "cell_type": "markdown",
      "metadata": {
        "id": "_KnGSNsIsguO"
      },
      "source": [
        "Объекты типа **`int`** предназначены для хранения целочисленных данных. \n",
        "\n",
        "Создание такой переменной не требует особой записи - необходимо  \n",
        "только присвоить целое число этой переменной."
      ]
    },
    {
      "cell_type": "code",
      "metadata": {
        "colab": {
          "base_uri": "https://localhost:8080/"
        },
        "outputId": "4fd8bb0c-7417-4ec7-97fb-7965d8486f09",
        "id": "5Yg6UFAUsguO"
      },
      "source": [
        "a = 1\n",
        "b = 0\n",
        "c = -1\n",
        "\n",
        "# функция print умеет принимать несколько значений через запятую и печатать их в одну строку\n",
        "print(a, type(a)) \n",
        "print(b, type(b))\n",
        "print(c, type(c))"
      ],
      "execution_count": null,
      "outputs": [
        {
          "output_type": "stream",
          "name": "stdout",
          "text": [
            "1 <class 'int'>\n",
            "0 <class 'int'>\n",
            "-1 <class 'int'>\n"
          ]
        }
      ]
    },
    {
      "cell_type": "markdown",
      "metadata": {
        "id": "erzSkFORsguP"
      },
      "source": [
        "### Арифметические операторы"
      ]
    },
    {
      "cell_type": "markdown",
      "metadata": {
        "id": "pSZIL9KvsguP"
      },
      "source": [
        "![](https://drive.google.com/uc?id=1ivd7rIbhu9D6HNcVeIGvO8pBCNdoq6Q7)"
      ]
    },
    {
      "cell_type": "markdown",
      "metadata": {
        "id": "i-zVeZ5UsguP"
      },
      "source": [
        "#### **Сложение**, **Вычитание**, **Умножение**, **Возведение в степень**"
      ]
    },
    {
      "cell_type": "code",
      "metadata": {
        "colab": {
          "base_uri": "https://localhost:8080/"
        },
        "outputId": "3e900d24-f658-468b-c5c5-7fc26793170d",
        "id": "5pd2Ikl0sguP"
      },
      "source": [
        "add = 5 + 5\n",
        "print(add)  # 10\n",
        "print(type(add))  # <class 'int'>"
      ],
      "execution_count": null,
      "outputs": [
        {
          "output_type": "stream",
          "name": "stdout",
          "text": [
            "10\n",
            "<class 'int'>\n"
          ]
        }
      ]
    },
    {
      "cell_type": "code",
      "metadata": {
        "colab": {
          "base_uri": "https://localhost:8080/"
        },
        "outputId": "9e4701a0-ec13-4404-facb-f930e65bba6c",
        "id": "8FYwvbGbsguP"
      },
      "source": [
        "sub = 10 - 5\n",
        "print(sub)  # 5\n",
        "print(type(sub))  # <class 'int'>"
      ],
      "execution_count": null,
      "outputs": [
        {
          "output_type": "stream",
          "name": "stdout",
          "text": [
            "5\n",
            "<class 'int'>\n"
          ]
        }
      ]
    },
    {
      "cell_type": "code",
      "metadata": {
        "colab": {
          "base_uri": "https://localhost:8080/"
        },
        "outputId": "4a29eea9-fb7c-45db-ad07-f555cb5d32cd",
        "id": "3NqlH3mwsguQ"
      },
      "source": [
        "mul = 5 * 5\n",
        "print(mul)  # 25\n",
        "print(type(mul))  # <class 'int'>"
      ],
      "execution_count": null,
      "outputs": [
        {
          "output_type": "stream",
          "name": "stdout",
          "text": [
            "25\n",
            "<class 'int'>\n"
          ]
        }
      ]
    },
    {
      "cell_type": "code",
      "metadata": {
        "colab": {
          "base_uri": "https://localhost:8080/"
        },
        "outputId": "693ffaeb-e3cb-42ed-ad7d-01c0a7d091c0",
        "id": "3z9JPLZ7sguQ"
      },
      "source": [
        "pow_ = 5 ** 2\n",
        "print(pow_)\n",
        "print(type(pow_))"
      ],
      "execution_count": null,
      "outputs": [
        {
          "output_type": "stream",
          "name": "stdout",
          "text": [
            "25\n",
            "<class 'int'>\n"
          ]
        }
      ]
    },
    {
      "cell_type": "markdown",
      "metadata": {
        "id": "a6CbZTcqsguQ"
      },
      "source": [
        "Арифметические операторы, как и оператор присваивания  \n",
        "рекомендуют отделять пробелами."
      ]
    },
    {
      "cell_type": "markdown",
      "metadata": {
        "id": "VZvt_q1wsguQ"
      },
      "source": [
        "##### ***Задача***\n",
        "\n",
        "Найти периметр прямоугольной комнаты с длиной 6 и шириной 3 метра."
      ]
    },
    {
      "cell_type": "code",
      "metadata": {
        "colab": {
          "base_uri": "https://localhost:8080/"
        },
        "outputId": "7814e655-b8e3-4cfc-c400-9be91af4ac98",
        "id": "Pk2De_m7sguR"
      },
      "source": [
        "# первый вариант решения\n",
        "length = 6\n",
        "width = 3\n",
        "\n",
        "perimeter = (length + width) * 2\n",
        "print(perimeter)"
      ],
      "execution_count": null,
      "outputs": [
        {
          "output_type": "stream",
          "name": "stdout",
          "text": [
            "18\n"
          ]
        }
      ]
    },
    {
      "cell_type": "code",
      "source": [
        "# второй вариант решения\n",
        "perimeter = (6 + 3) * 2\n",
        "print(perimeter)"
      ],
      "metadata": {
        "colab": {
          "base_uri": "https://localhost:8080/"
        },
        "outputId": "e1c53b42-8e36-452f-edeb-9b175a04733a",
        "id": "attJyY_5sguR"
      },
      "execution_count": null,
      "outputs": [
        {
          "output_type": "stream",
          "name": "stdout",
          "text": [
            "18\n"
          ]
        }
      ]
    },
    {
      "cell_type": "markdown",
      "source": [
        "Первый вариант предпочтительнее, потому что нет,  \n",
        "так называемых \"магических чисел\".  \n",
        "\"Магическими числами\" называют плохую практику программирования,  \n",
        "когда в исходном тексте встречается числовое значение и неочевиден его смысл."
      ],
      "metadata": {
        "id": "gwApPg3ssguR"
      }
    },
    {
      "cell_type": "markdown",
      "metadata": {
        "id": "wPw3FYKTsguS"
      },
      "source": [
        "#### Комбинированные операторы присваивания"
      ]
    },
    {
      "cell_type": "markdown",
      "metadata": {
        "id": "vhZfpNwjsguS"
      },
      "source": [
        "![](https://drive.google.com/uc?id=10J9HqAE4PTSWHRux_ImzuemyQt25lYXY)"
      ]
    },
    {
      "cell_type": "markdown",
      "metadata": {
        "id": "b9iuzjqKsguT"
      },
      "source": [
        "##### ***Задача***\n",
        "\n",
        "Изначально на счету было 10000 у.е.  \n",
        "После выплаты процентов сумма увеличалась на 5000 у.е.  \n",
        "Чему станет равно количество средств после выплаты процентов?\n"
      ]
    },
    {
      "cell_type": "code",
      "metadata": {
        "colab": {
          "base_uri": "https://localhost:8080/"
        },
        "outputId": "d826b56d-67b0-4a8b-805b-55f276aa26f2",
        "id": "YxEg-mX6sguU"
      },
      "source": [
        "money = 10000\n",
        "add = 5000\n",
        "\n",
        "money += add  # money = money + add\n",
        "\n",
        "print(money)"
      ],
      "execution_count": null,
      "outputs": [
        {
          "output_type": "stream",
          "name": "stdout",
          "text": [
            "15000\n"
          ]
        }
      ]
    },
    {
      "cell_type": "markdown",
      "metadata": {
        "id": "nJKNctMxsguV"
      },
      "source": [
        "### Числа с плавающей запятой"
      ]
    },
    {
      "cell_type": "markdown",
      "metadata": {
        "id": "YFtcq6gTsguV"
      },
      "source": [
        "Под числами с плавающей запятой в Python подразумеваются дробные числа.  \n",
        "Ещё их могут называть вещественные числа.\n",
        "\n",
        "А сам термин \"плавающая запятая\" (или ещё говорят \"плавающая точка\")  \n",
        "происходит от особенностей хранения таких чисел в памяти компьютера. \n",
        "\n",
        "Создание переменных с дробными числами практически ничем  \n",
        "не отличается от создания целых чисел.  \n",
        "Только в качестве десятичного разделителя выступает **точка**, а не запятая.\n"
      ]
    },
    {
      "cell_type": "code",
      "metadata": {
        "colab": {
          "base_uri": "https://localhost:8080/"
        },
        "outputId": "022de12d-8379-4869-e090-20f7d7fa33b6",
        "id": "EffMwuytsguW"
      },
      "source": [
        "a = 0.1\n",
        "b = 0.0\n",
        "c = -10.312312\n",
        "\n",
        "print(a, type(a))\n",
        "print(b, type(b))\n",
        "print(c, type(c))"
      ],
      "execution_count": null,
      "outputs": [
        {
          "output_type": "stream",
          "name": "stdout",
          "text": [
            "0.1 <class 'float'>\n",
            "0.0 <class 'float'>\n",
            "-10.312312 <class 'float'>\n"
          ]
        }
      ]
    },
    {
      "cell_type": "markdown",
      "metadata": {
        "id": "FgoRdQtBsguW"
      },
      "source": [
        "#### **\"Честное\" деление**"
      ]
    },
    {
      "cell_type": "code",
      "metadata": {
        "colab": {
          "base_uri": "https://localhost:8080/"
        },
        "outputId": "fa1a6ae5-ca6c-47d4-9b44-574c64387e96",
        "id": "WUuWmBFWsguW"
      },
      "source": [
        "div = 5 / 10\n",
        "print(div)\n",
        "print(type(div))"
      ],
      "execution_count": null,
      "outputs": [
        {
          "output_type": "stream",
          "name": "stdout",
          "text": [
            "0.5\n",
            "<class 'float'>\n"
          ]
        }
      ]
    },
    {
      "cell_type": "code",
      "metadata": {
        "colab": {
          "base_uri": "https://localhost:8080/"
        },
        "outputId": "0dad7b4c-1c0f-444b-84c3-94300c761cdd",
        "id": "TTHNk0bqsguX"
      },
      "source": [
        "integer_div = 10 / 5\n",
        "print(integer_div)\n",
        "print(type(integer_div))"
      ],
      "execution_count": null,
      "outputs": [
        {
          "output_type": "stream",
          "name": "stdout",
          "text": [
            "2.0\n",
            "<class 'float'>\n"
          ]
        }
      ]
    },
    {
      "cell_type": "code",
      "source": [
        "print(1 / 6)  # бесконечная десятичная дробь"
      ],
      "metadata": {
        "colab": {
          "base_uri": "https://localhost:8080/"
        },
        "id": "d3s9Imhs_OK8",
        "outputId": "59dd6c34-c2e7-44ea-9c01-28d8efcb5df8"
      },
      "execution_count": null,
      "outputs": [
        {
          "output_type": "stream",
          "name": "stdout",
          "text": [
            "0.16666666666666666\n"
          ]
        }
      ]
    },
    {
      "cell_type": "markdown",
      "metadata": {
        "id": "KoNUNhJ_sguX"
      },
      "source": [
        "***Примечание:***\n",
        "\n",
        "При делении вы в любом случае получаете число с плавающей запятой,  \n",
        "даже если оно делится нацело без остатка."
      ]
    },
    {
      "cell_type": "markdown",
      "metadata": {
        "id": "kpxSTP5_sguZ"
      },
      "source": [
        "#### f-строки (f-string)"
      ]
    },
    {
      "cell_type": "markdown",
      "metadata": {
        "id": "wPCXYiahJP-m"
      },
      "source": [
        "С версии python 3.6 существует понятие f-string или f-строки.  \n",
        "F-строки позволяют встраивать выражения в строки,  \n",
        "используя минимальный синтаксис.\n",
        "\n",
        "```python\n",
        "value = 50\n",
        "\n",
        "f_string = f\"Значение = {value}\"  # f-строка\n",
        "```"
      ]
    },
    {
      "cell_type": "code",
      "metadata": {
        "colab": {
          "base_uri": "https://localhost:8080/"
        },
        "outputId": "a301b1b7-7e39-4d04-9a21-dd59ea998b7b",
        "id": "8o516Dztsgua"
      },
      "source": [
        "f_string = f\"Сумма 2 + 2 = {2 + 2}\"  # f-строка\n",
        "print(f_string)"
      ],
      "execution_count": null,
      "outputs": [
        {
          "output_type": "stream",
          "name": "stdout",
          "text": [
            "Сумма 2 + 2 = 4\n"
          ]
        }
      ]
    },
    {
      "cell_type": "markdown",
      "source": [
        "Округление чисел"
      ],
      "metadata": {
        "id": "QAILR-zasgua"
      }
    },
    {
      "cell_type": "code",
      "metadata": {
        "colab": {
          "base_uri": "https://localhost:8080/"
        },
        "outputId": "b9f42f7d-7f86-4f74-8e05-97af94da2e47",
        "id": "oxypxmAAsgub"
      },
      "source": [
        "number = 1 / 6\n",
        "print(f\"Исходное число = {number}\")\n",
        "print(f\"Округленное до 2 знаков после запятой число = {number:.2f}\")  # .2f - округление до двух знаков после запятой"
      ],
      "execution_count": null,
      "outputs": [
        {
          "output_type": "stream",
          "name": "stdout",
          "text": [
            "Исходное число = 0.16666666666666666\n",
            "Округленное до 2 знаков после запятой число = 0.17\n"
          ]
        }
      ]
    },
    {
      "cell_type": "markdown",
      "metadata": {
        "id": "O5VQlAhGsgub"
      },
      "source": [
        "## Обзор и особенности работы с составными типами данных в Python "
      ]
    },
    {
      "cell_type": "markdown",
      "metadata": {
        "id": "VfPpryhRsgub"
      },
      "source": [
        "Составные типы данных (контейнеры) - это такой тип переменных,  \n",
        "которые могут хранить в себе сразу несколько значений."
      ]
    },
    {
      "cell_type": "markdown",
      "metadata": {
        "id": "a7SDf51zsguj"
      },
      "source": [
        "### Строки - `str`"
      ]
    },
    {
      "cell_type": "markdown",
      "metadata": {
        "id": "Y7306_FAsguj"
      },
      "source": [
        "Строки (**`str`**) – неизменяемая последовательность любых символов  \n",
        "начинающаяся и заканчивающаяся или одинарной кавычкой (апострофом)(`'`)  \n",
        "или двойной кавычкой(`\"`).\n",
        "\n",
        "```python\n",
        "str_ = \"Это строка\"\n",
        "```\n",
        "\n",
        "```python\n",
        "empty_str = \"\"  # пустая строка\n",
        "```"
      ]
    },
    {
      "cell_type": "markdown",
      "metadata": {
        "id": "FsBihk4Asguj"
      },
      "source": [
        "Строки в Python можно записать с помощью 4 различных способов"
      ]
    },
    {
      "cell_type": "code",
      "metadata": {
        "id": "WcRF8_Orsguk"
      },
      "source": [
        "str_1 = 'test'\n",
        "str_2 = \"test\"\n",
        "str_3 = '''test'''\n",
        "str_4 = \"\"\"test\"\"\""
      ],
      "execution_count": null,
      "outputs": []
    },
    {
      "cell_type": "markdown",
      "source": [
        "Тройные кавычки обычно используются для многострочных комментариев. "
      ],
      "metadata": {
        "id": "vn-FCZhysguk"
      }
    },
    {
      "cell_type": "code",
      "source": [
        "print(\"\"\"Это многострочные комментарии. \n",
        "Они могут быть записаны в несколько строк :) \n",
        "(масло масляное)\n",
        "\"\"\")"
      ],
      "metadata": {
        "colab": {
          "base_uri": "https://localhost:8080/"
        },
        "outputId": "96b03b61-f953-4efc-e5fa-cd1eed34a19d",
        "id": "4rMDiVHhsguk"
      },
      "execution_count": null,
      "outputs": [
        {
          "output_type": "stream",
          "name": "stdout",
          "text": [
            "Это многострочные комментарии. \n",
            "Они могут быть записаны в несколько строк :) \n",
            "(масло масляное)\n",
            "\n"
          ]
        }
      ]
    },
    {
      "cell_type": "code",
      "metadata": {
        "colab": {
          "base_uri": "https://localhost:8080/"
        },
        "outputId": "04d7e7ea-1dea-447a-a65e-6bacfe38f3f9",
        "id": "aKsi2kOEsguk"
      },
      "source": [
        "str_1 = \"Hello, World\"\n",
        "print(len(str_1))  # длина строки"
      ],
      "execution_count": null,
      "outputs": [
        {
          "output_type": "stream",
          "name": "stdout",
          "text": [
            "12\n"
          ]
        }
      ]
    },
    {
      "cell_type": "code",
      "source": [
        "str_1 = \"Hello, World\"\n",
        "print(str_1[0])  # H\n",
        "print(str_1[-1])  # d"
      ],
      "metadata": {
        "colab": {
          "base_uri": "https://localhost:8080/"
        },
        "id": "3YLBcEvBAXrB",
        "outputId": "a99d9796-da40-439c-d404-8b8cc71ff2b9"
      },
      "execution_count": null,
      "outputs": [
        {
          "output_type": "stream",
          "name": "stdout",
          "text": [
            "H\n",
            "d\n"
          ]
        }
      ]
    },
    {
      "cell_type": "code",
      "metadata": {
        "colab": {
          "base_uri": "https://localhost:8080/"
        },
        "outputId": "d89067fe-c5e7-49cc-b6fd-ccfaf9b2e2ad",
        "id": "AvKHa1W3sgul"
      },
      "source": [
        "# строкам не важно записаны они одинарными или двойными кавычками\n",
        "str_ = \"Hello\" + 'World'  # конкатенация строк\n",
        "\n",
        "print(str_)"
      ],
      "execution_count": null,
      "outputs": [
        {
          "output_type": "stream",
          "name": "stdout",
          "text": [
            "HelloWorld\n"
          ]
        }
      ]
    },
    {
      "cell_type": "code",
      "metadata": {
        "colab": {
          "base_uri": "https://localhost:8080/"
        },
        "outputId": "6d66cd1c-13c8-4ecc-f6ed-c3ab1a150960",
        "id": "-yT93F7fsgul"
      },
      "source": [
        "print(\"z\" * 25)  # клонирование строки"
      ],
      "execution_count": null,
      "outputs": [
        {
          "output_type": "stream",
          "name": "stdout",
          "text": [
            "zzzzzzzzzzzzzzzzzzzzzzzzz\n"
          ]
        }
      ]
    },
    {
      "cell_type": "markdown",
      "source": [
        "##### ***Задача***\n",
        "\n",
        "Дан текст. Найти длину этого текста. "
      ],
      "metadata": {
        "id": "2FGw5lsWYOTJ"
      }
    },
    {
      "cell_type": "code",
      "source": [
        "text = \"\"\"Это очень-очень длинный текст :)\"\"\"\n",
        "\n",
        "print(\"Размер текста =\", len(text))  "
      ],
      "metadata": {
        "colab": {
          "base_uri": "https://localhost:8080/"
        },
        "id": "E7w_BrJFYNzX",
        "outputId": "7d6666e9-a386-4f8d-ee5b-1e6371439431"
      },
      "execution_count": null,
      "outputs": [
        {
          "output_type": "stream",
          "name": "stdout",
          "text": [
            "Размер текста = 32\n"
          ]
        }
      ]
    },
    {
      "cell_type": "markdown",
      "metadata": {
        "id": "wPEu5EUEsgum"
      },
      "source": [
        "### Списки - `list`"
      ]
    },
    {
      "cell_type": "markdown",
      "metadata": {
        "id": "kgMqIbzcsgum"
      },
      "source": [
        "Список - изменяемая последовательность разнородных данных.\n",
        "\n",
        "Объявление списка начитается с указания [ ... ]  \n",
        "(квадратных скобок после оператора присваивания).\n",
        "\n",
        "\n",
        "```python\n",
        "list_ = [1, 2, 'Hello World', [3, 2, 1], ...]\n",
        "```\n",
        "\n",
        "Если необходимо сделать пустой список:\n",
        "```python\n",
        "empty_list = []\n",
        "```\n"
      ]
    },
    {
      "cell_type": "markdown",
      "metadata": {
        "id": "yPicC91Ysgun"
      },
      "source": [
        "Списки способны одновременно хранить в себе различные типы данных.  \n",
        "Но обычно предпочитают, чтобы списки хранили в себе данные одного типа."
      ]
    },
    {
      "cell_type": "code",
      "metadata": {
        "colab": {
          "base_uri": "https://localhost:8080/"
        },
        "outputId": "0b029b45-8059-4d35-958c-301bd122c006",
        "id": "EF5c-21nsgun"
      },
      "source": [
        "list_ = [1, 2, 3]  # Хорошо, все данные одного типа\n",
        "print(list_, type(list_))\n",
        "\n",
        "list_ = [1, 2, \"3\"]  # Ошибки не будет\n",
        "print(list_, type(list_))"
      ],
      "execution_count": null,
      "outputs": [
        {
          "output_type": "stream",
          "name": "stdout",
          "text": [
            "[1, 2, 3] <class 'list'>\n",
            "[1, 2, '3'] <class 'list'>\n"
          ]
        }
      ]
    },
    {
      "cell_type": "code",
      "source": [
        "list_ = [1, 2, \"3\"]\n",
        "print(list_)\n",
        "\n",
        "list_[-1] = 3  # обращаемся к последнему элементу в списке. Его индекс равен -1\n",
        "print(list_)"
      ],
      "metadata": {
        "colab": {
          "base_uri": "https://localhost:8080/"
        },
        "id": "CwrPDYCIAvK4",
        "outputId": "ddadaf39-5712-4070-eeac-754413189132"
      },
      "execution_count": null,
      "outputs": [
        {
          "output_type": "stream",
          "name": "stdout",
          "text": [
            "[1, 2, '3']\n",
            "[1, 2, 3]\n"
          ]
        }
      ]
    },
    {
      "cell_type": "markdown",
      "metadata": {
        "id": "3ad09vAVsgun"
      },
      "source": [
        "Списки можно складывать"
      ]
    },
    {
      "cell_type": "code",
      "metadata": {
        "colab": {
          "base_uri": "https://localhost:8080/"
        },
        "outputId": "91658113-618b-4ac5-9bc6-68584c7e3df2",
        "id": "lP3QYOBvsguo"
      },
      "source": [
        "print([1, 2, 3] + [3, 2, 1])"
      ],
      "execution_count": null,
      "outputs": [
        {
          "output_type": "stream",
          "name": "stdout",
          "text": [
            "[1, 2, 3, 3, 2, 1]\n"
          ]
        }
      ]
    },
    {
      "cell_type": "markdown",
      "metadata": {
        "id": "76bKTsD8sguo"
      },
      "source": [
        "Или умножать на какое-то число"
      ]
    },
    {
      "cell_type": "code",
      "metadata": {
        "colab": {
          "base_uri": "https://localhost:8080/"
        },
        "outputId": "8e1128a8-619a-4bfd-bb65-a070ca2cec26",
        "id": "cVisyPHasguo"
      },
      "source": [
        "print([0] * 5)"
      ],
      "execution_count": null,
      "outputs": [
        {
          "output_type": "stream",
          "name": "stdout",
          "text": [
            "[0, 0, 0, 0, 0]\n"
          ]
        }
      ]
    },
    {
      "cell_type": "markdown",
      "metadata": {
        "id": "1NLfwPcctNfp"
      },
      "source": [
        "##### ***Задача. Найти общую протяженность улиц.***\n",
        "\n",
        "Дан список длин улиц.  \n",
        "Найти общую протяженность улиц. "
      ]
    },
    {
      "cell_type": "code",
      "metadata": {
        "colab": {
          "base_uri": "https://localhost:8080/"
        },
        "outputId": "a0cb9b7e-bdc9-4b26-96a7-c67bebbdb4b8",
        "id": "9F4OdXYBtNfp"
      },
      "source": [
        "lengths = [10, 27, 2.13, 4.28, 5.12]\n",
        "total_length = sum(lengths)\n",
        "print(total_length)"
      ],
      "execution_count": null,
      "outputs": [
        {
          "output_type": "stream",
          "name": "stdout",
          "text": [
            "48.53\n"
          ]
        }
      ]
    },
    {
      "cell_type": "markdown",
      "metadata": {
        "id": "5qwg_WFnEAaE"
      },
      "source": [
        "### Кортеж - `tuple`"
      ]
    },
    {
      "cell_type": "markdown",
      "metadata": {
        "id": "xdcohzKZy-X3"
      },
      "source": [
        "Кортеж, в отличии от списка является неизменяемым типом данных.\n",
        "\n",
        "Чтобы создать кортеж, нужно записать данные в круглые скобки через запятую\n",
        "```python\n",
        "tuple_ = (1, 2, 3)\n",
        "```\n",
        "\n",
        "Если необходимо сделать пустой кортеж:\n",
        "```python\n",
        "empty_tuple = ()  # пустой кортеж\n",
        "```\n"
      ]
    },
    {
      "cell_type": "markdown",
      "metadata": {
        "id": "ltYTiPcpzvbI"
      },
      "source": [
        "Если необходимо создать кортеж из одного элемента "
      ]
    },
    {
      "cell_type": "code",
      "metadata": {
        "id": "ohItLDvbz4ra",
        "colab": {
          "base_uri": "https://localhost:8080/"
        },
        "outputId": "88c811e7-7cd8-4973-ae12-9add81f3eba4"
      },
      "source": [
        "list_ = [1]\n",
        "tuple_ = (1, )\n",
        "\n",
        "print(list_, type(list_))\n",
        "print(tuple_, type(tuple_))"
      ],
      "execution_count": null,
      "outputs": [
        {
          "output_type": "stream",
          "name": "stdout",
          "text": [
            "[1] <class 'list'>\n",
            "(1,) <class 'tuple'>\n"
          ]
        }
      ]
    },
    {
      "cell_type": "markdown",
      "metadata": {
        "id": "Ku0SENhsTie5"
      },
      "source": [
        "Кортежи в Python удобно использовать  \n",
        "для массовой инициализации переменных. \n",
        "\n",
        "В python существует множественное присвоение.  \n",
        "Главное правило, чтобы количество значений справа  \n",
        "было равно количеству переменных слева.  \n",
        "```python\n",
        "# Ошибка. Справа не хватает значений для множественного присвоения\n",
        "a, b = 1  # TypeError: cannot unpack non-iterable int object\n",
        "```"
      ]
    },
    {
      "cell_type": "code",
      "metadata": {
        "id": "M6iCTASqFV6A",
        "colab": {
          "base_uri": "https://localhost:8080/"
        },
        "outputId": "37ca0c8d-7171-42d9-b764-d20ee8161766"
      },
      "source": [
        "a, b = 1, 2  # правильно\n",
        "print(a, b)"
      ],
      "execution_count": null,
      "outputs": [
        {
          "output_type": "stream",
          "name": "stdout",
          "text": [
            "1 2\n"
          ]
        }
      ]
    },
    {
      "cell_type": "code",
      "metadata": {
        "id": "P6s_X7JZFr-Z",
        "colab": {
          "base_uri": "https://localhost:8080/"
        },
        "outputId": "573b7d6c-7109-4fc3-a7d1-6cac2d8c1145"
      },
      "source": [
        "tuple_vars = 1, 2  # тоже правильно, есть одно \"но\", значения будут помещены в кортеж\n",
        "print(tuple_vars, type(tuple_vars))"
      ],
      "execution_count": null,
      "outputs": [
        {
          "output_type": "stream",
          "name": "stdout",
          "text": [
            "(1, 2) <class 'tuple'>\n"
          ]
        }
      ]
    },
    {
      "cell_type": "markdown",
      "source": [
        "##### ***Задача***\n",
        "Поменять местами значение двух переменных."
      ],
      "metadata": {
        "id": "Z7g_kOk4Yzxi"
      }
    },
    {
      "cell_type": "markdown",
      "source": [
        "В Python множественное присвоение можно использовать,  \n",
        "если вы хотите поменять значения двух переменных местами. "
      ],
      "metadata": {
        "id": "qM8dwaEU5ERo"
      }
    },
    {
      "cell_type": "code",
      "source": [
        "first_value, second_value = \"first_value\", \"second_value\"\n",
        "print(first_value, second_value)\n",
        "\n",
        "print(\"Меняем местами переменные...\")\n",
        "first_value, second_value = second_value, first_value\n",
        "\n",
        "print(first_value, second_value)"
      ],
      "metadata": {
        "colab": {
          "base_uri": "https://localhost:8080/"
        },
        "id": "JemJAzDl4r1R",
        "outputId": "0deae176-c139-404f-c0eb-bf739625a1e2"
      },
      "execution_count": null,
      "outputs": [
        {
          "output_type": "stream",
          "name": "stdout",
          "text": [
            "first_value second_value\n",
            "Меняем местами переменные...\n",
            "second_value first_value\n"
          ]
        }
      ]
    },
    {
      "cell_type": "markdown",
      "source": [
        "### Индексируемые последовательности (sequence)"
      ],
      "metadata": {
        "id": "rbR51e8nySkw"
      }
    },
    {
      "cell_type": "markdown",
      "metadata": {
        "id": "3_yNmED8sgub"
      },
      "source": [
        "К последовательностям в Python относят:\n",
        "- Строки (**`str`**)\n",
        "- Списки (**`list`**)\n",
        "- Кортежи (**`tuple`**)\n",
        "\n",
        "***Примечание:***\n",
        "Ещё существуют **`bytes`** и **`byte arrays`**,  \n",
        "но они встречаются не так часто и выходят за рамки нашего рассмотрения."
      ]
    },
    {
      "cell_type": "markdown",
      "metadata": {
        "id": "ntrYLuzvsguc"
      },
      "source": [
        "Последовательности поддерживают индексацию, то есть получение  \n",
        "какого-либо значения последовательности по индексу.\n",
        "\n",
        "Единственный момент индексация начитается с 0.  \n",
        "Это особенность языков программирования.\n",
        "![](https://cs11.pikabu.ru/post_img/2018/12/07/3/1544153992124355275.jpg)"
      ]
    },
    {
      "cell_type": "markdown",
      "metadata": {
        "id": "Tr0khdmrsguc"
      },
      "source": [
        "![https://app.diagrams.net/#G1BQ6Cd0yMZLkdACHp4W-o4aQQdIX3yy-F](https://drive.google.com/uc?id=1BQ6Cd0yMZLkdACHp4W-o4aQQdIX3yy-F)\n",
        "\n",
        "Для того чтобы указать интерпретатору Python, что вы хотите  \n",
        "воспользоваться индексацией, необходимо после последовательности  \n",
        "указать квадратные скобки, в которых указать индекс элемента.  \n",
        "Индекс должен быть **целым числом**.\n",
        "\n",
        "\n",
        "```python\n",
        "some_seq[index]  # обращение к элементу по индексу\n",
        "some_seq[index] = \"new_value\"  # замена по индексу\n",
        "```\n",
        "\n"
      ]
    },
    {
      "cell_type": "code",
      "source": [
        "list_ = [\"а\", \"б\", \"в\", \"г\", \"д\"]  # список строк\n",
        "\n",
        "print(list_[0])  # \"а\"\n",
        "print(list_[4])  # \"д\""
      ],
      "metadata": {
        "colab": {
          "base_uri": "https://localhost:8080/"
        },
        "id": "vqwKMEzIQ1GI",
        "outputId": "582f620c-fdbd-4cd8-f6a3-2a9bbb8c497e"
      },
      "execution_count": null,
      "outputs": [
        {
          "output_type": "stream",
          "name": "stdout",
          "text": [
            "а\n",
            "д\n"
          ]
        }
      ]
    },
    {
      "cell_type": "code",
      "source": [
        "list_[0] = \"А\"\n",
        "print(list_)  # ['А', 'б', 'в', 'г', 'д']"
      ],
      "metadata": {
        "colab": {
          "base_uri": "https://localhost:8080/"
        },
        "id": "Ps1ZR0cd2rV0",
        "outputId": "609332b2-d237-4212-aef6-969993848033"
      },
      "execution_count": null,
      "outputs": [
        {
          "output_type": "stream",
          "name": "stdout",
          "text": [
            "['А', 'б', 'в', 'г', 'д']\n"
          ]
        }
      ]
    },
    {
      "cell_type": "markdown",
      "metadata": {
        "id": "6j14oExSsgug"
      },
      "source": [
        "#### Отрицательная индексация"
      ]
    },
    {
      "cell_type": "markdown",
      "metadata": {
        "id": "RIl7eteTsgug"
      },
      "source": [
        "Python поддерживает **отрицательную индексацию**.  \n",
        "Возможности все те же самые что и при обычной индексации,  \n",
        "только обращение к элементам происходит с конца последовательности. \n",
        "\n",
        "![https://app.diagrams.net/#G1iu1gLR05aivKBr47bN5NCrV1CCVxEu7t](https://drive.google.com/uc?id=1iu1gLR05aivKBr47bN5NCrV1CCVxEu7t)"
      ]
    },
    {
      "cell_type": "markdown",
      "metadata": {
        "id": "Tz4hpjVRsguh"
      },
      "source": [
        "### Срезы"
      ]
    },
    {
      "cell_type": "markdown",
      "metadata": {
        "id": "1b0y0rMksguh"
      },
      "source": [
        "**Срезы** они же слайсирование (англ. slice) -  это альтернатива индексации,  \n",
        "отличие в том, что передается два значения левая и правая граница,  \n",
        "которые разделены между собой двоеточием.\n",
        "\n",
        "Результатом слайсирования является тот же тип данных,  \n",
        "к которому вы применяли слайсирование.\n",
        "\n",
        "![https://app.diagrams.net/#G1v77d_925rUsxVNgb3NJ_h1Xf6v36Fvaf](https://drive.google.com/uc?id=1v77d_925rUsxVNgb3NJ_h1Xf6v36Fvaf)"
      ]
    },
    {
      "cell_type": "markdown",
      "metadata": {
        "id": "X-BR5bo8fCxw"
      },
      "source": [
        "##### ***Задача. Раздеделить список на две половины.***"
      ]
    },
    {
      "cell_type": "code",
      "metadata": {
        "id": "56AedsFsf-5c",
        "colab": {
          "base_uri": "https://localhost:8080/"
        },
        "outputId": "03e85d33-1ba2-45da-b19e-a996f4ca52a8"
      },
      "source": [
        "list_cities = [\"Москва\", \"Санкт-Петербург\", \"Ижевск\", \"Владивосток\", \"Новосибирск\"]\n",
        "middle_index = len(list_cities) // 2  # индекс середины \n",
        "\n",
        "left_part = list_cities[:middle_index]  # левая половина\n",
        "right_part = list_cities[middle_index:]  # правая половина\n",
        "\n",
        "print(left_part)\n",
        "print(right_part)"
      ],
      "execution_count": null,
      "outputs": [
        {
          "output_type": "stream",
          "name": "stdout",
          "text": [
            "['Москва', 'Санкт-Петербург']\n",
            "['Ижевск', 'Владивосток', 'Новосибирск']\n"
          ]
        }
      ]
    },
    {
      "cell_type": "markdown",
      "metadata": {
        "id": "PqzLROPjQCCr"
      },
      "source": [
        "### Множества - `set`"
      ]
    },
    {
      "cell_type": "markdown",
      "metadata": {
        "id": "bIFBV5aFQIT-"
      },
      "source": [
        "Множество в python - \"контейнер\", содержащий  \n",
        "**не повторяющиеся хешируемые** элементы в **случайном порядке**.\n",
        "\n",
        "Объявление множества начитается с указания `{ ... }`  \n",
        "(фигурных скобок после оператора присваивания обязательно с содержимым) или  \n",
        "встроенной команды **`set`**.\n",
        "\n",
        "\n",
        "```python\n",
        "set_ = {1, 2, 'Hello World', ...}\n",
        "```\n",
        "\n",
        "Если необходимо сделать пустое множество:\n",
        "```python\n",
        "empty_set = set()\n",
        "```"
      ]
    },
    {
      "cell_type": "code",
      "metadata": {
        "id": "jvLE9LKkQHhU",
        "colab": {
          "base_uri": "https://localhost:8080/"
        },
        "outputId": "3f4565e6-6ea2-46fb-acd1-c2dfa88109bf"
      },
      "source": [
        "set_ = {3, 2, 3, 3, 2, 1}\n",
        "print(set_, type(set_))  # {1, 2, 3} <class 'set'>"
      ],
      "execution_count": null,
      "outputs": [
        {
          "output_type": "stream",
          "name": "stdout",
          "text": [
            "{1, 2, 3} <class 'set'>\n"
          ]
        }
      ]
    },
    {
      "cell_type": "code",
      "source": [
        "list_items = [2, 'Hello World', 1]  # список произвольных элементов\n",
        "print(set(list_items))  # делаем из элементов списка множество уникальных элементов"
      ],
      "metadata": {
        "colab": {
          "base_uri": "https://localhost:8080/"
        },
        "id": "uAEW9wArS9JJ",
        "outputId": "161ee23b-6d28-42c0-c2d2-c2bf575b533f"
      },
      "execution_count": null,
      "outputs": [
        {
          "output_type": "stream",
          "name": "stdout",
          "text": [
            "{1, 2, 'Hello World'}\n"
          ]
        }
      ]
    },
    {
      "cell_type": "markdown",
      "source": [
        "#### Хешируемые значения"
      ],
      "metadata": {
        "id": "TaFzbbZlES_r"
      }
    },
    {
      "cell_type": "markdown",
      "source": [
        "Объект является хешируемым, если от него работает встроенная функция `hash`.  \n",
        "\n",
        "Большинство неизменяемых типов в Python (`int`, `float`, `str`, `bool`, и т.д.) – хешируемые.  \n",
        "Неизменяемые коллекции, например `tuple`, являются хешируемыми,  \n",
        "если хешируемы все их элементы.\n",
        "\n",
        "```python\n",
        "{2, 'Hello World', 1}  # OK\n",
        "```\n",
        "```python\n",
        "# списк - не хешируемый\n",
        "{[1, 2, 3]}  # TypeError: unhashable type: 'list'\n",
        "```\n",
        "```python\n",
        "# кортеж со списком внутри - не хешируемый\n",
        "{(1, [2], 3)}  # TypeError: unhashable type: 'list'\n",
        "```"
      ],
      "metadata": {
        "id": "aZwQRT-FFWhU"
      }
    },
    {
      "cell_type": "code",
      "source": [
        "print(hash(\"sdkfjsdkjfnksjdnfkjsdnfkjsndfkjsndfkjsndfkjsnd\"))\n",
        "print(hash(\"sdkfjsdkjfnksjdnfkjsdnfk\"))"
      ],
      "metadata": {
        "colab": {
          "base_uri": "https://localhost:8080/"
        },
        "id": "nz_xw0JeFuQ4",
        "outputId": "16758b02-b8e0-4825-a905-47db282ffbc7"
      },
      "execution_count": null,
      "outputs": [
        {
          "output_type": "stream",
          "name": "stdout",
          "text": [
            "-5406546861940849492\n",
            "-6543003984255637257\n"
          ]
        }
      ]
    },
    {
      "cell_type": "markdown",
      "metadata": {
        "id": "G30j84MEsguw"
      },
      "source": [
        "### Словари - `dict`"
      ]
    },
    {
      "cell_type": "markdown",
      "metadata": {
        "id": "A-f-KmUpsguw"
      },
      "source": [
        "**Словарь** – изменяемый тип данных,  \n",
        "предназначенный для хранения элементов вида **ключ: значение**. \n",
        "\n",
        "Все ключи в словаре должны быть **уникальными**.  \n",
        "Также в словаре значение может быть любого типа,  \n",
        "а вот ключ — только **хешируемого**.\n",
        "\n",
        "![list_vs_dict](https://d1zx6djv3kb1v7.cloudfront.net/wp-content/media/2020/05/Append-a-Dictionary-to-a-list-in-Python-5-i2tutorials-1024x427.jpg)\n",
        "\n",
        "**Примечание:**  \n",
        "Начиная с версии Python 3.7 словари (в отличии от множеств)  \n",
        "стали сохранять порядок добавления элементов в словарь. "
      ]
    },
    {
      "cell_type": "code",
      "metadata": {
        "colab": {
          "base_uri": "https://localhost:8080/"
        },
        "outputId": "1de1ee82-3c56-4ce4-91c9-a20fbee3f9be",
        "id": "H7lOfeKrsguw"
      },
      "source": [
        "# ключ - идентификатор города, значение - его название\n",
        "cities = {  # \n",
        "    1: \"Санкт-Петербург\", \n",
        "    2: \"Москва\", \n",
        "    3: \"Сызрань\"\n",
        "}\n",
        "print(cities, type(cities))"
      ],
      "execution_count": null,
      "outputs": [
        {
          "output_type": "stream",
          "name": "stdout",
          "text": [
            "{1: 'Санкт-Петербург', 2: 'Москва', 3: 'Сызрань'} <class 'dict'>\n"
          ]
        }
      ]
    },
    {
      "cell_type": "code",
      "source": [
        "# получить название первого города \n",
        "print(cities[1])"
      ],
      "metadata": {
        "colab": {
          "base_uri": "https://localhost:8080/"
        },
        "id": "P3Vq3l5jj4_W",
        "outputId": "06d9dbf1-9083-430a-bcab-fb597228dbad"
      },
      "execution_count": null,
      "outputs": [
        {
          "output_type": "stream",
          "name": "stdout",
          "text": [
            "Санкт-Петербург\n"
          ]
        }
      ]
    },
    {
      "cell_type": "code",
      "metadata": {
        "colab": {
          "base_uri": "https://localhost:8080/"
        },
        "outputId": "a1977642-424f-4855-c4e9-172624d1327e",
        "id": "H_BFGedHsgux"
      },
      "source": [
        "city_description = {\n",
        "    \"Название\": \"Москва\",\n",
        "    \"Население\": 123456,\n",
        "    \"Площадь\": 654321,\n",
        "    \"Геометрия\": {\n",
        "        \"type\":\"Polygon\",\n",
        "        \"coordinates\": [],\n",
        "    },\n",
        "}\n",
        "\n",
        "print(city_description)"
      ],
      "execution_count": null,
      "outputs": [
        {
          "output_type": "stream",
          "name": "stdout",
          "text": [
            "{'Название': 'Москва', 'Население': 123456, 'Площадь': 654321, 'Геометрия': {'type': 'Polygon', 'coordinates': []}}\n"
          ]
        }
      ]
    },
    {
      "cell_type": "code",
      "source": [
        "# Население увеличилось\n",
        "city_description[\"Население\"] += 1  # city_description[\"Население\"] = city_description[\"Население\"] + 1\n",
        "print(city_description)"
      ],
      "metadata": {
        "colab": {
          "base_uri": "https://localhost:8080/"
        },
        "id": "kz5rn-tQkFOA",
        "outputId": "d675f653-f566-4ee9-8172-54690594b383"
      },
      "execution_count": null,
      "outputs": [
        {
          "output_type": "stream",
          "name": "stdout",
          "text": [
            "{'Название': 'Москва', 'Население': 123457, 'Площадь': 654321, 'Геометрия': {'type': 'Polygon', 'coordinates': []}}\n"
          ]
        }
      ]
    },
    {
      "cell_type": "markdown",
      "metadata": {
        "id": "e9UgGzOzsguh"
      },
      "source": [
        "### Изменяемые и неизменяемые объекты"
      ]
    },
    {
      "cell_type": "markdown",
      "source": [
        "**Переменная** - это именованая область памяти компьютера,  \n",
        "адрес которой позволяет получить доступ к данным. \n",
        "\n",
        "![](https://pythonchik.ru/pic/lb1/intext_1be28589-3503-4ee4-9594-306836be5b11_original.svg)\n",
        "\n",
        "Типы данных в python делятся на:\n",
        "- Неизменяемые - **immutable**.  \n",
        "    Неизменяемые типы данных передаются **по значению** \n",
        "- Изменяемые - **mutable**.  \n",
        "    Изменяемые типы данных передаются **по ссылке**\n"
      ],
      "metadata": {
        "id": "VbwvY-Ctv4fx"
      }
    },
    {
      "cell_type": "code",
      "source": [
        "a = 123456\n",
        "b = a\n",
        "\n",
        "print(a, b)  # 123456 123456\n",
        "\n",
        "a = a + 1  # изменим перемменную a\n",
        "print(a, b)  # 123457 123456"
      ],
      "metadata": {
        "colab": {
          "base_uri": "https://localhost:8080/"
        },
        "id": "Y63a3Uduv9ar",
        "outputId": "1783804e-f3ed-452b-a461-053c6230b62f"
      },
      "execution_count": null,
      "outputs": [
        {
          "output_type": "stream",
          "name": "stdout",
          "text": [
            "123456 123456\n",
            "123457 123456\n"
          ]
        }
      ]
    },
    {
      "cell_type": "code",
      "source": [
        "list_1 = [\"а\", \"б\", \"в\"]\n",
        "list_2 = list_1\n",
        "\n",
        "print(list_1, list_2)\n",
        "\n",
        "list_1[0] = \"новое значение\"\n",
        "print(list_1, list_2)"
      ],
      "metadata": {
        "colab": {
          "base_uri": "https://localhost:8080/"
        },
        "id": "a1aoJRbTw24S",
        "outputId": "e9e14d57-1c83-43e9-c5ca-a1697ce22a99"
      },
      "execution_count": null,
      "outputs": [
        {
          "output_type": "stream",
          "name": "stdout",
          "text": [
            "['а', 'б', 'в'] ['а', 'б', 'в']\n",
            "['новое значение', 'б', 'в'] ['новое значение', 'б', 'в']\n"
          ]
        }
      ]
    },
    {
      "cell_type": "markdown",
      "source": [
        "Если попытаться изменить строку, которая является незменяемым типом данных,  \n",
        "то появится ошибка\n",
        "```python\n",
        "str_ = \"hello world\"\n",
        "str_[0] = \"H\"  # TypeError: 'str' object does not support item assignment\n",
        "```"
      ],
      "metadata": {
        "id": "eNzjqxS5SmLP"
      }
    },
    {
      "cell_type": "markdown",
      "metadata": {
        "id": "dWgZiLQLsguj"
      },
      "source": [
        "\n",
        "\n",
        "![https://app.diagrams.net/#G1QVcWw9KspgIBQ5TOqupm-1Ou-s06aOp0](https://drive.google.com/uc?id=1QVcWw9KspgIBQ5TOqupm-1Ou-s06aOp0)\n",
        "\n",
        "![https://app.diagrams.net/#G1ixGfUnlDiqd8dHhgjr1mk5y2AwmKlEZS](https://drive.google.com/uc?id=1ixGfUnlDiqd8dHhgjr1mk5y2AwmKlEZS)\n"
      ]
    },
    {
      "cell_type": "markdown",
      "source": [
        "# Самостоятельная работа"
      ],
      "metadata": {
        "id": "qZIkuuJQOukJ"
      }
    },
    {
      "cell_type": "markdown",
      "source": [
        "##### ***Задача. Настроить среду colab***"
      ],
      "metadata": {
        "id": "ZCKKz7XEY7mY"
      }
    },
    {
      "cell_type": "markdown",
      "source": [
        "1. Открыть настройки. \n",
        "    В разделе `Editor` изменить размер отступов (Indentation width in space) на 4.  \n",
        "    Установить галочку `Show line numbers`, чтобы отображались номера строк.  \n",
        "![image.png](data:image/png;base64,iVBORw0KGgoAAAANSUhEUgAAAksAAAHbCAYAAADbM97cAAABRWlDQ1BJQ0MgUHJvZmlsZQAAKJFjYGASSSwoyGFhYGDIzSspCnJ3UoiIjFJgf8bAzSDEwMUgzcCfmFxc4BgQ4ANUwgCjUcG3awyMIPqyLsistHlxhpldsTuENcLdPx95dgRTPQrgSkktTgbSf4A4NbmgqISBgTEFyFYuLykAsTuAbJEioKOA7DkgdjqEvQHEToKwj4DVhAQ5A9k3gGyB5IxEoBmML4BsnSQk8XQkNtReEOD2zVTwzc/LLMkvIuBaMkBJakUJiHbOL6gsykzPKFFwBIZSqoJnXrKejoKRgZERAwMozCGqP0iAw5JRvBohNkWFgcGLi4GBqQchZvuEgWGFFNDbGggxlXMMDLy3GRj2VBYkFiXCHcD4jaU4zdgIwuYHRjV7xP//n/oYGDiPMzD8fvf//+/Q////rmJgYN7BwHCAEwCMMl51cUDkjgAAAFZlWElmTU0AKgAAAAgAAYdpAAQAAAABAAAAGgAAAAAAA5KGAAcAAAASAAAARKACAAQAAAABAAACS6ADAAQAAAABAAAB2wAAAABBU0NJSQAAAFNjcmVlbnNob3TVSgfcAAAB1mlUWHRYTUw6Y29tLmFkb2JlLnhtcAAAAAAAPHg6eG1wbWV0YSB4bWxuczp4PSJhZG9iZTpuczptZXRhLyIgeDp4bXB0az0iWE1QIENvcmUgNi4wLjAiPgogICA8cmRmOlJERiB4bWxuczpyZGY9Imh0dHA6Ly93d3cudzMub3JnLzE5OTkvMDIvMjItcmRmLXN5bnRheC1ucyMiPgogICAgICA8cmRmOkRlc2NyaXB0aW9uIHJkZjphYm91dD0iIgogICAgICAgICAgICB4bWxuczpleGlmPSJodHRwOi8vbnMuYWRvYmUuY29tL2V4aWYvMS4wLyI+CiAgICAgICAgIDxleGlmOlBpeGVsWURpbWVuc2lvbj40NzU8L2V4aWY6UGl4ZWxZRGltZW5zaW9uPgogICAgICAgICA8ZXhpZjpQaXhlbFhEaW1lbnNpb24+NTg3PC9leGlmOlBpeGVsWERpbWVuc2lvbj4KICAgICAgICAgPGV4aWY6VXNlckNvbW1lbnQ+U2NyZWVuc2hvdDwvZXhpZjpVc2VyQ29tbWVudD4KICAgICAgPC9yZGY6RGVzY3JpcHRpb24+CiAgIDwvcmRmOlJERj4KPC94OnhtcG1ldGE+CgWGaHsAAEAASURBVHgB7J0JvFVT+8efSCSRDJHQJLNIChmiTBlKKCFEIkOmN1LmIZnHzFLmRJEQEpkqSUSE5hIZQkkldf77u/7v2u++557p3nOnc+7v+XzOPfvsvcbv3vfs33nWs9ausmbNmliVKlVMJgIiIAIiIAIiIAIiUJjAWhJKhaFojwiIgAiIgAiIgAh4Amv5Db2LgAiIgAiIgAiIgAgUJiCxVJiJ9oiACIiACIiACIhASEBiKUShDREQAREQAREQAREoTEBiqTAT7REBERABERABERCBkIDEUohCGyIgAiIgAiIgAiJQmIDEUmEm2iMCIiACIiACIiACIQGJpRCFNkRABERABERABESgMAGJpcJMtEcEREAEREAEREAEQgISSyEKbYiACIiACIiACIhAYQISS4WZaI8IiIAIiIAIiIAIhAQklkIU2hABERABERABERCBwgQklgoz0R4REAEREAEREAERCAlILIUotCECIiACIiACIiAChQlILBVmoj0iIAIiIAIiIAIiEBKQWApRaEMEREAEREAEREAEChOQWCrMRHtEQAREQAREQAREICQgsRSi0IYIiIAIiIAIiIAIFCYgsVSYifaIgAiIgAiIgAiIQEhAYilEoQ0REAEREAEREAERKExAYqkwE+0RAREQAREQAREQgZCAxFKIQhsiIAIiIAIiIAIiUJiAxFJhJkn3LFy40CZMmGCrV69OmkYHREAEREAEREAE8otA1fLozjfffGPjx4+3r7/+2r3++ecf23XXXW233XazFi1a2M4771wezUpZ57PPPmt9+/a1WCxmTZo0sbfeesuqVKmSMo8OioAIiIAIiIAI5D6BKsHNP1ZW3aCq+++/3+66666k3hkEyKWXXmoXXHBBiTVr0qRJ9vfff7vyqlev7gRZfOHp0nTu3Nl5lXy+1157zXbZZRf/Ue8iIAIiIAIiIAJ5SqDMxNK///5rZ5xxho0bNy4jlMcee6zdfvvtVrVq9s6vgw46yGbNmuXqrV+/fsI2pEvz6KOP2o033ujKqFu3rn344Ye29tprZ9QXJRIBERABERABEchdAtkrkQz7/tJLLxUQKTVr1rROnTrZAQcc4Ia2Ro8eba+//rotWbLElThixAjbd999XZoMqyjVZGeddZa1bNnSZs+ebW3btpVQKlXaKlwEREAEREAEKg6BMhNL7733XoFeM8x29tlnh/vw7Bx99NF28sknh/tefPHFlGIJb9Wff/5pm2yySZinNDeIqeJVFKN9G2ywQcbiasWKFU48MlxYVFu5cqUtW7bMateuXdSsSi8CIiACIiACIpCEQJmJpeXLlxdowqGHHlrgMx9atWplO+64o3HTxxKFUyGQnnzySSPgeubMmbZmzRqrVauW7bDDDtazZ09r3bq1y8sfPFfMYPvxxx/DfQsWLLD99tvPfX7ooYfs+uuvT5uG2CSG4PB+eRs1apSrl88dOnSwX3/91R066qij7LzzznPlMlRH/dWqVXPxTTfddJPttNNOvogC74888ojhTfvuu+9cvxs2bOj6s9FGG9m1114bpn3zzTetRo0a4edffvnF7rvvPmP/okWLXF6Ob7fddta9e3c78sgjba21NOkxBKYNERABERABESgigTKLWRoyZIhdffXVYfM6duxot912W5FikhBPF198sRMVYUFxG6eeeqrdcMMNbi/iC3GUzIYPH269evVKm2bPPfd09ZLe25QpU0IPTvPmzQ3RguF5+uuvv8IYKZ+ed0QTs+gaNGgQ7mYmIH1CfCWybbbZxubNmxce+uqrr4whTIxZhccdd5zzJoUJ4jbw2D3++OMZe7bisuujCIiACIiACFR6AmXmcjjkkEMKTLVHeHAjHzx4sP32228ZnYj+/fsXEkrxw1V4nUaOHOnKQ2jgoYkGibPNPl7rrbeeZZImo8b9N9HUqVOdUCL4e9111y2QFWHEbMCoPfXUU4WEEvl8m6NCKZqPtZ7OPPPMUCghxPCqIZ7wtHl79913nefJf9a7CIiACIiACIhA0QiUmVhiBtnAgQOdQPFNRAhcc801bip/jx497J133km6pAAeGYaqvO2xxx42bNgww9OC1wrR423AgAG2atUqe+655wyxED1Wr149t4/9rOeUSRpfbqbv559/viGaeMWLo4kTJ4bFEJ/04IMPhp8RWAz3TZs2za0/lcrz9u2339oPP/wQ5mW5BTjceeedLpAe8eSNITqZCIiACIiACIhA8QiUmViiecTPvPDCC7b55psXaC1xSNzQWVrg4IMPtk8//bTAcT4Q7B21K6+80oksPDB4VKKB4YgIYn/Kw4id6t27twvqxnNF0Pr2228fNoX4Kb8COAtz+uE7EhD71LVrV1tnnXWcV4qYq0SxXaSN98ZFY8LwLA0aNMjuvfde90K8yURABERABERABIpHoMwCvH3zmjZt6jwfQ4cOteeff96mT5/uD7n3OXPm2AknnODim7p16xYeY9FIb5tttpnzHCE2vG288cZ+071TTnmsBI7QiTeCuvEEYQhDYpoI3I4fYmvfvn181nA4Lv4AsVGIMbxTGMIIjxRDm8Rq7b///vFZ9FkEREAEREAERKAYBMpcLNHG9ddf3xBCvAhSZg0mXosXL3ZdYIYbw1EETvMYFIbU/DES4I058cQTXdpkf+bOnZvsUIXZP3/+/AJt2WqrrQp8TvUBsXXzzTe71c7hxevtt992L/JRFnyJa9JsuFQkdUwEREAEREAEUhMo02G4RE1hqQCG1D744AM3nObT4IHxMUoERhfVosNSRc1bVun9cJyvLz5Y3e9P9s6MQoLZ8STFCyKGIhGcxx9/vFu+IFkZ2i8CIiACIiACIpCaQJl4llhvqE+fPmFLGGa78MILw89ssHAjad6LLF7JsBLGukFbbrlluF5SnTp17I477nDHkv2JBnUnS1Pe++PbSDxTUbxLtB/PG2tO4XmDHawJhl+6dKnr3uTJk+2JJ56wfv36lXd3Vb8IiIAIiIAI5CSBMhFLxBhFh5zGjBnj1jfioblR23DDDV2MDl4lzL+zTZC0X1ySxRc5RnxOvBH4nGpFb4ar0lkmadKVkcnxeLHEMBpDj5kYs/n8bDgCulkME08TL4QTj2TxQeAspimxlAlVpREBERABERCBwgTKZBgOocNwmzem1LNAJY8C8caNn3WUogJp991394ftiCOOCLfZIF4nGpfEsBuLUTKbbsaMGQXSEgjtjXr8att+H++ZpImmL4ltnjVH7JE31lyKBq1/8sknbjkFfzz6zpIJCCBezHbzAeSk4XEnrODtjUegyERABERABERABIpHoEzEEk1DHPmFFvnM4pHNmjVzD9Ll8SM8NDe6ijVrDjF13lvnzp1dGv8ZcYAwOvzww+2www5zM98ee+wx++OPP4xVvP/++2+f1Bo1ahRuEye09957uyn50ceXZJImLKSENhh6ZH0pb4iaLl26uH7BhOHKZEKHZRi8sbL5KaecYn379rVHH33UeOjvhAkT/OEC3MKd2hABERABERABEciIQJmJJcTQAw88UMCTghcJ71B0iI5WMzx31VVXhc9w8/uIU4o+yJb8zKZj+QEfLE2Q9BVXXOFm3HkCBDlHjdl1iK2oEMkkTbSMktpmbSnEmzeED8+880wSLUVAWlYg55lwPij8559/tmeeecYFdROz5I1Hq1x33XX+o95FQAREQAREQASKSKDMxBLtwgNEEPJFF13kZr7FxxbxmA8WcXzjjTfctPf4vrAK+Msvv+yEFPE+0ZgnFrrkkSosQUAZUWPRSsRX9AG0HI96ujJJEy2zpLZZRgGRwzT/6JAcbeUhv8QeRS066+2YY45xj38hdiueJXFMF1xwgTsefyxanrZFQAREQAREQARSEyizB+kma8bChQsNrwiPIeGmHhVAyfL4/cQp4YUhH7Pl0hlLEODJWrlypXuYbbx4In8madLVU9zjeJVmz57tstevX98tB8AwI94zjGE7P0PQ7Yj7kw3LuKL0UQREQAREQARE4L8Eyl0s6UyYez4cAq5Xr14F1kt69dVXXfC2Z8R6SiwTIBMBERABERABESg7AhJLZcc6YU1TpkxxC0cSf8WsQWbI4fFiKJJHtnjD48bz3ghql4mACIiACIiACJQdgTJZZ6nsupN7NfkhNlpO0Hl0CQDfG4K8b7/9dgklD0TvIiACIiACIlCGBMo0wLsM+5UzVZ100kk2fPhw22GHHQq1mWBu1kti/aUOHToUOq4dIiACIiACIiACpU9Aw3ClzzjjGlgjigU7582bZ02aNHFrRyUKQs+4QCUUAREQAREQARHImoDEUtYIVYAIiIAIiIAIiEA+E9AwXD6fXfVNBERABERABEQgawISS1kjVAEiIAIiIAIiIAL5TEBiKZ/PrvomAiIgAiIgAiKQNQGJpawRqgAREAEREAEREIF8JiCxlM9nV30TAREQAREQARHImoDEUtYIVYAIiIAIiIAIiEA+E5BYyuezq76JgAiIgAiIgAhkTUBiKWuEKkAEREAEREAERCCfCUgs5fPZVd9EQAREQAREQASyJiCxlDVCFSACIiACIiACIpDPBCSW8vnsqm8iIAIiIAIiIAJZE5BYyhqhChABERABERABEchnAhJL+Xx21TcREAEREAEREIGsCUgsZY1QBYiACIiACIiACOQzAYmlfD676psIiIAIiIAIiEDWBCSWskaoAkRABERABERABPKZgMRSPp9d9U0EREAEREAERCBrAhJLWSNUASIgAiIgAiIgAvlMQGIpn8+u+iYCIiACIiACIpA1AYmlrBGqABEQAREQAREQgXwmILGUz2dXfRMBERABERABEciagMRS1ghVgAiIgAiIgAiIQD4TkFjK57OrvmVM4PXXX884rRKKgAiIgAhULgISS5XrfKu3IiACIiACIiACRSQgsVREYEouAiIgAiIgAiJQuQhILFWu863eVhICv/32m82YMcNWrlxZSXqsboqACIhA6RGQWCo9tipZBIpE4PPPP7dtt93W+vXrV6R80cSzZs2yo48+2po1a2Zt2rSxZ555Jnq4xLcbN25shxxySImXqwJFQAREoCIRqFqRGqO2iIAIFJ9ALBazXr162ZdffmmHH364E0t77rln8QssZs5ff/3VVqxYYXXr1rW11tLvsWJiVDYREIEKREBiqQKdDDVFBLIh8OOPPzqh1KRJE3v44YezKSqrvAi2jz76yKZOnWobbbRRVmUpswiIgAhUBAL62VcRzoLaIAIlQOCHH35wpey9994lUJqKEAEREAER8ATkWfIk9C4CZUhg+fLl9uSTT9rkyZNt/fXXt3333de22267pC0gFmnMmDE2ceJEN7xFPFLr1q3D9LfffrsL6GbHp59+atdee61tscUWds4554RpFi5caCNHjnTep3/++ce2335769atm22yySZhmk8++cRYc6p9+/a2xx57hPvZoI4qVarYpZdeWmC//zBs2DCbNm2azZ492+265ZZbrFq1anbllVda1ar6qvGc9C4CIpB7BPQNlnvnTC3OcQKLFy+2rl272ldffWU1a9a0zTbbzF5++WVj+CyRvfXWW3b22WfbmjVrXJp33nnHCS2E0BVXXOGyIKIQQxjDcQyDNWzY0H3mz7hx41w80x9//GE77bSTMVuOcocMGWKvvvqq1a9f36WdPn26PfHEEy5NvFh67rnnbO21104qlr799ltXL3VgEyZMcOlXr14tseSI6E9ZEFiwYIHxKorVq1fPeMlEIBkBiaVkZLRfBEqJwH333eeE0mmnneY8QARB//TTT3byySe7GgnU9kbcDzFATZs2tVtvvdWJpblz5zrB8tBDD9mRRx5pu+22m+HVQTB16tTJOnbsaFdffbUvwomsyy67zAVdjx071ho1auT2DRo0yG644QZX7gMPPBCmL+4GHiReJ510khNNI0aMUMxScWEqX7EJIHpYMmPUqFEZlXHUUUdJKGVEqnInUsxS5T7/6n0ZE2D4jen8derUcYLGzxZjyKx///6FWoPnhzwXXXRR6HlieYHu3bu7tJksDfD333/b5Zdf7rxICCWMehFn1atXd4HYbqf+iECeEOA6RwSlM9L4/4l0aXW8chOQZ6lyn3/1vowJzJs3z/3q3X///QsNTa277rquNcQFeZsyZYobqiP2h2Etb4gchsTmzJnjdyV932CDDZy3iQQMs9EGpvczrLfOOusYYkomAvlGwAumZB4mCaV8O+Ol2x+JpdLlq9JFoAABH1eEZymdLVu2zAjsZliuS5cuCZMzfJeJsfZSnz593PAfwqt27dpOrFFHrVq1MilCaUQg5wgkE0wSSjl3Ksu9wRJL5X4K1IDKRMCvO0TcUTpD1DBcRqD2gAEDEiYnTToj4Pr00093ZTFsx8w7P/zXsmVLW7VqVboidFwEcpZAvGCSUMrZU1muDZdYKlf8qryyEdhmm21cl8ePH+88RtEht3gWDJFtvfXWLvibAG8+F8cI/GbYrW/fvrbffvulLMIPBf7+++8p0+mgCOQSAS+YaDPbMhEoKgEFeBeVmNKLQBYENt10U2vRooWbus+aRlFjCn+8Mdtt6dKlFj9bjXijgQMHumUC4vPEf+bRIxgz66LGmks///yz/fvvv+FuxBnG0gNR+/DDD80vCRDdn2ibGCmMIT6ZCFQUAogkCaWKcjZyrx3yLOXeOVOLc5zAf/7zHze9/owzzjBerLOEOHn77bddz6JLB1xwwQX22muv2Z133mkzZ850z3tjjaTRo0e7xSeZJs0CkqkMbxJxSW+88Yb17NnTPWSXhStZ5BL7888/3YshQp4lxzPdEEc9evQwAtG//vpre+WVV5yoirYtWZ0HHHCAvfnmm25ZhIMOOsg6dOjgZt0lS6/9IiACIlDRCcizVNHPkNqXdwSIExo8eLCb5XbvvffaVVddZcQwsRhkvDHrDY/T8ccf7xaRZM2lG2+80XmbeP5bOqFEeazQTdnEPrE6N/lZOfyee+4Jh+VmzJjhqmYYDi8WHiYED+smMZuIxS8z/VXOQ3xbt27txB9B5fIwxZ9VfRYBEcg1AlWCX4r/WwEv11qv9opACRFARLRr166ESsu8GGbH1ahRI6PFGxl6mz9/vvNE8YiU4tgvv/ziArrxHqWzRYsWGatvZ5I2UVkM8bG8QfRxKonSaZ8IiIAIVHQCGoar6GdI7ctrAkURIsxgY0HKbIwhv0wtk+UNUpW1+eabpzqsYyIgAiKQMwQ0DJczp0oNFQEREAEREAERKA8CEkvlQV11ioAIiIAIiIAI5AwBiaWcOVVqqAiIgAiIgAiIQHkQkFgqD+qqUwREQAREQAREIGcISCzlzKlSQ0VABERABERABMqDgMRSeVBXnSIgAiIgAiIgAjlDQGIpZ06VGioCIiACIiACIlAeBLTOUnlQV52VlkDnzp0rbd/VcRHIZQJDhw7N5ear7VkSkFjKEqCyi0BRCOgLtyi0lFYEREAEKgYBDcNVjPOgVoiACIiACIiACFRQAhJLFfTEqFkiIAIiIAIiIAIVg0DOD8OtWLHCpk2bZvPmzTOeRdW0aVPbYIMNCtGdNGmSe2DpTjvtVOiYdoiACIiACIiACIhAMgI5LZaGDRtmt956q/F0c288bHS//faz+++/P3yS+/Lly43A2lq1atlnn33mk9rSpUvtzz//dE9Fr169erhfGyIgAiIgAiIgAiLgCeTsMNyoUaPsP//5j62zzjp28cUX2/Dhw+2+++6zI444wsaPH28dO3a03377zfUTIdS7d2/38h3nffDgwdaqVSt7//33o7u1LQIiIAIiIAIiIAIhgZz1LA0cONB14vrrr7e2bdu67T333NOOOeYYe+yxx+yGG26wkSNHWrdu3dyxnj17hp3WhgiIgAiIgAiIgAhkSiBnxdLMmTNt3XXXtf33379QX9u1a2ePPvqoffnll+GxG2+80WrXrm3nnnuuffrpp4Zn6vPPP3fHn3/+eeeNOvnkk2277bYL88yaNcvGjBljEydOtLp161qbNm2sdevW4XFtiIAIiIAIiIAI5D+BnB2GQ9SsXLnSEq1bg7BB4Nx5553hGWTIbcSIEe7zjz/+aB999JELCmfH9OnT3efff/89TP/WW285cXTTTTe5dE899ZSddtppdvPNN4dptCECIiACIiACIpD/BHJWLPXt29cI5r722mutT58+oZcok1N29NFH29tvvx0O0VEGn1u0aOGyT5061Xr16uVm1rGf17hx42yvvfayhx56yDguEwEREAEREAERqBwEclYsEZiNV2nbbbe15557ztq3b28HHXSQG35bvHhxVmdvyJAhxgy6iy66yJo0aeLKop7u3bu77WeeeSar8pVZBERABERABEQgdwjkrFgCMZ6gsWPHOrF0/PHHuyUEiE1q2bKli0kq7mmYMmWK1axZ06pVq2YTJkwIX8yqW3vttW3OnDnFLVr5REAEREAEREAEcoxAzgZ4e85VqlSxfffd17369+9vr7zyiosruuCCC9wilHibimLLli0zArtjsZh16dIlYdaffvop4X7tFAEREAEREAERyD8COSmWEDR//PGHW2SyRo0a4VlhdlynTp2M48QhsXRAUcUS3iRioRo2bGgDBgwIy45ukEYmAiIgAiIgAiJQOQjkpFiaPHmyde3a1Xr06GH9+vUrdKYQSIil7777rtCxdDtY5HLrrbc2vEc8OoXPMhEQAREQAREQgcpLICdjlhh24/lvL730ki1YsKDQ2fMB2DvuuGOhY9Ed/hlyf/31V3S3HXnkke5RKA888ECB/WvWrDEWw2TpAZkIiIAIiIAIiEDlIJCTnqWqVau6NZR4zMmBBx5ozZs3d8NtrLv04Ycfuue/bbzxxkbcUio74IAD3GEWsGT2GyKM4Tfyvfbaa64OFr9kMUoenTJ69Gi3oGW9evXc7LtUZeuYCIiACIiACIhAfhCoEgQyx3K1KwRis0gks9d++eUX1w2EFM+HQ0g1atQo7Frjxo2tQYMGbs2kcGewceWVVzoP1d9//+0evssaTNiSJUvsuuuuc6IJIcUsuO23394uueQSO+SQQ1wa/ckfAq+//rqx8rtMBERABERABOIJ5LRYinaGGCOGyerUqeOETfRYum2G4RBHW2yxhQvujqanzPnz59tmm21m66+/fvSQtvOIgMRSHp1MdUUEREAESphATg7DJWKA0CmuEbvk45fiy2BmHAtSykRABERABERABCongZwM8K6cp0q9FgEREAEREAERKA8CEkvlQV11ioAIiIAIiIAI5AwBiaWcOVVqqAiIgAiIgAiIQHkQkFgqD+qqUwREQAREQAREIGcISCzlzKlSQ0VABERABERABMqDgMRSeVBXnSIgAiIgAiIgAjlDIG+WDsgZ4mpopScwbNiwhI/pqV27tp122mkVgs9bb71lP//8s51yyikVoj1qhAiIgAiUJwGJpfKkr7orJYGvvvrKWDG+ZcuWBfq/4YYbFviczQfEzqRJkxI+aDqTctdbbz2rXr16JkmVRgREQATynoDEUt6fYnWwIhLYZptt7Pjjj0/btNWrV6ddkT5RmqVLl9qiRYvSlk+CRPn9cxMzKiCSKFFZkcPaFAEREIGcJCCxlJOnTY3OdwI8EJqHOc+ePds22WQT9+DmQw891HWbhzvzTMQzzjjDXnjhBTdc1qxZM+vUqZMhwnr16mW///67rVq1yrp37249evSwFi1aFELGg6E/+OADmzt3ru2000528MEH29577+3SDRkyxJXbu3dv+/LLL+2ee+4plH+XXXaxiy66yO3/+OOPbeTIkTZnzhz32KBu3bpZ06ZNC+XRDhEQARHIRQIK8M7Fs6Y25zWByZMn28MPP2yIkXvvvde6dOliTz31lI0dO9b1G+8NnqNXXnnFCaFrr73WCZtRo0a549dcc40hrBBZiKpEomXixIk2ePBgO/LII+2uu+5yj/S5++67ndihkBUrVrihQrZ5CHW/fv3CFx4x6kegYV988YU9+OCDduCBB9qdd95pu+++u912223222+/ueP6IwIiIAK5TkCepVw/g2p/ThL49NNPnQco2vjrrrvONt54Y+ehwdNz8sknu8Obb765IaCGDx/uvD8+z3nnnec8SXxu3bq1jRgxwh1CJPHQ57XXXts9ANqnj77/8ssvRlzSHnvs4WKTTjzxRPcQ6mrVqkWTuW1ilxo0aOC2EUkIIbxQfqju5ZdfdsLpiCOOcGm6du3qPFZ4rTp06FCoPO0QAREQgVwjILGUa2dM7c0LAg0bNrRjjjmmQF94mDNeo1mzZlnnzp0LHMOLw1DX8uXLw/2IHW+1atWyJUuWWCwWsypVqvjdSd9btWpl48aNMwQXQ3QMvx100EEp46Mo+/7777caNWoYw2wY+2gvD7JGRHlDqGUaM+Xz6F0EREAEKioBiaWKembUrrwmwDIBeHXijTgjXniGopapCIrmSbWNB2vAgAH29ddf24QJE9xwHx4shttq1qyZMCvDftOnT3dDe94D9e+//9rKlSttq622siZNmoT5dt11V9tyyy3Dz9oQAREQgVwmILGUy2dPbc87Auuss47z0kyZMqXAkBtB1nXr1i2x6fyffPKJUReCDWFDcDheJmKZ2rZtW4grIolgctLQDm+UgchCNB1++OF+t95FQAREIK8IKMA7r06nOpMPBBie+/zzz13sEsNuCCXWTCqKGKlTp46bEUeQNZ6qeJs3b56b4YZniePff/+9EzyJ1npieI/ZcM2bN7cdd9zRFi9e7F7MuMMIEv/ss8+MAPNly5bZ/PnzjSBzypaJgAiIQD4QkGcpH86i+pBXBIgdYtHKF1980Z599lk3q+3YY491M9wy7Sgz0vAAnXvuudazZ08XAB7NS3mIoFtuucUNo5GWWW6JlhiYOnWqE0d4nXh5I3Zp0KBBrl2IOtr79NNPuyFE+oCwkomACIhAPhCoEsRCxPKhI+qDCGRD4PXXX7d27dplU0SJ5+VfE0Gz0UYbFbvsP//80/AWJQv6po6//voraZxSUSqmLOqjvcnqK0p5SisCIiACFYWAPEsV5UyoHSIQRwDBkY1Qorh0+akjWUB3XHPSfqQsZuXJREAERCDfCChmKd/OqPojAiIgAiIgAiJQogQklkoUpwoTAREQAREQARHINwJlMgw3Y8bMfOOm/uQRgcaNG+VRb9QVERABERCBkiYgz1JJE1V5IiACIiACIiACeUVAYimvTqc6IwIiIAIiIAIiUNIEJJZKmqjKEwEREAEREAERyCsCEkt5dTrVGREQAREQAREQgZImILFU0kRVngiIgAiIgAiIQF4RkFjKq9OpzoiACIiACIiACJQ0AYmlkiaq8kRABERABERABPKKgMRSXp1OdUYEREAEREAERKCkCUgslTRRlScCRSTAA2i/+eabjHMtX77cpkyZYtOnT884jxKKgAiIgAgUn0CZrOBd/OYppwjkL4F58+bZSy+9ZC+++KLxENoPP/wwo87279/fnnzySdtpp53sjTfeyCiPEomACIiACBSfgMRS8dkppwgUiwCi6L777rOJEycaXiVs6623zqisSZMm2VNPPZVRWiUSAREQAREoGQIahisZjipFBDImMHr0aJs7d6717NnT3nnnHatRo0ZGef/55x+7/PLLrWHDhhmlVyIREAEREIGSISDPUslwVCkikDGB8847z66//npba62i/Va59957bdasWTZ06FDr1KmTG7rLuNIKnHD16tX26aefWoMGDWzddde1zz77zJYtW2bNmjWzunXrhi3Hq1atWjVr2rRpuO+vv/6yadOm2WabbSYRGVLRhgiIQEkTkFgqaaIqTwTSENhyyy3TpCh8mADwBx980E455RRr0aJF4QRlsGfBggXGqyhWr14945XKVqxY4cRfu3bt3NDkkiVLbNWqVVa1alUjPqtz584uO/FZgwYNsuHDhzshxc4bb7zRXnjhBbcvVR06JgIiIALZEJBYyoae8opAGRDA89K7d2/bdNNNrU+fPmVQY+IqED0rV660UaNGJU4Qt/eoo45KK5SiWd577z27//777cADD7SffvrJzjnnHOvbt6+1atXKlQODMWPG2JVXXmmvvvqqTZ061Z5//nnr0aOH7b777tGitC0CIiACJUqgaOMAJVq1ChMBEciEwOOPP25ffvml3XDDDbbBBhtkkqXU0jRq1MgQQemMNKQtiuE1a9OmjfMoIcx69epl//77rxt2pJzq1avbbbfdZl9//bWbDdivXz83dHfppZcWpRqlFQEREIEiE5BYKjIyZRCBsiMwZ84cu+OOO4whqkMPPbTsKk5RUzrBVByhRHXrrLNOgVr33XdfJ5xg4K1ly5Z26qmnupgvhiZhQ5yTTAREQARKk4DEUmnSVdkikAUBlhVg2I2gZgLCK5IlE0zFFUqJ+oYXbauttrLFixcXOHzsscfamjVrrH79+hp+K0BGH0RABEqLgMRSaZFVuSKQJYGRI0fa+PHjnXeFuBxEAq+OHTu6kmfPnu0+s5xAeVi8YCpJoeT788svv9gWW2zhP7phuauuusqJKDxOjz32WHhMGyIgAiJQWgQU4F1aZFWuCGRJYO2117a2bdsWKsUvZMnSA7Vr17YNN9ywUJqy2hEVTGxnY3/88UeB7OPGjbO///7bdtlll3A/MwK/+uorGzZsmCEmb7/9dsdIa0+FiLQhAiJQCgQklkoBqooUgZIggKeGV7whlhiC2nbbbY3g7/K2bEWSb/+zzz7rvEgIRB4FgwcJMciaUti3335r99xzj51wwgm211572Q477OAe90KAN4+NKeq6Vb5evYuACIhAOgI5K5amT/8meFRE6u5tsskmtvnmmydNdNxxHY1fs7Vq1Qq+bIe7dF988UUwLXmk7brrbta+ffukeXVABESgZAkcffTR7vl4d955p3sMDN6iBx54wK1wzqw4RFHNmjXdcgLUzDaCillzDMcxVCkTAREQgdIgkLNiiS9I1p9JZV26nGTdu3dPlaTQsYED77eZM2caa77ss88+odj64YcfXLzEWmtVCZ7jtU2hfNohAiKQHQGej8cz81i9m+E3VuX2xgKVidZ34geNftR4SnoXAREoLQI5K5ZKC8ieezZ3j5Ro0KCh4ZnydsUVfQzBxDTl11/Xk949F71nT4B1g4piVapUcc+WK0qeXErLs/IyfV5eLvVLbRUBEchdAjkvltZbbz17+OGHE56BmjWLHvh69tln20kndQlc/EXPm7AR2ikCIiACIiACIpDTBHJeLPEru169rdOeBKYZv/nmm8Ev8jnBtON6dvzxxyfMM3z4S7Zw4Y/u2FlnnWUzZsywd99918U2sZPYCR7JULfulsEU7uNcOp4GT6zTlClTbM6c2e7hn82bN7e9997HHfd/3nxztH3//Qz38cwzz3QrE3/77XTr1u0Ma9KkiU+mdxGoVARYjJL/NYK2ZSIgAiJQEQnkvFjKBOrkyZ/aNddcY8uXL/9v8on29ttv24oV/vP/SmG6MlOTsW7duhlr2YwY8f/B3+wjTorPTGdGLCGULrvssuBxFFM5HNqIESNsv/32CwJQr3br5HBg4sSJRvkYIszn6dChg9unPyJQGQmw6CbPe5OJgAiIQEUlkPNiCU/PCy8MLcS3cePt3JPJETfMrvFCqWnTps7z88knn9jSpUsK5Yvfgcfn1FNPcwJp6dKlxto3J598Shj4fcMN14eiZ8cdd3QeokmTJgXeqYVuZs+QIYPtzDO7xxcb5uHAWmutXei4doiACIiACIiACFQMAjkvllatWpUwZomVjps1a+a8OTzBHGvRooX173+zMXS3aNFPdvrppzvPUKpTgVji9c47YwJxtdR5iU477TSXZcGCBfbxxx+77T322MNuvfU2t9YLs3m6dDnRzeoZOnSoE1fEVkWNmXY8Vb1OnS20PkwUjLZFQAREQAREoIIRyHmxxEJ0PKE83mrV2tjtmj9/XniIxe4QShgiZf31108rlsLMCTZ4kKe3ww47PBQ9zORhnaYJE8a7YTsW08OjFTUCyTOJtYrm0bYIiIAIiIAIiEDZE8h5scRU/ieeGJyUHM+W8rbppv9bt8Xvy+b9+++/D7PHL3658847O7FEApYciBdLXrSFBWhDBERABERABESgQhLI+wfpRpcA+Pnnn0v0JGy4Yc2wvB9/XBhus8HwoLfatf/fy+U/610EREAEREAERCB3COS8Zykd6jp1/ve4k2nTptkhhxzisvB8rdWr16TLXui4f4gpB1iCwBtLBxx++BH+o1GXNw23eRJ679y5syDEESCuTyYCIiACFZlAzoslZruNHftOQsbbbLOtC+pmHRc8PWPGvO0eoUBw9ahRr2Y0G84XvOmmm7rhNJYKoL7tt9/Blc1z5Xi+3Pvvv2+kadVqv+DZcq/aZ59NdlkZjttqq618MXqv5AQkDCr5BaDui4AI5CSBnBdLiJebbropIXyeTn7OOT3tmGPaBw/KfdEtHzBo0OPGCyM4fM2azLxLBx98sFt4knzUV6dOHXv22efs3HPPtZtvvjlYs2lF8PlZ9yINxgy4Xr0uDIPK/3+v/oqACIiACIiACOQSgbyPWeJkMEW/c+cTnXjhM0HhrH3UsmVLPmZkBx7Y2phNxww6DKGFtWnT1u64405r0KBBuI+1mHbfffdgSYNHrHHjxi6d/oiACIiACIiACOQmgSpBDE6stJs+Y8bM0q4io/IZslu0aJHzCiFoimMM5zHDDs9SfBl4lzhWt27dQseKU5fylA2Bxo0bBQ9Hft3atWtXNhWqFhEQAREQgZwikPPDcEWhjbhByGRjxD8lK4Nht6233jqb4pVXBERABERABESgghGoFMNwFYy5miMCIiACIiACIpBDBCSWcuhkqakiIAIiIAIiIAJlT0BiqeyZq0YREAEREAEREIEcIiCxlEMnS00VAREQAREQAREoewISS2XPXDWKgAiIgAiIgAjkEAGJpRw6WWqqCIiACIiACIhA2ROQWCp75qpRBERABERABEQghwhILOXQyVJTRUAEREAEREAEyp6AxFLZM1eNIiACIiACIiACOURAYimHTpaaKgIiIAIiIAIiUPYEJJbKnrlqFAEREAEREAERyCECEks5dLLUVBEQAREQAREQgbInILFU9sxVowiIgAiIgAiIQA4RkFjKoZOlpoqACIiACIiACJQ9AYmlsmeuGkVABERABERABHKIgMRSDp0sNVUEREAEREAERKDsCUgslT1z1SgCIiACIiACIpBDBCSWcuhkqakiIAIiIAIiIAJlT0BiqeyZq0YREAEREAEREIEcIiCxlEMnS00VAREQAREQAREoewISS2XPXDWKQIUhsHr1avv8889t+vTpZdKmf//9177++mv7+++/y6S+bCuZN2+e/fDDD9kWY7/++qt9//33WZdTEQv45ptv7I8//qiITSu1Ni1fvtxdx6tWrSq1OlRwxSJQtSya07hxo7KoRnWIQE4QGDZsmC1YsKBQW2vXrm2nnXZaof2ltQMhcMMNN9jaa69t+++/v+2www6lUtXDDz9su+yyi7Vq1cqWLFli1113nV1zzTW20047lUp9JVno008/bRtttJGdd955WRX74Ycf2ttvv20DBw7MqpyKmPmmm26y7t27W+vWrYvVvO+++85GjBhhl1xyia2zzjrFKqOsM/H/y3V833332eabb17W1au+ciBQJmKpHPqlKkWgwhL46quvnGelZcuWBdq44YYbFviczYe33nrLJk2aZP369UtazPvvv2+bbrqpcbNba63SczKvv/76tu666yZthw5UbgJVq1a1DTbYoFSvwcpNWL0vCQISSyVBUWWIQBEJbLPNNnb88cenzcUwGZ6fVJYozdKlS23RokWpstm0adNsxx13THiTSlRmfGEMqXGji1qifF27do0mKZPtRO2IVpzqeCwWszVr1qTlHi2vqNup6qfuKlWquFeyclPlj89Df3hFBXG2dVA/5dHOZJaujf76adiwYVLPXaoyinOeUpVHP9Id921O1udMykiVV8cqLoGC33QVt51qmQhUKgIM27z22ms2e/Zs22STTax9+/Z26KGHOgYzZ860m2++2c444wx74YUX7Oeff7ZmzZpZp06dDBHWq1cv+/333414CoZHevToYS1atAj5EW9xwQUX2LJly2z+/PmGh+nyyy+37bbbzubMmWOPP/64zZo1y9W711572YknnhgOj1DWYYcdZp988onNnTvXGDo8/fTTnbB45pln7KeffrJdd93VjjvuOGvSpImrs2/fvrb33nvbMcccE7aBDWKBGI6jvbvttps7xvDGtddea71797btt9++QPpbb73VtthiCzv11FPD/X369LH99tvPjjrqKLdv9OjR9sEHH7i2Mcx38MEHu7p9ho8//thGjhzp+klZ3bp1s6ZNm7rD3Hyff/55wysHuz333NMxYhgu3r744gs3pMYwjPea+aHFzp07u+Q+zb333htmp+5XX33V3ZT33Xdf69Kli9WoUcMd53wMGjTIpkyZ4o7jeeQcr7feepbunIcV/HfDpz/iiCNs1KhRts8++7jrINs6yP/ggw+6NlarVs0oH25R4xriWiA2jb5xbo4++mgnrO666y4jH9fst99+68ri/bHHHnMvyjnnnHPc9T5hwgQX54WY4vrnWsSo77nnnnPDmpwnrn3K5DycddZZLk38H9rC8DdDfvXr17cDDzzQDjnkkFDspfp/oyz+T+6///7wmmdIOd5SXVvxafU59wiUnu8991ioxSJQIQhMnjzZfJwPN1puqE899ZSNHTvWtY9fv3iOXnnlFXcDRFxw8+GmiHHTRlghshBVXgy4g8Efbr7sr1u3rh1wwAFumxvIihUrXF4E1z333OPKHjdunHEj8fbXX3/Zu+++6wTLgAED3I2HNhLbg4i5/vrrndAYOnSoz+IExz///BN+9htbbbWV1apVy7jJeGPoEE8awi3eEHkrV64ssJubty974sSJNnjwYDvyyCONm/K2225rd999txNGZEK8cKPnRnnnnXfa7rvvbrfddpv99ttvrkxEEgIVdvStUaNGTqQUqPC/HxBy1E1wM/bLL7+4IPnx48f/N4XZl19+6RjDGyPIGyFx5ZVXWs+ePZ1Ipb8Y5/SOO+6wxYsXG+LywgsvdOUhOvzxVOfcJYr88dcIggPBDJOSqOORRx6xGTNmOJHJuea6w9viBRMsYVenTh1D3CLguRY4NxiB/Yhz4uPoJ8Nv5Kdv3thG2Bx++OF2yy232GabbWZDhgzxh+3NN99056lt27aursaNG7trlOs3kSHAvdCmbe3atXPXK+caS/f/hiDr37+/86Qhzi+66CKbOnWqy+v7ne7acon1J6cJSCzl9OlT43OVwKeffuo8KnhV/AtvEIb3Aa/IySef7IJH8Zw0b97chg8fXqC7BB2TDg8OwbV4JDBEEnFCiA5uNN7z4TMzdMJ+htBIxzaBtdxML730Uid6iGUiKJtf8wimqHXs2NF23nlnJ5TY5mbCL3/EBzcubnL8kkdMpDPEGoKBujG28YJEh4zSleGPI1gQJnvssYfrEx4xhAJeB+zll192Xgi8IQhFhgdhgycK4yaMhwtxWq9ePecJo5+JjHoYwkQQYbQbUYrY8bPnGObE6+HNB4oj4uBKXf6c4V0h/ZlnnukYkg/RhjD1N2TKSXbOfR3x7+eff74LrEeYZlsHM94QPXiKECpbb721nXvuuQWGK2kvhseOOkkHl3feeSdsGn2HMf1PFtB9wgknuOuAOjp06ODEqJ8Ugajl2uT/I915olKuX87z2Wef7dqMV4jr1Z+ndP9vnFvOK15VrnH+3+hf1NJdW9G02s5NAhqGy83zplbnOAGGFuKHpfiVjWhgCMwP5fhucvPEA4N3xZv3WPAZDw0zzbixpooj8XkTvTNkws0J7whB6NycuElsvPHGBZJHY6j8seiMINpCTAxeBD/EVKCAyAduXM8++6yrj7rpe/yNKJI85SZlcWNEUDDsyNDfQQcd5G7mcKFsht7wJnmjL8R20V6GEEkftWhfo/vZ5py89957bjc3VPJyU2YbLnMCLxJiwhvCIFoe4skLALw1HGd4yRtiEyHqRTT7i3rOq1ev7otzHqFs6oAPHKOzGBG10dgl+sFnPHfe4Iv3yFu0TX5f/Hs0jR8GRawhwCgP72DU4mPnoscYkkRcRY1hYiyT/7cff/zRaA8i15s/j/yvpbu2fB695zYBiaXcPn9qfY4SINYHD0i8cXPkhccnatmIoGg5qba5KRO7xC9nvFn8omdoj7ip0jK8YNx8EWjcBPFyJRqCy6R+BArDLHi1GH5ieBARx4xARAZDeNxsfSwVZRJfteWWW4bFR2/S4c4kG5y/J5980hYuXOhia/DKIRTeeOMNFzvGOUYAZmIIIzxgtCdqCL54z2D0eFG2s60DQYlFBVt8/dSBuIn2g+2S6oOvryjnif+nZB4s+pTu/43/PfrMuU1kCMFMrq1EebUvdwhILOXOuVJLKwEBvtTxfjA8Q3CyNx//UpSbhM+b6TtxGMQk4Q3xYi3VjTHTctOlYyiOmCyG0Qh6TmbchOMXP/Q3cPIQdA4/RAw3aOJl8DIxdMRwEMKJGxvDhImM43jUSOstWr7f598RWeRBMCHA8AzibXrooYdcDE0iMezzxr8j4hAaDPtlKrDiy0j3Ods6vKiEEcOYGEKClzfq+Oyzz9wQYjJx4dMW5x1PDvFQtMFPeKCcVOeJtpI+asQY8eOgdTB8ne7/jX6TlmE7+odF6+OaS3dtRevWdm4SSCyVc7MvarUI5AUBhudYVZtYCobdEEoM7SS7ySfqNDcUvuAJuOWXcybGDZ+bAENLDL/xPmbMmFJfbZtZX/wy54aWaJaRbztChLgeVhunb8wEJGjaG4tsEpiOZ4k+s2I24sivX0WQMzdyvGUIE2Y4EQxPegyR5I//+eefLqA+/ibr6/LvCCKErZ+phchE8DBkSnszNRjgVWM2HP3jvDOzD09ZSVm2deC5Y4Yg/BCmnAPaC2MvmIgHI0CbGZV4CrmOmKzAopMlZW3atHH/H7TDnycfO5aoDv5vuE4Y4iQ9fJnF6IV3uv83zi1Cnb4ylItoYkID5vud7tpK1C7tyy0C8izl1vlSaysBAWJfiPd58cUXXTwPQ1XHHntsgV/S6TAQiMovarxEzLziF3Q64xc0QdFMbWf2Uf369d1sOWbhpRrKSFduuuN4ywhgJ36HmXjJjDTcFJmZxAw4PiMKvcGIuC1mUCG+6D9rWfllE/BEIELgys0OYQNrArUxbvTE5RBDhaeL4cFkAd6+TgQRooa2eKM+RF26vD497wxTXXHFFc4rxexGPCgELxOgXVJWEnUQJM0MQ2buEbeDcPExRbSTuB6WfUBYENRNLBHxQqecckpJdcP9aGDo058nzl80nii+ogYNGrgZbE888YSbQYq3lGUDCPLG0v2/MTx62WWXuX5zjrheuZZYhsBbumvLp9N77hKoEijj//lQc7cfarkIZEXg9ddfd1OKsyqkhDPzr8nNP3ozKmoV/JLGs1KUoG/qZTiuZs2aRa2u2Ol57Ao3VQRPOmOKOP1JFgeTrv0chwtcE3FBaOEtSRecnq6dxT1O/2hjaQ65ZlsH1wf8k8UC0XeuXQRpquDr4jIiH4IZEY/4YW0mRM9JJ52UskjOO9d1oiFCmKf7f0v3/5Tu2krZOB2s0ATkWarQp0eNq8wEuJFnI5RgV5z81FtWQombHes4MWMpUy9KujiqdO3nODP2khkiIJkQS5anJPen619J1JVtHcRnpTM//JkuXVGPs9QDAfx4q/D6sN4YQ3/eg5iqvFT/D5n8v6XKT73prq1UbdOxik1AYqlinx+1TgTymgCLLzLkyErVfhmCvO6wOpc1AUQRsWQsasm1w3WD0GaNL5kIlBYBDcOVFlmVm1MEKuIwXE4BLGZjCQJmin2q4ZxiFq1seU6AIa9M1vLKcwzqXhkRkGepjECrGhEQgcIEogHahY9qjwgkJ8CQV3nFlSVvlY7kKwEtHZCvZ1b9EgEREAEREAERKBECEkslglGFiIAIiIAIiIAI5CsBiaV8PbPqlwiIgAiIgAiIQIkQkFgqEYwqRAREQAREQAREIF8JSCzl65lVv0RABERABERABEqEgMRSiWBUISIgAiIgAiIgAvlKIC+WDmCtjcmTJ7vnOvH0Zx4I6p+QXdwTxwM1efTCqaeeajyKoah2ySWX2EsvvWRvvfWWbb/99kXN7h5SOWfOnEL5Nt10U/fMK57LJBMBERABERABESh9Ajkvlp588km79dZb3XL3Hhfrb3Tu3Nmt8JpueXqfp6K9v//++9arV6+EzWIBvw4dOriHOyIOZSIgAiIgAiIgAqVHIKfFEk9Hv/rqq61Ro0Z2/fXXOw8OHqZRo0bZ888/bz/88IN7ejjiKVft8MMPL/Bw0W+++cZGjBhhw4YNs/Hjx9ubb75pmTynKVf7r3aLgAiIgAiIQHkTyNmYpalTpxpDXTvssIN7kGLHjh1t5513dsNmL7zwgiEyeOAiD1nMZUMI0hf/uvjiiw2v01lnnWULFiyw++67L5e7p7aLgAiIgAiIQIUnkLOeJbxH//zzj1100UUJPSvdunWz0aNH27vvvuuGrPyZWLNmjYtvQnDwMMaGDRvaQQcdZPvtt59PkvadcidOnOielM7jGtq2bWuHHXZY0nx4gj766CP7888/bbfddrPTTz8966e68+DRRx991KZMmRLWe9ddd7mnXvM0bo5Nnz7drr32WmvQoIFL8+uvv9p7773nRCQcdtllF+vSpYuV1tPBw4ZpQwREQAREQARymEDOiiU8SwQ5I1QS2Z577mn33nuvxccsXXfddTZ48GD3pOr69evbc889Z4899pgTMAiLVEN2y5cvd94sHrqKwMDr8+GHHxqerGSB4FdccYUTZwiW33//3QV8I56effZZ22KLLRI1PaN9fujtr7/+CtPTDj6PHDnSCTkOUCd1z5o1y/C+IdgIOF+5cqUxjDlkyBB7+OGHbddddw3L0YYIiIAIiIAIiMD/COSkWOJp019++aXh1alaNXEXCIJu3779/3oabOFtQSh16tTJbr75ZpeXmXTnn3++29+0aVMnKApkinwYPny4IZROOukkN0OOun/77TfnuSLQHMG03XbbRXKY/fzzz86rVK9ePaPd1Is4ueeee9x2gcRF+IDHDGMYMmpLlixx3iuEIsfWWmst10bahhBEqO2+++4uC16mc845xwWSv/3220lZRsvXdvYE7rzzTltvvfUM7yfXzRdffOHY77XXXs7Tx3XFEPK4cePs+++/N64dvIU77rhjocoz8RYimLneKH/fffe1p59+2vixUb16dWvTpk2h/xMqKYoHFuH9zDPPuB8FiHXEOR7L6CxQPKAMidMP/ifeeOMNmz9/vrtG+X/EwxtvCxcudMKf/3W8yJQHs0022SQ+qXHd4y3mxwtMuPbx4DJ7NN744TBmzBjnHa5bt65j0Lp16/hk+iwCIiAC/yMQ3MBzzoIvw9g222wTO/LII4vU9uBmEQs8TrEVK1YUyLd48eJYcCOK7b333uH+IFDc1XHllVeG+z755JNYsBxALLj5hPvYCG5+Lu2LL74Y7g9ii9y+IAg73MfGv//+G9tnn31ijRs3ji1btqzAseiHl19+2eUPAthjixYtCl+BSIr17ds3ttNOO8UCz1Zs2rRpYTbaH9xQYn/88Ue4j43Ai+XKevzxxwvs58Mtt9zijg0dOrTQscq047XXXiuz7rZo0SK2xx57xAKvqDtfBxxwgDsHXNP/+c9/Ynfffbf7zPXKdcn+QEzEAsGaXWI3AABAAElEQVRRoI0zZ86MBQI/FnhIY8EwcCy44ce23XZbd30FYihMO2/ePFfGcccdF2vVqlUsWFrDpaFcXvfff3+Y1m9w3XGM8oMfHWE72B8IKZ8sFngqYwcffLBLS5/8Nm0KJiGE6bi+KO+EE05wbQxEm/tfZF8QaxibMGFCmJaNQMjHgiFrlyeI14vBgrTB0HFs9uzZBdLy/3vggQe6coMh9Rhl+3KDJUAKpA0mRDheHIc/vNju379/gXT6IAIiIAJRAng7cs4QK3zBHXHEERm3PZgZ5/L07t07YZ4gBsgd54sXSySWfEbECCII4fTUU0/FLrzwQpc38BL4JDEvloK4oXCf3+CGSPu//fZbv6vQuxdLpEv04qbHF3/UEEvc3OLN1xf8Uo8/FAt+tbvyr7rqqkLHKtOOshZLnFOER+AxcZi/++67UDwEnpnY2LFjY6tXr44FXhsnZkgfBPWHp4QfDFwDgZewgIhCTCOYEU6rVq1y6b1YooxgmY1YMJzs9k+aNMmJBcRKVAA98sgj7prguvFlIOwDr47bz3Xv7bbbbnP7br/99rCMwFPmxB2ijPZjXiwhgDjuLfBIufwIF98G+o2gJP+MGTNcUvYFnmGXtmfPnj67+/ERrIfmfnzQd4xy2EawwYi8GPXCBvHn//eCtcxiiEjYRNvlMuiPCIiACPyXQE7OhqtVq5atv/769ssvv/zPRZZmC1c+hts9kfn9iRaC9OkDZm7oLBAlduKJJ9q1QYzTgw8+6IKmScPxTMyvjcQwQzoj8Jx6/IvhtUBIucD1Qw89NF12d5y+E9/l641m8ot3zp07N7pb26VMgJi3QCwZw8UYw7fMeMSOOuooN+mAIdRq1apZ165d3TBdcIN3x/nDYqcMY11wwQXhsCr7A5FkBP8z1MSwcdQYhgt+LLghQPY3b97cGHpeunSpBd7LMCnD1ZtttpndeOON4dAs/2933HGH1ahRwwKBFKZleQ4sECVhvB+TGAJPjZ122mlueCxMHGww5M1xbwxpB15WC8SiGxZjP0Pjl19+uYunIy4Qg8XJJ5/shg4ZQvRGPpYLCTxWru/sZ7gZDsGPKceIoUyM+DziDpkUwsK1WOBZsu7du7tthhJlIiACIpCIQOKAn0QpK9g+vuSY7cWXH7EX8Rb8EnZCBjHAl6wP9OaLOJER+IwRB5XMguEKe+ihh1xsUuBNCuMhWNOJL/dUweHRMomvwGrWrBndnXCbmxlxGtkYfQ9+Xbugbm56UfP9TiSkoum0XbIEEEnxq7AHQ6uuEkRM1BBWnB9/rjjGCvMYgiDe2rVrZwMHDnSzPYkH8pYofgeh8vnnn1vgLXUTDhDwCCcWdV133XV9Vve+8cYbWzCE7OJ9iIPi8yGHHOJEGRMZAo+PEym0lfyJDPEXb/vvv78FHiQn8PghwuQFJiNg/I8HnjEXhxR4jJy4jP4PB94gly7RbNZgONP9uEHgYcRN8T9HG4JhP7ePP3x/cC5S/VAKE2tDBESgUhLIWbHUsmVLY4FGfj0jhuLt448/dmsQEdiM+V+oQYxPfFL3mWUE+JL3HqZEiYKhGvfLmhl1/NItrvlfultvvXVxiyhSPvrOzeHrr7923oRoZvqNBfEm0d3aLgcC6cR29HhpeQuL4oFFLCHM8HbidcJrRRuZicoK8/xfZvJ/wv/yE088YVFPK+3o06ePE3yIm9q1azsvFz+C8Cx74zsASzSzlHxenJEPbxveX4LPE9lPP/2UaLf2iYAIiIAV/45fzvBw5+MlwdsTP4QUBFGHizUGQeCupQwrBEGgbrZMEKtRoPWs2RQEy6Zda4lZP3zpktYbn/EsYdQbb8y+ixriBOHCUERZeXOOP/541wRuaniYvNEfPGXMvuIXvSx3CES9hfGt9h6o4lxfxfHAMuuUmWisP3bppZe6Yb1gYoT16NEjvmkJP3MdYt7TipeLmWzMmmNojOFH1jVjrTL+j6PmhRP/h6kM0YRwY7iTZzYmemmB11QEdUwEKjeBnPUs8aWJhwf3Pw+8xW3PlOVgxpqbcs0wAatcR0UAMSLHHHOMiwE5++yzXdwC8Q+ss8S07HQPzEV48YV65plnuunWfMnzuBGGCbB40cY+vpT5xdo6iKEIgsdt0KBB7HbrNbmNMvjTrFkzF2OFqOPXfhDQakHgrhN5eNqC4NyEU7fLoGmqopgESstbWBQPLMNi/L8xzMU6XfwP8eKHDMODLEeBFzV+OY34LhN3hLFEAoYwYvp/MOsz7Q+YIIjb5eEHDMN5UWNoj7L5DsAzhSeX/0WGtn2sWDS9tkVABEQgGYGc9SzRIeIxWIiRL1k8OHy5EvzMr2PiFfr161eg38RnsL4LX5Z4pM4991wLpvu7gFqCP/1CjwUyRT4QGIpQIqgVL00wFd+t50JALMaXc7zRPr74r7nmGtcmfuHizWHV8LK0AQMGGL/2uXkEs5zcNnEawdIBLji2LNuiurInUFrewqJ4YPHUcE0x5OZ/MNAzhuL44YL5+Dz3IfiDEIpOhOA4Ih4vMWtAYcHSHu49GsjNDhZbxdsU9eAGyy64/1vWq/IeKtKSBs8Wni4fe8WPHYLZH3jgAZKEhugjxuvHH38M92lDBERABAoQCL648sKYgs26M8GieBn1J/hijQWeoHC6ckaZ/puIvNTlp2Bnkje4KcSCZ7llkrTU0wQ3hRjtkf2PQFkvHcCaRPHm18MKhHv8IbcGGMsERO2yyy5zU96DYOpYIMpjTMM/+uij3T4+e/NLBwTeVL8rfA+er+jSB7E/4b7AG+TWVWKaPWuIBcPUbh0i1npiPadAcIRpgwUuXf7Ac+rSBouexoJYI7ckAfv4X8H80gFM0WcJAj6z1AbrIrGPJQi8sSwCSwwEgisWLJoaYymDQPi45QgCT5JLH11LzC91wLprMIAfywNQLmtWeQsCw2N+TatgFmGM5TlYe4y1n6iLzzIREAERSEQgZ4fhCii+4ANu9USrAMen85/x8ARfpv5jkd7JW5S6KJx4DB+TUaTKSiFxomDYUqhGRZYyAbyFeEtZvgJvIZ5CvKbZegu9BzYQY84Di5eGmXQsaYD3NuqBZViXuCGGclklPPiScZ4llrXAm8r/StTOO+88N9GA2aN4dPAosfwBHiBvrNBNwDf1s2I+LzxelB+ILBcfhReXQHKM4Xbis1gdn2F5jNmy8IkGczPrjUf8MHzPZA1WFIdZIArdqvrM7JOJgAiIQCICVVBQiQ5onwhUJgLckJnZlatGLA6xQyUtyHnMCGUT7xOdjZeIE0HWLDvAjFIe5xI1hqOZLXf99de79ZcYavPlIliSGWupEV+XapZqNC+PH2ISQ7rgdoQa61QhwuKX04iWp20REAERgEDeeJZ0OkWgMhMoLW9hUTywiLVMPa6IKR+cneq8IWaKYomeG5coP/FWeJ9kIiACIpAJgZwO8M6kg0ojAiIgAiIgAiIgAtkQkFjKhp7yioAIiIAIiIAI5D0BDcPl/SlWB0Wg/AmwFhprL8XHMpV/y9QCERABEUhPQGIpPSOlEAERyJIAs1W1EGSWEJVdBESg3AhoGK7c0KtiERABERABERCBXCAgsZQLZ0ltFAEREAEREAERKDcCEkvlhl4Vi4AIiIAIiIAI5AIBxSzlwllSG/OGQPBokrzpizoiAiKQOQFWn5flLgGJpdw9d2p5DhLQF2YOnjQ1WQREoNIT0DBcpb8EBEAEREAEREAERCAVAYmlVHR0TAREQAREQAREoNITkFiq9JeAAIiACIiACIiACKQiILGUio6OiYAIiIAIiIAIVHoCEkuV/hIQABEQAREQAREQgVQEJJZS0dExERABERABERCBSk9AYqnSXwICIAIiIAIiIAIikIqAxFIqOjomAiIgAiIgAiJQ6QlILFX6S0AAREAEREAEREAEUhGQWEpFR8dEQAREQAREQAQqPQGJpUp/CQiACIiACIiACIhAKgISS6no6JgIiIAIiIAIiEClJyCxVOkvAQEQAREQAREQARFIRUBiKRUdHRMBERABERABEaj0BCSWKv0lIAAiIAIiIAIiIAKpCEgspaKjYyIgAiIgAiIgApWegMRSpb8EBEAEREAEREAERCAVAYmlVHR0TAREQAREQAREoNITkFiq9JeAAIiACIiACIiACKQiILGUio6OiYAIiIAIiIAIVHoCEkuV/hIQABEQAREQAREQgVQEJJZS0dExERABERABERCBSk9AYqnSXwICIAIiIAIiIAIikIqAxFIqOjomAiIgAiIgAiJQ6QlILFX6S0AAcpHAvHnz7IcffsjFpleoNn/zzTf2xx9/JG3Tr7/+at9//33S4zogAiJQOQhILFWO86xeViACr7/+ur344otZtejpp5+2l19+OasySiPzww8/bB999FFpFF3kMr/77ju75ZZbbNWqVUnz3nTTTfb5558nPf7hhx/a3XffnfR4/IFM6ozPo88iIAIVn4DEUsU/R2phnhHAUzFt2rQK1au33nrLEA5FsUR51l9/fVt33XWLUkyppa1ataptsMEGttZamX/NXXLJJfbpp58Wu03FqbPYlSmjCIhAmRGoWmY1qSIREIG0BFavXm1rr712wnSxWMzWrFmT9DiZOF6lShX3SlhIsDNRHUuXLrVFixYlzEK9vOJFR6I8Xbt2LVIZ0cSZtD2aPt12w4YN7bzzziuUjP7TFzjF28KFC+3vv/+O3x1+TsQuPBhsJKuTNOnyRsuBRTzv6HG2//33X0OcJbN09WV7PJM2Jmub9otArhFI/p+Waz1Re0UgRwmcc8451r59e5swYYKLj+GGy+e99trL9Qih8vzzzxueHIaU9txzT1u2bJlttNFGYY/5PGjQIJsyZYq7Kbds2dLOOOMMW2+99WzmzJl28803u88vvPCC/fzzz9asWTPr1KmTbbPNNtarVy/7/fffXdndu3e3Hj16WIsWLQwx9Nhjj9kXX3zhBBr1HnfccVanTp2kefr27Wt77723HXPMMa5tf/31l2vX1KlTbeXKlbbTTju58jfZZBN3/K677rJatWrZ8uXLXf/pU5s2baxDhw5h3/wG7Rg4cKDdd999offqmmuucWV27tzZJfNp7r33Xje8Rvt5YTB68MEHHaNq1arZEUcc4UQgx8aMGeMYw/rxxx93rG+88UYOORs5cqS9+uqrju2+++5rXbp0sRo1avjD4TvnMFpnunMbZvzvBmLtlVdecd6t6tWru2sAFnDx55HzNnz4cBdr1aBBAycI69Wr50pAAHGOx40bZ7DfddddrV27du7d18V19Pbbb9uPP/5oTZs2tUMOOcR23313f9g+/vhjo79z5syxLbbYwrp16+bSkWDFihVuCPmTTz5x5XMdHXnkkUY7ZCKQzwQy90/nMwX1TQTKkQCiZNiwYXb44Ye7GJvNNtvMhgwZEraIm9trr71mhx56qA0YMMAaNWrkbpw+ATfIO+64wxYvXmyIlQsvvNCmT59uzzzzjEvCcergJowQuvbaa51gGjVqlDuO4KBsBAyiihsoduedd7oyr7/+eiMNN1cfa5UsD4Lkn3/+cfnxfNx2220uEP3cc8+1W2+91e2/7rrrwjgivDhvvvmm1a1b19WNUHruuefsl19+cWmjf7bffnsneAjKxkhDP8ePHx8m+/LLL11ZiETqp9/eHnnkEZsxY4a7+dMnRCNpEEitWrVy9eNtQoxceumlPpsR5I1wuPLKK61nz572/vvv26RJk8Lj0Y34OtOd22hetj3zG264wWBGPV7s+fM4ceJEu/zyy915RrzAFS8PNmLECCeELrjgAhdrVbt2bSOOjD5iH3zwgbsu9tlnH3du6tev7645uGCITQTlgQce6NqCiOIc/vbbb+4454aYNMqHIf3jmqFtMhHIZwISS/l8dtW3nCFwwgknGDewrbfe2nlVEAILFixw7UdM7Lbbbs6bgQcBr83OO+8c9u3bb791MVBnnnmmNW7c2HmNED/vvvtueJMkMUNSeHaaNGlirVu3dh4W9iOSiDVi+A+h5mOOOnbsaBdffLHzPuGBOuyww5wwwbuVLA/leUPI8DrrrLNcm7bccks77bTT3HBfNAgcDxrek6222sp51GrWrGmfffaZLyZ8RwDtuOOOhiDCEBIIO0SinxlILBjejnhjxhsi46ijjrK2bds6zogRP+SJF4e+Y9S/8cYbh0Xg1YHdtttu6zw9nAs8eJlaqnMbLQNBgzDj/CAeOVcXXXSR4SWMGjzx5HC9eJ5fffWVS0LfEcNcH5tuuqnzBHItff311+74G2+84fhwbjkftI08s2fPdseZNMBnvG60gWFVrgdEFkZZeJu2224741qkLYhLL5BdIv0RgTwkUDUP+6QuiUDOEeBm7c0Pr3GD54b1008/2UEHHeQPu3d/k+cDXoF11lnHeWR8Ijw8iBqG17whNrwx9LVkyRInphLF7pCOmzbDZ3ikqAMvAmXyor50xswwhqoYVvRGfxjGmz9/vt/lhgr9B9qCWPnzzz/9rgLv3Mjfe+89tw+xBBdu5mwjcPAAIYLiDYaIEQSIN2KCksUu+TS809cob86PF7LRdMm2k51bP3Tm89F3hhOffPJJN4SIGEIoIYCjFo1lQjwSt+TjzRBReN4YiuOd6wBjmBPvz9y5c51YjJbXu3dv9xE+s2bNcmIIb5I3+u7LR6jjycKzRPsYckV8ykQg3wnkhVgiFoIvZmYZcRPgVw+/0OMNFzm/tvllyBd2OuMLnV96fFnxBZ7I+EWLO58vKeouqjH75qWXXnIxEgwzyEQgEYHoDTf+ODdEYnCIT4kaNzLvJYruz3S7f//+LtiZmBQ8UcTMPProo5lmd6IKgRa9uZPZDwllXFAk4R577OHEBLE9/L8zXEb5eEzwfjHslOh/3w9TRQVjpNgKs4lHh3gxYoLwvj377LOGx5DhyWQGT98/RBIsTjzxRPfi/DNkh5EGwZQsKJzvR75L8fAhlL1xXeGFwnbYYQcXN4bnj9gmhiYZwkwUSO/z610E8oFAzoslYjsIxIx3AxP/gTva/5NzsvjnJoCVL/8HHnggPH8IIsb++dUb/WInDV9WTz31lB1wwAFh+ugGQbXEFDz00EPOdR09pm0RyJYA1+Pmm29uDLNEf8H7myPlc3NDMDH0kkgoFKcNPh6oT58+hkDB2FcUw3NCrAsLaCJkMDwU/LiI95ZkWi7/z/DA+8INnaUB8Dbx/8eaSL6t8eX57wE48n+OITKyEW7xdWT7GS8g8Vd81yCaePH9RjxbMrHEj0QEkP/xx3AZAdt8/2Hes8Q2HjKGGmEQ/T4juB0+XD+wRTT5/OTzBiuGhPHOIZB4scwCXig/rOfT6l0E8o1ATscsXXXVVXb11Vc7rw4Lx/GLChcxrvnRo0e7QE7cz94IVmSM/dRTT/W73DuzgfjHjwaDFkigDyJQjgQQSfySJyCb4amxY8e6G55vEkM13AQR7sQIcc1z/RMMnqlxs+VmjbjxMUmUyQ8MRBI3WAQK5qfWx+eJr4t2keaJJ55ww3jcuIcOHepuzD6IPD5PJp8RRMQM+dmCxFtxo6etCKdExhAds/lgiNeGvsILYRAVTMTjMJTHj6eyNvrBrEcC8xmCpY14ruO92jBkCJWhUTxJxCZ5ryKeH4ZO8YrTj3vuucd1w58zBBgC55133nFCiiFNfux5bxM/JP21xvmiHIL5iXlimJC4LwLAGYbkOsPbyDAdbZeJQD4TyFmxRFArqxjzK4cZIMcee6zbZsx/8ODBtt9++7kxe9J423DDDZ3bmOEJmQjkCgFucHgC8HIymw3vAeLAG0MtV1xxhbvx401lyQBuhkxvz9T4IYHHhXgfhn/waJ1++unOK3T++ecbU/GZIYUxBIbF53E7I3+4Affr1895PhiuOfvss50IYMZeNjdXL4iaN28e1sbQFfVFuYQH/7tB/QSmM3PQDxv5+DCfFo8KnpbobDh/rLTfOY/8AOS7jSUHmNWINwj+UWMokfbDFlFFW31MFd+DfM9ddtll7ruOkARY+wB4+kegPh4rhvcQZ/xY9CEATAw4/vjj3axHjiOU8AISG4XRJrx5lM9xAurJH88x2l5ti0BeEAh+VeWkBf+0scC1Hwt+KSZsf/DLMxb8g8cCL1J4PPiVFAv++WPBNGy3L/hV5j4H4smVFdxw3Ofgl7U7HgxBuP3BmiVhGfEbwfRZlyZ4hEV4KPjl58oJZumE+9gIhvvc/mD6dbg/mG3k8gcegViwdkos+OKLBUOFseDmFAt+PYbptFG6BPw1Ubq1ZFd64O2IBWvnpCwk+LUfC7wIKdOkOhjcfGPBEF+BJFyH8fuiCRLliR5nmzbR/opggQc5FgzbJ21KtgyTFlyEA4FXp1AbAxEVC2aexYKhzFjgEYvBPZlxnZAmmXE+U+XneODZSnre4UcbZSJQWQjkbMwSww1YNI4jql751euny/r9xEowJMAYPwu18QuOX9HBl4ZLwoJy/EJLFQTpy0r1ThA5z//iF350CjL1UD8LDrK4X9TwDEyePNkNKeJ+Z20dPGZ4ExgakIkAngdeqSzbAOZEHoL4YaD4+hPliU+TKkA9Pm1pf8YzksqyZZiq7EyPpfO88T2VinuiBTOjdTOklio/x1NNWMHjxUsmApWFQM4OwxE0iks93c0j1YlkaICVbH1QqF/QLb5MxAtTjxO9GNcvCUPIIdyIIeDBngwZEA/gYw5Kog6VIQIiIAIiIAIiUHQCOelZQqDwYhZQ1AjWJPAxasRepPqFFE2bbJsx+dK222+/3S3yRj38qmO6L8GorJhMHEO6X5ql3T6VLwIiUL4EiD8iyJ5lImQiIAJlSyAnxZKf3o84ihoL07G+SNSYjcPsl2yM2XM8YiKRMeso+riFRGky2RcdriM9bnZm6DHbhZkn0XVPMilPaURABPKLAD+i4r3e+dVD9UYEKi6BnBRLxD/UD55pxLOqosbjCPDCeOOZRSVhrFsSXZckWiZTa0tCLEXL9NuseYIx+0hiyVPRuwiIgAiIgAiULYGcjVkigJt1Pvw0ZrAx9ZlFJ/3LT6ctW6QlV5sfUkwXYFtyNaokERABERABERCBeAI5K5b8WissLFfRzLvKCQzPxnicA1ZSqzJn0xblFQEREAEREIHKSiBnxRJPKWexNB5FwgyyeGPVYZYAyMT8VOKSmtnmxQ2z26I2cuTI6McC2yykGTVWTGYpA55j54fjose1LQIiIAIiIAIiUDYEcjJmCTSsEYJQYsVa1jM6+uij3eMMODYnWOafRwJgPXv2dO+p/hCPxDOPWP2YR6UgxLJZF4ZHBtx///3uRVwVT10nyJy1l5IZD9NlaYLWrVtbsJilexQDaXnQrkwEREAEREAERKD8COSsWAIZMUos2njLLbfYq6++ai+//LIjyfpLPCupd+/eoYBKhZhHALDeEi9EEwHd2Yglns9Em6677rrweVoNGjRwD+/lcRKJjFlvBKdfEzxeIFgR1T3viYeDIt5kIiACIiACIiAC5UegCkuVl1/1JVdzsPy+e/4Rz0VCLBXHWBiSoPDi5o+vk2FApv3jBct0rSce5ktgd/waUvFl63PJEsDrx6ruMhEQAREQARGIJ5DTnqVoZ1ioDe9NNlbSsUEIL5YzKIox802z34pCTGlFQAREQAREoHQJ5GyAd+liUekiULYEmJAQPPw5fDp82dau2kRABERABFIRkFhKRUfHRKAMCLASfdeuXd3Egscff7wMalQVIiACIiACRSEgsVQUWkorAqVAgED+b775phRKVpEiIAIiIAIlQUBiqSQoqgwRKCaBWbNm2T333JP02YPFLFbZREAEREAESpCAxFIJwlRRIlAUAkxEveyyy4wZnCxzgfGwVJkIiIAIiEDFIpA3s+EqFla1RgTSE2BR1UmTJtnAgQMzXloifalKIQKVmwDLtfAqitWrV894yUQgGQGJpWRktF8ESpEAD4AeMGCAtWnTxo466igbP358KdamokWg8hBA9KxcudJGjRqVUaf5/5NQyghVpU6kYbhKffrV+fIi0K9fP1f1jTfeWF5NUL0ikLcEGjVq5H6EpOsgQom0MhFIR0BiKR0hHReBEibwyiuv2NixY61Pnz7ukT0lXLyKEwERCAikE0wSSrpMikJAYqkotJRWBLIkwEOSeWBzs2bN7JRTTsmyNGUXARFIRSCZYJJQSkVNxxIRUMxSIiraJwKlROC2224zBBOPtDnuuOPCWngmIDZy5Ej77LPPrGPHjm6hyjCBNkRABIpFwAsmH8MkoVQsjJU+k8RSpb8EBKAsCfCQ5rZt2yatcr311rPatWtb9erVk6bRAREQgaIR8IKJXGzLRKCoBCSWikpM6UUgCwL/+c9/EuZmNtyJJ55ohx56qF111VUJ02inCIhA8QlIJBWfnXKaKWZJV4EIiIAIiIAIiIAIpCAgsZQCjg6JgAiIgAiIgAiIgIbhdA2IQAUgsM8++9jcuXMrQEvUBBEQAREQgXgC8izFE9FnERABERABERABEYgQkFiKwNCmCIiACIiACIiACMQTkFiKJ6LPIiACIiACIiACIhAhILEUgaFNERABERABERABEYgnILEUT0SfRUAEREAEREAERCBCQGIpAkObIiACIiACIiACIhBPQGIpnog+i4AIiIAIiIAIiECEgMRSBIY2RUAEREAEREAERCCegBaljCeizyJQigQ6d+5ciqWraBEQgdIiMHTo0NIqWuXmAAGJpRw4SWpi/hDQF27+nEv1RAREoPIQ0DBc5TnX6qkIiIAIiIAIiEAxCEgsFQOasoiACIiACIiACFQeAhJLledcq6ciIAIiIAIiIALFICCxVAxoyiICIiACIiACIlB5CEgsVZ5zrZ6KgAiIgAiIgAgUg4DEUjGgKYsIiIAIiIAIiEDlISCxVHnOtXoqAiIgAiIgAiJQDAISS8WApiwiIAIiIAIiIAKVh4DEUuU51+qpCIiACIiACIhAMQhILBUDmrKIgAiIgAiIgAhUHgISS5XnXKunIiACIiACIiACxSAgsVQMaMoiAiIgAiIgAiJQeQhILFWec62eioAIiIAIiIAIFIOAxFIxoCmLCIiACIiACIhA5SEgsVR5zrV6KgIiIAIiIAIiUAwCEkvFgKYsIiACIiACIiAClYeAxFLlOdfqqQiIgAiIgAiIQDEI5KxYmj9/vk2ZMsW+/vrrjLr95ZdfuvQLFy4M0//777/29ttv26JFi8J95b3RuHFjO+SQQ8JmfPbZZ7btttvaVVddFe7ThgiIgAiIgAiIQNkRyFmx9MADD1iHDh3syCOPtKgASoTuu+++s6OOOsqlHzRoUJjk448/tu7du9t1110X7tOGCIiACIiACIiACEQJ5KxY8p1Ys2aNPffcc/5jwvdnn3024f7dd9/dzjrrLDv11FMTHtdOERABERABERABEch5sbT++uvb0KFDbfXq1QnP5ooVK+yll16yGjVqFDq+4YYb2pVXXml77713oWPaIQIiIAIiIAIiIAIQqJrrGI444ggnht555x079NBDC3XntddesyVLllinTp3shRdeKHB8wYIF9thjj1mLFi2sXbt24bGVK1faM888Y5MnT7a//vrLGjRoYF26dLHtt98+TOM3KPv999+3Dz/80H799VfbYYcd7PTTT7dNN93UJ3HvsVjMlUc7v/32W2vSpIkdd9xxtt122xVIV5QPxGxRHnFbiME999zTTjrpJKtWrVpYzMsvv2yff/659e7d2z755BOXnngv6u3Ro4dtvvnmYVq/MWvWLBszZoxNnDjR6tata23atLHWrVv7w+E7Xj0Y0f+vvvrKGjZsaAcddJDtt99+YRo24E4bL7zwQtt4443DY7/99pvdd999tuuuuzoW/kBR+Ps8ehcBERABERCBUiMQ3MRz0vr06RPbZpttYh988EEsEDOxYCgtYT+OPfbYWCBMYuPGjXPpb7jhhjBdcKN3+wLvUrjvzz//jB188MFu/x577BFu169fPzZs2LAwHRuLFy+OHXjggbEgADsWiITYvvvu6/LtvPPOsSAwu0Ba6qW9QQB3LBAebpt2vfHGGwXSNWrUKNa2bdtwX6I2cnDgwIGu36QPYrdiO+64oyszEH2xQGyE+S+++GK3/6KLLnLvrVq1cm2gLfQvEHthWjbefPPNGH3lOO2gb2z379+/QDo+XH311e5Y06ZNY+3btw/bwP5ASIXpzznnHJdu7ty54T42ZsyY4fZfcMEF4f6i8A8zlcBGIKpLoBQVIQIiIAIikI8Ecn4YbpNNNnFeD7wbP/zwQwFRiQcHzwdB4NWrVy9wLNmHRx55xIKbuPXq1Sv0BL366qu21lprWb9+/eyff/5xWRn2O/PMM12dgwcPtrFjxzrv0pAhQ2zZsmUWCADD84I99dRT9uijjzrv1oQJE+zdd9+1F1980XmDKHP58uUuXaZ/8PzccsstzjuF12jEiBHGrDn6iYfn+eefL1TU+PHj3cw/PGB4pPCk4dmJpp06darrdyB+XFpmCgYi0/baay976KGHjOPe6A/9xmP36aefGh4s3vFCsZ82Fccy5V+cspVHBERABERABIpDIOfFEkM2p5xyihMm8YHePrCb46TLxLzgCjwwVqVKFZdlt912s8CzYqeddpob0mMnM+wQYieccIITa+wjfetguIqhQYa6vv/+e3bbgw8+aOuuu64TW4g7DAFy9NFHu6G7wJvj9mX6h3ruuusuu//++22DDTZw2dZbb70wUJ1lEuLt9ttvd+KK/eTp3LmzS4Iw9IbQQ7gFXqgwbeBZcjMGScPQpDfE0mabbWY33nijVa36/6O5xI/dcccdTgTedtttPmmR3jPlX6RClbjECPz4448WeAhLrDyW72CI9u+//y6xMrMtqCK2Kds+Kb8IiEB2BPJCLCFQttpqKxcbwxcdRmD38OHDLRiesmbNmoUeoXS4/BpHV1xxhSvv559/dlkQF3379g1jkb744gu3Pz4+h513332388IEQ2RODCEA8NZMnz7d8Cz5V7169VwZc+bMce+Z/iGGqmPHjla/fn3nURo1apQTMsQkYYluPAibqLGeE/bHH3+Eu/E41axZ08U8+Tbyjldu7bXXNt9OlmpgbapguNKJwLCAYIOYpH322cct5/D7779HD2W0nSn/jAqrgIk4V4jSRIbHEBGcbimMRHmT7UPU44VctWpVsiRF2j9y5EjnOSxSphSJiflj6Q5/baVIWmaHKmKbyqzzqkgERCAhgZwP8GZYjCEyArDxnhDwfNhhhxk3Jb70LrvsMtdxP3yWkEJkJ8NT9957r/OQEBSNF4fAadZ0Ovnkk11dJP/mm29cri222CKS+/83CbD2Qdbey4OQ8d6c+Az8Wi+qMex18803208//eQ8ORtttFE47BeMFxe1ODd0yM2avLBMZNSF+T4R/J3I/H5ugNGA7kRp4/dlyj8+X658ZgYmw7KHH3641alTp0CzGZ5FUCe6pgokTPHhkksucUH+zZs3d6nw+uFJ5H9EJgIiIAIiUDwCOS+WvDA48cQTnUeHoTfEEkNGzBALAryLTCYIVjZeCCJmhRGzxBIDxO8wew6rVauWeyc+KZV50YTY6tq1a8Kkfmgu4cEEO5mlxk0REff000+HM+oQJ0HAeTh8mCBr0l20kxsqM9oGDBiQMJ3vC8IMS+TBYn8QpM1bITHgdmbwJxP+GRRTIZO0bNnSHn/8cfvoo4+cd9A3khg44so4f/HChmN49pIZ3lQ/FIpXKnpeOJ/nnXdewqypyuX/ild8WxIWlGBnqrITJE+4K10Z6Y5TaLo06Y4nbFianfFlErvIjy5eySw+T7J02i8CIlA+BHJeLHlsDDMxhEP8DwKHgGc8JD6mx6dL9c6XGh4gRBbT2RnC43X++ee7OCQCnolDYtp9/WAIDJs5c6btv//+btv/IQ6I4Q/Wb2IoDmO4y//a9+mK+z569Gh3E0DAZbP0QLT+ddZZx7beemvnqWLIkM/JzPdp2rRpCZMQZM6SBN7DRLwWxrBcMLMuYR52FoV/0kIq+AFYcF2wejxDqd7w1i1dutSJJb+PNAx7IYLxNnXr1s0N53Kc4TrEK8PETGTgWkfUI3AQY2+99db/tXceYFIUWxsuREQEFVCJKghmUcwRs15zRgWvXgMmQPEaLviLCuaMOSsgBjAiBsyI6WIWcxZFAQUUFEUUdP56j7fG3t6Z2ZndGbZ35zvPs9vd1dWnq76q7vr6nFM1Fk+GGxWCH0g+13KOvoxFk7bmuWGBVoQykBc3MwQNQs4SF3ErmGWO/Rs7dqzzs1ONcI8fP9717t3bJhHwTJ133nnp3MOGDXN+Jqk7+eST02nRHerLx05YEoPV94nvg2xkukcmV3iuOoIRExsgpzNmzLB+f8QRR9iyH9FyhP2LL77Y8I8uXutn49oSGZQNKzYfMCwbgmUbKzZxjsccc4wbMWKExTbyTiEOknaiHrw3sAxzX5bWoB0JF2DCRK5nJJRJWyEgBBYuAvXKNh8CvQlQRjguRPiKhoBgBZo8eXL6Ul5uxAkhuPaQrbbayogYL8No8Dhf+axfxEDAwMggx0sQqxQDV1QgD7j8otdHz2fbJx4Lic5O45hBEqlufAqz6Rgs+SmZqEBi/FIFNriSDjHFAsLMutdeey2a1QYOBoLoAAYJQ7CmRAUiEJVC8I9eV9f2wY4JAKzzFQRi1NET8DBQQlaYGEDeIUOGGJkhaJ4ZjAjWI2aAMkATS8f6Vgy+9FUG3EBE6I+0aRDIDESEuDL0cU9imkKgP/eCyJx99tlu0KBB1ubM3MxHIAm4cnlGsHz6JTSMOMStr/TfqPUrqpv6YdmEnEFSqAuLzkJGkEz3iF7PflV1xPqMy5P+zjpffgkNq2+YXBDXx6SH+DNKnYJrny0fRwgTHvxSGUY2mRGLBZo0COeYMWOM2JIPSxLtQhrvi8GDBxthgnhJhIAQSB4C9cayBLR8ufHy58uUL+YuXboUjDhf7ww+zHzbc889jSTxovbrIdkXMxYnBNcZpCy8CFkMkoGJoHLIAoMFX5MIM+mCG47foqNcDE6sLM6il8SvsEhlvkJcDzP/GEywKjCw8CWPNQ2JEr18dZKPlzuLeDJgUgeWAWDwwpLFsgAEpOMiQ/xaSoYPrkW+oCk/5A2rBNY4v66U5eMfgxIz9/jDmoFrCGsDVoK45It//Lq6dAw+EE7II3FskFvwgBgEISYNks3MSgScIQH80ZcQZlRmii8jSD9brBj9GL3BqsVsTp6XSZMmOYL+SWeyRMuWLe0euLRZNoIBPZe10TL7f8Rk8VzkchuGvJm2kBiEfoAOykK/xmITVtqv6h656sjsTvo4uFM3BBc+HzMQlz59+lhaof94HxDTiGBRpZ1wifLBBoHl2aFcfFxAcIPgIg0EeRs/UaW6S24EfdoKASFQGgTqFVnipcQLC5N/eHEVChvX8TVIsPiVV15pbg30sjo4X9ohbge9/K4c7ia+6Jk9h/Ay5ss4OogxOEIMyMM6QpAqZpjh+oBIQR4KEdx+ECWuJVgY4Suelz2DAF/3WIMKjTehTLhymJ3EgII+BixWLr/xxhvNXRPKycDKy58AekgQdWLVctwSkM2o+5PBAesFerHEIVjqsGDFB6dC8A9lqWtb+hNtiDWJ9mIWItYJyD6Cm4g2xCoZXYKBtmAWYpB81w4L+bFmMO3fLzYakmzLRIYggfTS9hB6rB+QOf7yIUs8H9UlSpSBe9JvIexBqDP9K0iue1RVRz4uyIObLAjtgXUJwlhdiT9rkE3aFN1BeK9ErXyks+RHEM5jlaP9o9eF89oKASFQewjUWbIEQeEvLnwB8xcXrDfx9WH4wo6ncR2WEP4wtfOi5ksx+lKL6g7ByFhgeAln+vkQ8hPnQ2wCL1DM/bimQlBuVF9wh4S0bGXECtG9e3dz5fClzYsWCbP0wvUMOtGBJ6TzpZup7uhirSQGaVxFWEBYPymTQAxxkVAnZspRp2wvecqLKwLXEwHiobyZylAI/pnKVRfScONihYQUYWGCOIfAeYgBbh+sKlGLI1bNtm3bVrt6EGj6aKZ+F5RCwHGR0QZYOrAwsqbWwhKeOXAIFlzuy36Ie6uqHFXVkb6KxIkm12Xru1XdU+eFgBCo/wjUWbK0MJoGN1q+Vp98Z7TxVRzin2paB75mgwm/prri16MbMpSPUKd8yoHFIV+d3LcQ/PMpZ5LyQHogQriXcDMxiSAIFhxIN6QJkl8sQS/klwB8yFoQJkRQHu7J0gUEL2NpQQiArolAfOLWEohJNgluNyy5cWtNtmui6VXVEf2QIla+j2JLgD3B7JmEOkTXIyNPrjpk0qE0ISAE6jYCi9Tt4qv0QqDuIkDwNmQJshkfqLHsQKII+MXagpUPNzAzxHIJrjtikMIkgHheYqCIP+O+6B3vY92IM8PaBOGHTOEehCRBqoLbNFtAdlx//Jh6cR8IGS4oZqDxl00oH/mYrIBVl2BzXMCFxPLkqiPuMSYfgCvlwIKHi5zYQYLkMwnWXWZ+QiSZlIGFmB/NlggBIVA+CMiyVD5trZomDAFmpA0fPtz5H2Cu5BrDssIsLGaisZYWrlAGc+LfcgnWEmZ7MSmBGYxx4TxkhFXEca/hDuV3EIlLQw477DDnfzDaLF1YVFhWgDIQrExMWqECAcNdjA5IGRZI6pDNMoPlkRiqoUOHGqGDxDEhopCZrVXVkUkWLF9ArB1uScrkf3A6qxWZJT+wPOGixI3HcT5LKRSKlfILASGQXAQa+GDCwpd7Tm59VDIhUC0EsC4wyzBpwuPJIp8Ql3xjarAqcV08LidaN87jHkNvJoFQEaSf7z0z6YimQUqwTjFTL1+hfJDEXDFWuXRVVUfKBCGNTkbIpQ9cwSPf+KlcunROCAiBuoWALEt1q71U2jJDgME5BMPnW/VskxGi16M3G1EiXyGkJqo32z7xaoXqZLJBTaSqOlKmfIkS5cgH15qUV9cKASGQXAQUs5TctlHJhIAQEAJCQAgIgQQgILKUgEZQEYSAEBACQkAICIHkIiCylNy2UcmEgBAQAkJACAiBBCAgspSARlARhIAQEAJCQAgIgeQiILKU3LZRyYSAEBACQkAICIEEICCylIBGUBGEgBAQAkJACAiB5CIgspTctlHJhIAQEAJCQAgIgQQgILKUgEZQEYSAEBACQkAICIHkIiCylNy2UcmEgBAQAkJACAiBBCAgspSARlARhIAQEAJCQAgIgeQiILKU3LZRyYSAEBACQkAICIEEIKDfhktAI6gI5YnADz/8YL9mP2PGDNehQwfXtWtXt9hii2UEg1+7/+ijj9xnn33m2rVr59Zaa62Cf2sto2IlCgEhIASEQJUIiCxVCZEyCIHiIzBixAh34YUXul9++SWtHMJ02WWXuY022iidxg4kqVevXu6bb75Jpzdt2tRdcsklbrfddkunaUcICAEhIARKg4DccKXBVVqFQFYEXnjhBXfmmWe6ZZZZxl1wwQXuiSeecH379nXTpk1zxxxzjPv+++/T1/7222+uZ8+elgaReumll9ztt9/uWrRo4fr06eM+/PDDdF7tCAEhIASEQGkQEFkqDa7SKgSyInDvvfe6VCrlTj75ZHfQQQe51Vdf3fXv39/tuuuuRorGjRuXvnbMmDEOdx15u3fv7pZffnm31VZbuauvvtryDB06NJ1XO0JACAgBIVAaBESWSoOrtAqBrAhMnTrVzm299dYV8my//fZ2HM5z8OKLL1oaRCoq66+/vmvdurWbMGFCNFn7QkAICAEhUAIERJZKAKpUCoFcCGy44YZ2GndcVMLxxhtvnE7+7rvv3CKLLOLatGmTTgs7bdu2dZzHSiURAkJACAiB0iGgAO/SYSvNQiAjAvvvv7+75557LJh77ty5DvL06KOPukceecRhMYoGeE+fPt01a9bMNWzYsJKu5s2bO2bJzZo1y7Vs2bLSeSUIASEgBIRAcRAQWSoOjtIiBPJGoHPnzu6+++5zu+yyixswYED6uvXWW8+NGjXKLbro348lAd5YljJJgwYNLPmPP/7IdFppQkAICAEhUCQEMr+Fi6RcaoSAEKiMwOzZs90ZZ5zhIEKbbrqp6927t62zNHHiRHfdddfJrVYZMqUIASEgBGoVgb8/YWu1GLq5ECgfBFg2gMDtYcOGue22284qjoWJ9CuuuMKI07777mvpTZo0MTdbJnSCRQk3nUQICAEhIARKh4AsS6XDVpqFQCUEFixY4J599lnXvn17t+2226bP41I79NBD7fjxxx9Pp7NaN3FN8+bNS6eFnZkzZ1o8E4RKIgSEgBAQAqVDQGSpdNhKsxCohMCPP/7ofvrpJwvIDjFHIRMLTRLIPXny5JBkpIqDTz75JJ3Gzvz5893XX3/tmBEnEQJCQAgIgdIiILJUWnylXQhUQIBVu1kf6d13361EgEaPHu1wrfG7b0F23313273rrrtCkm3Hjh3r5syZ4/bYY48K6ToQAkJACAiB4iOgmKXiYyqNQiAnAgMHDnT9+vVzPXr0sN924wd0n3rqKcfK3cQfnXDCCenru3Xr5tZdd103cuRI9+eff7ott9zSTZo0yV177bVu6aWXtp9CSWfWjhAQAkJACJQEgQZ+QTutaFcSaKW0LiGApSa+SnYpy8+6ShdddJH76quv7DYsD7DJJpu4QYMGuTXWWKPCrfmxXX4OBULFDDpcdWuvvbYFg6+00koV8upACAgBISAEio+AyFLxMZXGOojAwiZLASJimPjhXAK+GzduHJIzbnHREaeEG09B3RkhUqIQEAJCoCQIyA1XElilVAjkhwCuNP7yESxKHTt2zCer8ggBISAEhEAREVCAdxHBlCohIASEgBAQAkKg/iEgslT/2lQ1EgJCQAgIASEgBIqIgMhSEcGUKiEgBISAEBACQqD+ISCyVP/aVDUSAkJACAgBISAEioiAyFIRwZQqISAEhIAQEAJCoP4hILJU/9pUNRICQkAICAEhIASKiIDIUhHBlCohIASEgBAQAkKg/iGgdZbqX5uqRglG4MADD0xw6VQ0ISAE4gjcfffd8SQdlyECIktl2Oiqcu0hoBdv7WGvOwsBISAEqouA3HDVRU7XCQEhIASEgBAQAmWBgMhSWTSzKikEhIAQEAJCQAhUFwGRpeoip+uEgBAQAkJACAiBskBAZKksmlmVFAJCQAgIASEgBKqLgMhSdZHTdUJACAgBISAEhEBZICCyVBbNrEoKASEgBISAEBAC1UVAZKm6yOk6ISAEhIAQEAJCoCwQEFkqi2ZWJYWAEBACQkAICIHqIiCyVF3kdJ0QEAJCQAgIASFQFgiILJVFM6uSQkAICAEhIASEQHUREFmqLnK6TggIASEgBISAECgLBESWyqKZVUkhIASEgBAQAkKgugiILFUXOV0nBISAEBACQkAIlAUCIktl0cyqpBAQAkJACAgBIVBdBESWqoucrhMCQkAICAEhIATKAoFFy6KWqqQQSAgCX0yd7y4e9YN7+/PfilKirp0bu/49WrpO7RoVRZ+UCAEhIASEQGUEZFmqjIlShEDJECgmUaKQkC50SoSAEBACQqB0CIgslQ5baRYClRAolkUpqrgUOqP6tV89BH755Rf3zTffuAULFpgCthyTLqkdBH7++Wdrgz/++KN2ClBLd433xVoqRp2+rchSnW4+Fb5cEWjVvGHRqn7fffe5Rx55pGj66pKiSZMmuUsvvbQkBOb+++93W2yxhfvyyy8NEu7F8QMPPLDQIHr++efdrbfeutDul/Qb3X777dYG06dPT3pRi1q+eF+sifK5c+e6yy67zH322Wc1UVPnrhVZqnNNpgKXOwIDerZ0l/Vu5YpBmLB0nHLKKe6kk05yP/74Y42gveaaa9z48eNrpKOUFz/44IPujjvuqHCLZ5991l199dXuk08+qZCe5INCcKa+DGzBupXkeqlsyUPgtddes+cDghTkq6++cldddZV7+umnQ1JZbEWWyqKZVcn6ggBEae9uzdzKyzcqCmG699573RJLLOFwS4wZM6ZGMDEoP/XUUzXSUcqL7777bjd06NAKtzj88MPdq6++6tZbb70K6Uk+KARniNVLL73kFl1Uc3mS3KZJLduECRPM8holS2ussYY9M8ccc0xSi12ScukJKgmsUioEio9AIEpB88TP57nps6sfe5FKpRxkaZdddnHff/+9g0z861//CuptSzrm9jXXXNMtueSS6XOff/65mzVrlttwww3dp59+6n744a8gc9wbr7zyilt11VVdixYt0vnRw4u3efPmrmvXrhV0QdRef/1116FDB9esWTP3xhtvuJ9++smtv/76rn379qZj2rRplr7YYou5TTbZxC299NJp3WHniy++cO+9955beeWVrbwh/bvvvjNXGDp//fVXK1+bNm3sfpQXN9lSSy3lmjRpEi5xYPPxxx+7Dz74wPJRlgYNGqTPs4O1hvO41zbaaCPXrl27CudzHaAfkgYeq622WoWsb775plt88cUr1IEMuXCm3g0bNnQrrrii4Qw+lGny5MmGZbQt0EWd3377bbfccssZUQQj2jNKGinjO++842jrTp06Wbtxn6ZNm9oxeoLMmDHD/fe//3WtW7d26667rpU/nMtWtnA+vp0/f74Dg2+//dZ16dLFde7cOZ7Fjmlv6tCxY0fL16hR5Rmh9Dv6FkJfzSb0Qfod/WGdddYxHLPljabPmTPH8AYr+gh4xgWiQVv/9ttvprtt27YVsrz77ruucePGhin1oc1WX311+6PPcQ/KhuWXe6ywwgrp62kzrKI8U9T1rbfesvbZYIMNrE+nM+bYoV+9//77hjN4c0+eE9r+66+/tiu5P/177bXXtnP0H4T2jko+zzl9lP44ceJEN3XqVGs73hdxoQwvvPCCPYvUZ9lll41nWbjHvpElQqDsEXj00UcXCgab9vkqFf/b78wpldLieUa/MKdC+e4d/1OFayqczPPgxRdfTPkXV4qttyrZvh/8K1z98MMPW/rLL79cIf2EE05IeQJlaX379k35Ac3y+YHL9p944gk75we+1FFHHZXyRMjys/WDUSqcJ5MnMXYt+fyAlvIDsx2T17vOUt6SYsch3Q/oqY8++sj0888PIqkjjjjC8qy11lq29bFBKcqOjBgxwsqEPv4o6znnnGPnbrvtNsvvBww75p8nh6mNN97Y0v1XtG332WeflCeE6TyeSKW23XZbO+cHGNvuscceKdKDxHX7Qc3yUR6E/H4QSPmBOlyS8oOH5Tn77LPTaWEnF8677rpr6h//+Edqxx13tOt79+5tl7EFr6hceeWVhgNYgOk222yTOuCAA1KbbrppOpsPCE716tXLdAXcwdgTsNSJJ56YzucJY+rYY481faussorlBxcwDJKtbOF8dPvQQw+lPFGwcqGPMv7f//1f6s8//0xn88S5EvbUPdqGZPYuYetz9HHanL7Rs2dPKyM4B/Ek3vok9yIffdjHsYXTWbeDBw9OrbTSSlZervWkNzVq1KgK+b1lz3RSF0/iLf8VV1xRoT4777xzCoz22muvdN+nzKeddlrqmWeeMb2hDdj6mLf0Pbwl1+ozYMAAuzY8h/QrT0bS+eJ9kROeGKa23357uz60nbe0pnwQvPVjdFE/ysJ9d9ttN9MX78ck5vOcoxddJ598svW5UCewu/nmm0130EUf8wTK6s41mbBNX7CQdmBtEiFQ9gjUFlk6+tJvU5Om/Z7KRZiqIkoQq+rI8ccfb6SAwdp/xdnAMmjQoAqq8iFL4QIGGV7wUeHFCOEYN26cDRD+SzjlrVf28vUWC8sayBKDpP+StBevtyykNt988xQv0i233DLlrQOpefPmpR577DF74TJABzn99NPtpc7gyKDqv4ZTM3VTTAAAGp9JREFUDEDoo15BevToYYNsOGYbH0QgRBAtBi5vbbGyPP744zbg9enTJ33pDjvsYOTCW5UsjfIy4HCPIHHd8UHGuwStLlEiGq6JDnRBX9hmwpnBlkHFx5+lvHXByk7+OFmCGJCPusyePTsFKWKgIi1Kli6//HJLu+mmm1LeImIDK/2FfFGyNHDgQMMZUvv7779b+6Fn3333DcU1IpCpbOkM/9vx1gsjFKeeeqq1tbeopEI5AsFkwIUYQchC/4Gg0ke23nprKwPq6FOQWPLSRgzmzz33XJo8TZkyxe4KqSMfRJ18M2fOTJ155plWT/piNgEX6nTPPfcY2UUfOiAA4YPDW20tz7XXXmv3B59A/LkuCH0VXbQD7eEtS6lDDz3U0tDnJ18YHvSxzTbbrAL5DWQJwssHBP2fNvaWJiMkgYiHfhUIpbd2GfmBLNH/eLa8Zdmet0suuSQULQWxpmzecphOi/djTuTznAeyRP+96667rK60Hc8SzyplQIYPH2739MH4hpuPq0zxsQIWEOXaEsUsLVxDnu4mBNIIrNOpsRvSp5Xr2KaRu7T3cq79spW94nHX233PzXGX3TMrraO6O7ikPAlwe++9t1tkkUXMbeIHXEcQNG6QYggmedx83kLh/OBm5n3cTmeccYa5sIinicrBBx/sunXrZvE1uIM8YTETvLeoOMzwuCr8wGJmez8wpC/Fjehfvs4PlnaP5Zdf3h144IEO9wcuhkKEgG9cD0cffbRr1aqVlWWnnXZyngSZOwd3De43guL9S935F7+pp7zUETdKvrLnnnua/uhMxCeffNJ04lYpVLwlwF100UXmBqPsmYQy40a78MILzZVJvNqRRx5pM8Si+cmHG88TAIfrE/fSkCFDrA1CPvoQAeT0IdoKNxjt1717d8Mqin0+ZRs5cqT1PbClrXHJ9uvXzxEjQ9wV4gmPo+3PPffctCsQFw7l9GTHjR492vIx45DyeQud4UnM1lZbbeXicTZ33nmnzYT0ViLLt8wyy7j+/fvb80CfyiaevJmref/997fnBxcV/RpXNe5I5MYbb3TeQuk8MbV2Bh9PNNNYRnXj+qMdaA/cbN6KZ6e99dF5i47hQR/jGeW5wl0YFe6NOxcXmierzpNVh5sS13cmwb2F+88TYHNrg7e3Llqb56p3Jl2FPuc8S97CZ3Wl7XgOeFZxPyKeeNrWE0DDDVf8+eef7zwhK9q7yW5Q4L/Kb+cCFSi7EBAC1UNgWT/9v2mTv+JgAmE65foZbsrMv9blKRVRorQEcxNDwUs1yH777ef8F68FafNSrqkQk4BAYqJCTBEDAvE+UeGFHZWO/yMi/qszmmxxTMRmBPEWKIvn4CXPTB1iO9gi/ms1ZMtrS5wG5NF/wVfIz+DMXxAI1Jc+bsNbAyzugpc9sV2F3I+B2VtEjLSeddZZNmgzuDG4VkeIU6LsuYQBNB5/Rn4IURDiYPhj0I0KhCOqn/b1X/lGHq+77rp0Vm+dsX3awFvbbD+fsjF409bgEoT7QeqDEMsE6Yi3j7eQOG9hdB9++KFlpS2I4YLwRSXENYX4M/oRcTd8JEQFshn6UDSdfW+Rs4GdyQFRoU+HPu+tKNYfmGUaFe4LqeY5g8wRK4dE8efYu7/YGFG0nf/9CzF86I8S4ngAP/2KJSPooyxXERfKSVk4H207ygH5YV0mSHU+Euqc73Mej5/j4wahTgjkCRIOeYOIQxa9C9X6hmWopX8iS7UEvG4rBMa9OdcNdDPdeb3+ClyMEqaDd1zKZr0FlIplUQr6sPhATrx5PiQ5b8K3wZBA72KQpTDYhAEhfSO/g6WBoNJiCAQD6xWWCL7QGaBDwHmh+vmqJZA0/kKP67n++uvdxRdfbNYNgmIZKAnKLlS8e8FhzWKKNgHNWK2w0pRKIJJhwM12D/Igmdoteg2B3wjBy2HADOexGFCXQoRlLLbbbrucl2B9wHoTyE7ITMA+VplA1CB7HEfJXcgb3VIHrIXBIhXO0ZaZJhFwnqBkhDpmE6yTPE+ZdHh3kl1GWavCOJv+qtLDB0a25yCQyahVM+ikXvSBfMlSsZ9znifKxZpYtIt3Y9okC6yE23hrU22JyFJtIa/7CgGPQCbCNGxAG7fkEn9bCIpNlHycgLmLeCmGAS80BtYcTPQM3AxAYVDCglCoQCCQMDsuXM8gygwlZvYUQ3xwqw1KkI5AWHyslfNB5AWr5ysXVxgDYrbZbZzD3YX7D9IUhAE6WDZCWlVbH1Njg5KPmbMvelxOWN5KJczEgtjQnqFt4/cKs7WYAZVLAj64yrBK1lTAHstRLqFP0a4M9lGcsEph3QskgTowiyyeL66bOmBFKWTJi2AJwSp10EEHxVXacchD34/PMCWNmZc+FijjtcVIZHYiwjOcSag3JHG4d7dWRZ4zXR9NK8VzDqH08ZPOx48ZGcdtjCWPZ5x3VG3I32/k2ri77ikEhMBfhOnWv1wXwFFKooR+XAC4KHBbYUWK/uFW4iXKqt5ImArNYBSEgZap/HHhK55rgxB3g/WKF1xUGKwxuTPFvKYC8cLaQExTIEro9EGopjpK8qgzX/u5JJTJzxCskA1CBrHhelxZ6I26N6g3A3P0fhUUZDlg0CQOa+zYsYZTPlalOM5ZVGdMpk2wNkRJHRhCjoPQZpAOH/hbAS+WF4jGszGNHPdP3CoDBnESHnTn2oI9FpkQu0Je7gcpBX+EGCAk3qcg+AhxPUi2dgzxMJbJ/yM/94sTQ8rhA7JDtgpbrEG4yeJ9hDrTD7HaYv2C+LKCetTCRn0gSwG7CoprcIBrMCp+IoQdYqXJJNSbdoq3Hc8l7RwkWOaiz3U4F7bFfs6JF4RgUj4IPUuFHHfccdYXC4kJDOUr1lZkqVhISo8QqAECWJhGjptTQcNnU34vSjB3VCkvbl6QBOIGIhQ9z9c6rixe+AjxLbgSCGglrsPPanP//ve/bSCNXsc+AwUuMf5wMRBTQUAt1+CyYoBmn0BNXGUE5dZUGKwpL9aGG264wY0fP96+SFlhGIm++LFk4TIgL8HAmYSAWgY5PyPIYe1hjSAWgYRQMmgzeHAeFw/3g3iSj4DcQC6CKyiT/kxpxI1hCcAyQrxGVRLHuar80fMMRMTt+KUfbAVmAqaJkYqSJ/ITVM8A7GfTWb2w1DGARQd+rBO4PyENxHPhVoW0cA3xJlh2ChEsVJBHygaWkAr6GpZQ2gUhVozB08+SszbhHIHhuGqIbwmxTLQVfYy2o41wFWINxLWDBFJLwDXuW2KLsCiCA/EyxMnccsstljfTP8gbFka2fEhATigreoMrkaBrMPAzN81ihjWVPg8BwGpSTCFei6B2gt8pt5+tZ7GC9NVMAp4QJuKVeLbBEcJOcD4B7kHoawiYZHObF/s5p1z0S6xKkFieacpJPFUgwaF8C3MrsrQw0da9hEAOBK66f1aaMEGUDjn/76/9HJcVdMqv22LuHmJlsgmD95c+8JPBioGEAYeXPoMYgyODKINRXCAMLCTHbJfwpc8g5KeX28sWCwpfiAxivKCLFa8BMdp9993tJxj8lOv0wEj5sPYEwWqDxQTCEHWfhfNsIUNY3HhhM3gzaHLMoMjAihCAjAUOV4FfA8hmFDHIMygi0XtaQhX/CFBnwIHM5eMSyYRzFbdIn0Y/Ax8WBNoS1wYWOQKho245SBsDOu3IzEJmqJGG1Smaz0/zN2xCnNthhx1mViq/3lCFhUfTBcixA/liwGfiAX0IwsUkgGHDhhm5D5dyTEwdZARrH8QJNyC/8RfKRjtST/raf/7zH8esNUg8s7+iAu5+bSf7cIDY00f9OkjukEMOMdIXzRvdp/8zmxMLF32Pfg2OfFCEAHUsj/RzrJw8b+AI7vSdbBaf6D0K2ccdyGxFyOR5551nePEzPtkEfCgb9fVrjhmOtDEuLohnEPoFAenUFRKcTYr5nHMfvwSJBfbzLuK4ZcuWRgI7+IVra0saeCacqq2b675CICkI8FVVjKDmquqzWd/JVWVx/fZr4SBOhciEa0sX/0A5cD/heuOlBTHIJpjrseYQK8ELOSq4egiejs/cieapyT6DLPEnlDGXYBHAqhZmRmXLi8sEK1GI4cmUD+IIgciFSabromlYlFhdGkIG2ctHcuGcz/XkoT1YyoH2wL1F0H2wKAYdtDv5mDHGoM/gConEOhiX0D/Ao6ZCOzKzMBCPTPrAgCn0udqH62gj+mJV5ByiT2BztjifTGUgjT6CpZG/bEI8G5aRfIOms+mJp/P7bJBeLGYsjYCFkr7IR06+kk9fYoYcZDCf8hfzOac+WLbjswXzrVsx81V8mxVTs3QJASFQLQQKJUrVukmBFzHYYJWoihQQF4SFIE6UuB2DUKmIEvoZpKsiSuSjfFURJfKRp6qBGLJRFSboyiV8tWMRwUKRr+TCOZcOiCwuNgY/2gPMsOZwjIUrCOsaDR482EgyeOF+IxgYicZqWcL//oFVMYgS6hiUcxEl8oBBVe1DPtqoKqJEPtqxUKLEdXwA5CJK5GF2ZT5Eg7w1ET4CCiFK3CufvkRb5Fv+Yj7n1CcJRAmcNBsOFCRCQAgIgYWMAGtdsXAhriZifqoiB8UqHkHOrMND/AexW1jacAFG13eC9DB9mz/i1ogdwYWECzC+/lKxyiU9QiDJCIgsJbl1VDYhIATqLQJYk3B9EUeDe2thCO40Ap4JtGeaPkSImVkE/EatgbgFCYQnHwt1EkTPpAARpYXRSvnfg+UHCBoPSxXkf6VyFoqAYpYKRUz56yUCCytm6dgh37m3P/+tqBh27dzY3XBS66LqlDIhIASEgBD4GwHFLP2NhfaEQMkR6N+jpYPcFEvQhU6JEBACQkAIlA4BueFKh600C4FKCHRq10hWoEqoKEEICAEhkGwEZFlKdvuodEJACAgBISAEhEAtIyCyVMsNoNsLASEgBISAEBACyUZAZCnZ7aPSCQEhIASEgBAQArWMgMhSLTeAbi8EhIAQEAJCQAgkGwGRpWS3j0onBISAEBACQkAI1DICIku13AC6vRAQAkJACAgBIZBsBESWkt0+Kp0QEAJCQAgIASFQywhonaVabgDdvrwQ+GLqfHfxqB+Ktop3WJSS9ZskQkAICAEhUBoEZFkqDa7SKgQyIlBMosQN+OkUdEqEgBAQAkKgdAiILJUOW2kWApUQKPbvwnGDUuhE77x589w333zjfvutuL9lh+6ayNSpU933339fExX14trp06e7GTNm1Iu6qBJCIOkIiCwlvYVUPiGQAYFWzRtmSC0s6cMPP3Q33HCDGzx4sLvjjjscx1F58cUX3RZbbOFeeeWVaHKt7+++++7uzDPPTJfj+eefd7feemv6uFx2Dj/8cHf00UeXS3VVTyFQqwgoZqlW4dfNhUDhCAzo2dJ16djYnXz9dDd99h+FK/BXnH322W7o0KGuYcOGbpVVVnG33367W7BggTv22GPdqaee6ho0aFAtvbVxEUQPYnfooYe6RRfVK6022kD3FAL1HQFZlup7C6t+9QoBiNLe3Zq5lZdv5C7r3cpVx8L0yCOPmCVm//33d2+//bZ7/PHH3cSJE12/fv3M0lTXrDTXXHONe+mll0SU6lVPV2WEQLIQEFlKVnuoNEIgKwKBKIUMEz+fVy3LElYYBHLUrFkz219yySXdcccd55Zeemn3xBNPWFr03w8//OCeeuopB9H67rvvoqfS+3/88Yd766233JgxY9wnn3ySTmeHGCPceb/88kuFdPITgxSVL774wr3++uvRpJz7kydPdpMmTUrn4Thczz7leeaZZ9yvv/6azhPdIe6HPC+//LLFaUXPxfdnzZqVrkcuTN55551Kbk1iv8Dg22+/NbXgFY5//vln99xzz7mHH37YTZkyJX3badOmGeZPPvmk+/HHH9Pp0R0sgq+99pobPXp0pXtG8+Wq53vvvWfX0j5PP/206YteO3PmTMOIMhLLJhEC5YaAbNbl1uKqb+IQaL/som7KzAU5yxUnSvc9N8ddds+snNdkO9miRQs79cYbb7gVVlghna1x48ZmZfr999/TaewweOKeY7BnYG7atKm77bbb3EYbbZTOh2WHPAz6TZo0MVK0yy67uEsuucRBxCAWBxxwgB2zRUjbb7/93E477eSuv/76tK6TTjrJLbLIIu6BBx5Ip+XaGTJkiBGdN99807KNGDHCDR8+3MjfFVdcYa5Gyt2hQwcb8EP9ISsQxMcee8wttthiVr/OnTu7m2++2bHNJGDWq1cvu27YsGFZMTnxxBPdcsst50aNGpVWA0mi7meccYY78sgj3dy5c+2Y+kMawYNy4gK98sor3eeff25bXIukL7PMMm7kyJFutdVWS+ucPXu26eB6rqNOBx54oLvgggus3mTMp54DBgywe6RSKffxxx+73XbbzdoXsgaphnwuvvjiVuY2bdoYRuuss066HNoRAvUdAVmW6nsLq36JRmCdTo3dpb2XcxCmbFJMosQ9DjnkELMgDRw40F199dUVLDvt2rVzHTt2rFAUrEnENzGI3nXXXUYQIChBPvroIws03myzzRwWlffff9/ddNNN7tlnn7XgcfIRF9W+fXuLLQrXQcIYyLFWBIKGZePdd9912267bchWre38+fPdCy+8YEQPq8lpp53mvvrqK4vNCgoHDRrkxo8fb4SEMt95551mferfv3/IknULacmFSdYLM5ygnJdffrnh++CDDxpOJ5xwgmMfwvjBBx+4G2+80axzkL+oYIVbf/31HUSROhDwfffdd9u1IV++9aQdu3btaoSSoH/krLPOMhctZaEcDz30kBEmyKBECJQTAiJL5dTaqmuiEIAoDenTynVs0ygrYSo2UQIACBHuHgbZSy+91G2++ebun//8p3v00UfNuhAHicF20003tZggZsexD3EKAslA0IUVCQsH1pIddtjB3X///Q5XGLL99ttbbJEd+H+49XbccUdz62CZQrBgYEUhb00Fa9XKK69sli5mji2xxBIOQoD89NNPNgNw7733dnvttZdr1KiR69atm+vevbuV4dNPP815+6owyXlx7OTBBx9s98aCtN5661l5sPD07dvXbbDBBg6L38477+y6dOmSLn9QseqqqzpIL9YyLHqnnHKKWckIekcKqSfWtIsuusitu+66rlWrVnY9LtK2bdu6tdde29oVMgVhwyII0ZUIgXJBQGSpXFpa9UwcAsv66f9Nm/w16ywTYSoFUQog4JJiBhzT7rFiMCj26dPH9ejRw1xpIR/b4LYKaViIcLcFwQXEALvUUkuFJNtut912jkE/LEmAtYjYF4gW8UPcu2fPnubuISYHmTBhgmvdurVbc8017bgm/6Llxs2GWyzETBHQTtkgZtddd136j/IhWKFySVQ3+eKY5Lo2fg4yFJVg2Vt99dWjyRnvQcxZdOYiuiBcX375pV1bSD2JV8P9GRX6A2QXUnnLLbdYP4HI0leYSSkRAuWCQMUno1xqrXoKgQQgMO7NuW7grX8NzhQnSphKSZSiVYc04VLBZXbOOedYYC+ul0IEYhEnSlzfqVMnUxMICG46BnMCzCFKDMxYc4htwsoEeSHIuqYuuHzKTjwQ8uqrr1pgNMHR/GHZwloDiaqrgsuTWKY///zT4p5qUs+DDjrI3JMQOFyFWCGZRRnIWF3FSOUWAoUikD1QolBNyi8EhEDBCBhhcjPdeb2WtWshTMMGtHFLLvH3d0xNgrnjBYKQsKDjWmutZVak6HlimQiMDrPloudy7RMkzmwsdEetHBARZI011rAtbiIIEy63li1buq233trIEy47YmS4L/FKvXv3tvyl/IcrEiF4GZdSsQUcwKM2hFlvuNEgo8WoJ65X/gjwJ86M/oNFECugRAiUCwJ/v5HLpcaqpxBIGAJxC1OpiBLVZhDHKkBgN7OxosIxVqCwnED0XK79TTbZxH52g0DqqBC4TCwQxCwIrjmsRwy6kCSEmBjceOeff76VD2tTqYUYHGKEsCZFBYITrE7R9EL3cfkRcB2N64kuCVCovmz5mWEXdYniZoSMEt+E1KSe6CXujFg0BKsgs+T22Wcfc8fxcysSIVAuCIgslUtLq56JRgDCNHLcnApl/GzK79VeHqCCotgB8Sa4afbcc08Xpt0zy+2oo46ytXywMBUixx9/vGvevLlZaZhdxqwpiA9kiZXCozE5uNgY0OfMmeMgTkEIYOa6jTfe2JYmCOml2mJxYQkArFnnnnuuERvKi1WL6f2UryaCuwodLBMAOSQInmUKii3EmhG8ztpYlJ99SA7LOCA1qSekmVgsZjaynALkj9lwzIzDLReCwItdJ+kTAklEQG64JLaKylSWCFx1/1/rJvXcbkkHUTrk/L8WLyw2GLjCmA1HbBJuN9b0QXCnMRuKoN5CBJcagygzsRisiZUh7gfXGjEvUVlxxRUtlom1eggoDoKVibWBogQqnCvVlp91IVCbAG/IAJYmLDGsjcSsvpoIRAyXIiSJP8gkZAliVkzB8rPSSis5CCtuMjC96qqrKqyBVZN68tuBp59+us2Ao+xYzCC8C8NVWkycpEsI1BSBBt7sXDuO9ZqWXNcLgSIiMHbsWLfrrrsWUWNmVZv1nZz5RCS1334tXCBOkeScuxOuXTHn+VwnsU5ADmpKELgHs9xw57GAYl0SFl+E9EWtYMUoP1YeLEy4GkspBKTjFuM+0bix+D2rW0+GCVx+kNxc+uP307EQqC8IyLJUX1pS9ag3CBRKlGpa8RAEXFM9XE8QN391TUpFZnBlFRoDVh3ssIrl047VrScEqbrXVqc+ukYIJA0BxSwlrUVUHiEgBISAEBACQiBRCIgsJao5VBghIASEgBAQAkIgaQiILCWtRVSeeo1A186Ni16/UugseiGlUAgIASFQhxEQWarDjaei1z0E+vdo6YpJbtCFTokQEAJCQAiUDgEFeJcOW2kWApUQ6NSukbvhpNaV0pUgBISAEBACyUVAlqXkto1KJgSEgBAQAkJACCQAAZGlBDSCiiAEhIAQEAJCQAgkFwGRpeS2jUomBISAEBACQkAIJAABkaUENIKKIASEgBAQAkJACCQXAZGl5LaNSiYEhIAQEAJCQAgkAIH/B6iyWUnwCQEkAAAAAElFTkSuQmCC)"
      ],
      "metadata": {
        "id": "9sPq0dHFXrvH"
      }
    },
    {
      "cell_type": "markdown",
      "metadata": {
        "id": "Y08ydeBO0-0R"
      },
      "source": [
        "##### ***Задача. Сколько полных дней и часов в 5000 часах?***\n",
        "\n"
      ]
    },
    {
      "cell_type": "code",
      "metadata": {
        "id": "L75LwpMGzEdP",
        "colab": {
          "base_uri": "https://localhost:8080/"
        },
        "outputId": "00acece9-de04-433b-e222-2cc67e4c7dbf"
      },
      "source": [
        "HOURS_IN_DAY = 24  # количество часов в дне постоянно\n",
        "total_hours = 5000  # дано по задаче\n",
        "\n",
        "days = int(total_hours/HOURS_IN_DAY)  # с помощью оператора целочисленного деления вычислить количество дней\n",
        "hours = total_hours % HOURS_IN_DAY # с помощью оператора остатка от деления вычислить оставшееся количество часов\n",
        "\n",
        "print(\"Количество дней =\", days)  # Количество дней = 208\n",
        "print(\"Оставшееся количество часов =\", hours)  # Оставшееся количество часов = 8"
      ],
      "execution_count": 2,
      "outputs": [
        {
          "output_type": "stream",
          "name": "stdout",
          "text": [
            "Количество дней = 208\n",
            "Оставшееся количество часов = 8\n"
          ]
        }
      ]
    },
    {
      "cell_type": "markdown",
      "metadata": {
        "id": "Rf6xls0cVHhj"
      },
      "source": [
        "##### ***Задача. Напечатать последний город в списке.***"
      ]
    },
    {
      "cell_type": "code",
      "metadata": {
        "colab": {
          "base_uri": "https://localhost:8080/"
        },
        "outputId": "f7059223-4067-4210-9bdb-656509ba6461",
        "id": "XSoJcfXxVHhk"
      },
      "source": [
        "list_cities = [\n",
        "    \"Москва\", \n",
        "    \"Санкт-Петербург\", \n",
        "    \"Ижевск\", \n",
        "    \"Владивосток\", \n",
        "    \"Новосибирск\"\n",
        "]\n",
        "\n",
        "print(list_cities[len(list_cities)-1])  # Новосибирск"
      ],
      "execution_count": 5,
      "outputs": [
        {
          "output_type": "stream",
          "name": "stdout",
          "text": [
            "Новосибирск\n"
          ]
        }
      ]
    },
    {
      "cell_type": "markdown",
      "source": [
        "##### ***Задача. Составить список из первых пяти город миллионников.***\n",
        "\n",
        "Вручную составить список из 5 названий городов миллионников  \n",
        "в порядке убывания населения.  \n",
        "С помощью слайсирования напечатать топ 3 городов из этого списка."
      ],
      "metadata": {
        "id": "XL50_PpNhk_X"
      }
    },
    {
      "cell_type": "code",
      "source": [
        "list_cities = [\n",
        "    \"Токио\",\n",
        "    \"Джакарта\",\n",
        "    \"Чунцин\",\n",
        "    \"Дели\",\n",
        "    \"Сеул\"\n",
        "]\n",
        "\n",
        "# TODO с помощью print распечать топ 3 городов из списка\\\n",
        "\n",
        "n=3 # count of cities\n",
        "print(list_cities[0:n])"
      ],
      "metadata": {
        "id": "vaSHHKuAhiHg",
        "colab": {
          "base_uri": "https://localhost:8080/"
        },
        "outputId": "80653fdd-09b8-48c2-fb68-27698b4c3d93"
      },
      "execution_count": 8,
      "outputs": [
        {
          "output_type": "stream",
          "name": "stdout",
          "text": [
            "['Токио', 'Джакарта', 'Чунцин']\n"
          ]
        }
      ]
    },
    {
      "cell_type": "markdown",
      "source": [
        "##### ***Задача***\n",
        "Дан список городов.  \n",
        "Найти все уникальные города. "
      ],
      "metadata": {
        "id": "iYA2_046dsXo"
      }
    },
    {
      "cell_type": "code",
      "source": [
        "list_cities = [\n",
        "    \"Санкт-Петербург\", \"Москва\", \"Сызрань\",  \n",
        "    \"Санкт-Петербург\", \"Санкт-Петербург\", \"Сызрань\", \n",
        "]  # список городов\n",
        "unique_cities = set(list_cities)\n",
        "print(unique_cities)  # {'Москва', 'Санкт-Петербург', 'Сызрань'}"
      ],
      "metadata": {
        "colab": {
          "base_uri": "https://localhost:8080/"
        },
        "id": "988lfoGPd85-",
        "outputId": "d7477377-1023-4a4c-c621-240fa598badb"
      },
      "execution_count": 12,
      "outputs": [
        {
          "output_type": "stream",
          "name": "stdout",
          "text": [
            "{'Санкт-Петербург', 'Сызрань', 'Москва'}\n"
          ]
        }
      ]
    },
    {
      "cell_type": "markdown",
      "source": [
        "##### ***Задача***\n",
        "Дан список городов.  \n",
        "Вручную составить словарь, сколько раз каждый город встречается в списке. "
      ],
      "metadata": {
        "id": "5SzVI6ojdQmI"
      }
    },
    {
      "cell_type": "code",
      "source": [
        "cities = [\n",
        "    \"Москва\",\n",
        "    \"Сызрань\", \"Сызрань\", \n",
        "    \"Санкт-Петербург\", \"Санкт-Петербург\", \"Санкт-Петербург\", \"Санкт-Петербург\"\n",
        "]\n",
        "\n",
        "# словарь с оценками, где по ключу находится оценка, а по значению количество\n",
        "dict_cities = dict.fromkeys( set(cities),) # TODO вручную записать словарь\n",
        "for i in dict_cities:    \n",
        "    dict_cities[i]=cities.count(i)\n",
        "\n",
        "\n",
        "\n",
        "\n",
        "#dict(zip(input_set, range(1, len(s) + 1)))\n",
        "\n",
        "print(dict_cities)  # {'Москва': 1, 'Сызрань': 2, 'Санкт-Петербург': 4}"
      ],
      "metadata": {
        "colab": {
          "base_uri": "https://localhost:8080/"
        },
        "id": "8-e7bPlwdo0s",
        "outputId": "0ffcc91d-3541-41f2-ca17-1ce9d4f36677"
      },
      "execution_count": 31,
      "outputs": [
        {
          "output_type": "stream",
          "name": "stdout",
          "text": [
            "{'Санкт-Петербург': 4, 'Сызрань': 2, 'Москва': 1}\n"
          ]
        }
      ]
    }
  ]
}